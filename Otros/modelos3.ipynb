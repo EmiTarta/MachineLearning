{
 "cells": [
  {
   "cell_type": "code",
   "execution_count": 1,
   "metadata": {},
   "outputs": [],
   "source": [
    "import pandas as pd\n",
    "import numpy as np\n",
    "import sklearn\n",
    "import matplotlib.pyplot as plt\n",
    "import seaborn as sns\n",
    "import pickle\n",
    "import os\n",
    "from sklearn.model_selection import train_test_split, GridSearchCV\n",
    "from sklearn.preprocessing import StandardScaler, PolynomialFeatures\n",
    "from sklearn.metrics import mean_squared_error, mean_absolute_error, r2_score\n",
    "from sklearn.cluster import KMeans\n",
    "import lightgbm as lgb\n",
    "from catboost import CatBoostRegressor, Pool, cv"
   ]
  },
  {
   "cell_type": "code",
   "execution_count": 124,
   "metadata": {},
   "outputs": [],
   "source": [
    "# Cargar el DataFrame desde el archivo\n",
    "with open('../Pickles/df_final.pickle', 'rb') as archivo:\n",
    "    df = pickle.load(archivo)"
   ]
  },
  {
   "cell_type": "code",
   "execution_count": 125,
   "metadata": {},
   "outputs": [],
   "source": [
    "nombres=df.drop(['CompTotal'], axis=1).columns"
   ]
  },
  {
   "cell_type": "code",
   "execution_count": 126,
   "metadata": {},
   "outputs": [
    {
     "data": {
      "text/plain": [
       "False"
      ]
     },
     "execution_count": 126,
     "metadata": {},
     "output_type": "execute_result"
    }
   ],
   "source": [
    "df.isnull().values.any()"
   ]
  },
  {
   "cell_type": "code",
   "execution_count": 127,
   "metadata": {},
   "outputs": [],
   "source": [
    "# Establecer la opción para mostrar todas las columnas\n",
    "pd.set_option('display.max_columns', None)"
   ]
  },
  {
   "cell_type": "code",
   "execution_count": 128,
   "metadata": {},
   "outputs": [
    {
     "name": "stdout",
     "output_type": "stream",
     "text": [
      "Tamaño del DataFrame original: (1934, 397)\n",
      "Tamaño del DataFrame filtrado: (1769, 397)\n"
     ]
    }
   ],
   "source": [
    "limite_inferior = 15000\n",
    "limite_superior = 100000\n",
    "\n",
    "df_filtrado = df[(df['CompTotal'] >= limite_inferior) & (df['CompTotal'] <= limite_superior)]\n",
    "\n",
    "print(f\"Tamaño del DataFrame original: {df.shape}\")\n",
    "print(f\"Tamaño del DataFrame filtrado: {df_filtrado.shape}\")"
   ]
  },
  {
   "cell_type": "code",
   "execution_count": 129,
   "metadata": {},
   "outputs": [],
   "source": [
    "df = df_filtrado"
   ]
  },
  {
   "cell_type": "code",
   "execution_count": 130,
   "metadata": {},
   "outputs": [],
   "source": [
    "y = df['CompTotal']"
   ]
  },
  {
   "cell_type": "code",
   "execution_count": 131,
   "metadata": {},
   "outputs": [],
   "source": [
    "df = df.drop(columns=['CompTotal'], axis=1)"
   ]
  },
  {
   "cell_type": "code",
   "execution_count": 10,
   "metadata": {},
   "outputs": [],
   "source": [
    "from sklearn.model_selection import train_test_split \n",
    "X_train, X_test, y_train, y_test = train_test_split(df,\n",
    "                                                    y,\n",
    "                                                    test_size=0.2,\n",
    "                                                    random_state=42)"
   ]
  },
  {
   "cell_type": "code",
   "execution_count": 11,
   "metadata": {},
   "outputs": [],
   "source": [
    "from sklearn.preprocessing import StandardScaler\n",
    "scaler = StandardScaler()\n",
    "scaler.fit(X_train)\n",
    "X_train = scaler.transform(X_train)\n",
    "X_test = scaler.transform(X_test)"
   ]
  },
  {
   "cell_type": "code",
   "execution_count": 12,
   "metadata": {},
   "outputs": [
    {
     "name": "stdout",
     "output_type": "stream",
     "text": [
      "(1415, 396)\n",
      "(354, 396)\n",
      "(1415,)\n",
      "(354,)\n"
     ]
    }
   ],
   "source": [
    "print(X_train.shape)\n",
    "print(X_test.shape)\n",
    "print(y_train.shape)\n",
    "print(y_test.shape)"
   ]
  },
  {
   "cell_type": "code",
   "execution_count": 13,
   "metadata": {},
   "outputs": [
    {
     "name": "stdout",
     "output_type": "stream",
     "text": [
      "MSE: 136235543.56\n",
      "RMSE: 11672.00\n",
      "MAE: 8917.17\n",
      "R²: 0.70\n",
      "MAPE: 20.35\n"
     ]
    }
   ],
   "source": [
    "best_params = {'colsample_bylevel': 0.7, \n",
    "              'depth': 7, \n",
    "              'grow_policy': 'Depthwise', \n",
    "              'iterations': 300, \n",
    "              'l2_leaf_reg': 7, \n",
    "              'learning_rate': 0.05, \n",
    "              'max_bin': 128, \n",
    "              'min_child_samples': 1, \n",
    "              'subsample': 0.6,\n",
    "              'random_seed' : 42, \n",
    "              'loss_function' : 'RMSE', \n",
    "              'verbose' : 0\n",
    "              }\n",
    "# Crear el modelo CatBoost\n",
    "catboost_model = CatBoostRegressor(**best_params)\n",
    "\n",
    "# Entrenar el modelo \n",
    "catboost_model.fit(X_train, y_train)\n",
    "\n",
    "# Hacer predicciones sobre el conjunto de prueba\n",
    "y_pred = catboost_model.predict(X_test)\n",
    "\n",
    "# --- Evaluación del Modelo ---\n",
    "mse = mean_squared_error(y_test, y_pred)\n",
    "rmse = np.sqrt(mse)\n",
    "mae = mean_absolute_error(y_test, y_pred)\n",
    "r2 = r2_score(y_test, y_pred)\n",
    "mape = np.mean(np.abs((y_test - y_pred) / y_test)) * 100\n",
    "\n",
    "print(f\"MSE: {mse:.2f}\")\n",
    "print(f\"RMSE: {rmse:.2f}\")\n",
    "print(f\"MAE: {mae:.2f}\")\n",
    "print(f\"R²: {r2:.2f}\")\n",
    "print(f\"MAPE: {mape:.2f}\")"
   ]
  },
  {
   "cell_type": "code",
   "execution_count": 14,
   "metadata": {},
   "outputs": [
    {
     "name": "stdout",
     "output_type": "stream",
     "text": [
      "(1415, 50)\n",
      "(354, 50)\n",
      "(1415,)\n",
      "(354,)\n"
     ]
    }
   ],
   "source": [
    "# --- Importancia de las Características (si es necesario) ---\n",
    "feature_importances = catboost_model.get_feature_importance()\n",
    "\n",
    "# Crear un DataFrame para ordenar las importancias\n",
    "importance_df = pd.DataFrame({\n",
    "    'Feature': nombres,\n",
    "    'Importance': feature_importances\n",
    "}).sort_values(by='Importance', ascending=False)\n",
    "\n",
    "# Seleccionar las N características más importantes (por ejemplo, las 10 principales)\n",
    "top_features = importance_df['Feature'].head(50).tolist()  # Cambia el número según desees\n",
    "\n",
    "# Filtrar los DataFrames de entrenamiento y prueba para incluir solo las características seleccionadas\n",
    "\n",
    "# Si tienes los nombres de las columnas originales:\n",
    "X_train = pd.DataFrame(X_train, columns=nombres)\n",
    "X_test = pd.DataFrame(X_test, columns=nombres)\n",
    "\n",
    "# Ahora ya puedes usar .loc:\n",
    "X_train_top = X_train.loc[:, top_features]\n",
    "X_test_top = X_test.loc[:, top_features]\n",
    "\n",
    "print(X_train_top.shape)\n",
    "print(X_test_top.shape)\n",
    "print(y_train.shape)\n",
    "print(y_test.shape) "
   ]
  },
  {
   "cell_type": "code",
   "execution_count": 118,
   "metadata": {},
   "outputs": [
    {
     "data": {
      "text/plain": [
       "array(['LanguageWantToWorkWith_Julia', 'WebframeHaveWorkedWith_Svelte',\n",
       "       'LanguageHaveWorkedWith_Assembly',\n",
       "       'OfficeStackAsyncHaveWorkedWith_Microsoft Planner',\n",
       "       'LanguageHaveWorkedWith_Swift',\n",
       "       'NEWCollabToolsHaveWorkedWith_Xcode',\n",
       "       'MiscTechHaveWorkedWith_Cordova', 'LanguageHaveWorkedWith_Perl',\n",
       "       'PlatformHaveWorkedWith_OVH', 'LanguageHaveWorkedWith_R',\n",
       "       'LanguageWantToWorkWith_PowerShell',\n",
       "       'NEWCollabToolsHaveWorkedWith_Emacs',\n",
       "       'LanguageWantToWorkWith_GDScript',\n",
       "       'ToolsTechHaveWorkedWith_Unity 3D',\n",
       "       'WebframeHaveWorkedWith_CodeIgniter',\n",
       "       'PlatformHaveWorkedWith_Netlify', 'LanguageHaveWorkedWith_MATLAB',\n",
       "       'NEWCollabToolsHaveWorkedWith_DataGrip',\n",
       "       'MiscTechHaveWorkedWith_Tauri',\n",
       "       'MiscTechHaveWorkedWith_Torch/PyTorch',\n",
       "       'LanguageWantToWorkWith_Fortran', 'LanguageHaveWorkedWith_Dart',\n",
       "       'WebframeHaveWorkedWith_AngularJS',\n",
       "       'LanguageWantToWorkWith_Groovy',\n",
       "       'ToolsTechHaveWorkedWith_Chocolatey',\n",
       "       'LanguageHaveWorkedWith_Haskell',\n",
       "       'OfficeStackAsyncHaveWorkedWith_Shortcut', 'is_part_time',\n",
       "       'NEWCollabToolsHaveWorkedWith_RStudio',\n",
       "       'PlatformHaveWorkedWith_Managed Hosting',\n",
       "       'DatabaseHaveWorkedWith_Couch DB', 'LanguageHaveWorkedWith_Apex',\n",
       "       'DatabaseHaveWorkedWith_Firebird', 'MiscTechHaveWorkedWith_GTK',\n",
       "       'NEWCollabToolsHaveWorkedWith_',\n",
       "       'NEWCollabToolsHaveWorkedWith_Kate',\n",
       "       'DatabaseHaveWorkedWith_Cosmos DB', 'MiscTechHaveWorkedWith_Qt',\n",
       "       'ToolsTechHaveWorkedWith_Pacman',\n",
       "       'PlatformHaveWorkedWith_Oracle Cloud Infrastructure (OCI)',\n",
       "       'PlatformHaveWorkedWith_Cloudflare',\n",
       "       'BuyNewTool_Research companies that have emailed me',\n",
       "       'OfficeStackAsyncHaveWorkedWith_Stack Overflow for Teams',\n",
       "       'LanguageHaveWorkedWith_GDScript', 'Age_Grouped_Senior',\n",
       "       'OfficeStackAsyncHaveWorkedWith_Clickup',\n",
       "       'MiscTechHaveWorkedWith_Capacitor',\n",
       "       'NEWCollabToolsHaveWorkedWith_Spyder',\n",
       "       'WebframeHaveWorkedWith_Drupal',\n",
       "       'PlatformHaveWorkedWith_OpenStack', 'LanguageHaveWorkedWith_',\n",
       "       'OfficeStackAsyncHaveWorkedWith_Basecamp',\n",
       "       'MiscTechHaveWorkedWith_Hadoop', 'MiscTechHaveWorkedWith_Electron',\n",
       "       'ToolsTechHaveWorkedWith_pnpm', 'LanguageWantToWorkWith_Assembly',\n",
       "       'LanguageWantToWorkWith_R',\n",
       "       'NEWCollabToolsHaveWorkedWith_Qt Creator',\n",
       "       'DatabaseHaveWorkedWith_Firebase Realtime Database',\n",
       "       'MiscTechHaveWorkedWith_Opencv', 'LanguageHaveWorkedWith_Ada',\n",
       "       'OfficeStackSyncHaveWorkedWith_', 'LanguageWantToWorkWith_Ada',\n",
       "       'OfficeStackAsyncHaveWorkedWith_Doxygen',\n",
       "       'LanguageWantToWorkWith_Apex',\n",
       "       'OfficeStackSyncHaveWorkedWith_Zulip',\n",
       "       'WebframeHaveWorkedWith_Blazor', 'DatabaseHaveWorkedWith_DuckDB',\n",
       "       'LanguageHaveWorkedWith_Cobol',\n",
       "       'NEWCollabToolsHaveWorkedWith_RubyMine',\n",
       "       'NEWCollabToolsHaveWorkedWith_CLion',\n",
       "       'MiscTechHaveWorkedWith_React Native',\n",
       "       'LanguageWantToWorkWith_Zig', 'LanguageWantToWorkWith_F#',\n",
       "       'ToolsTechHaveWorkedWith_Bun', 'WebframeHaveWorkedWith_Laravel',\n",
       "       'LanguageHaveWorkedWith_Fortran',\n",
       "       'OfficeStackAsyncHaveWorkedWith_Monday.com',\n",
       "       'PlatformHaveWorkedWith_Scaleway',\n",
       "       'DatabaseHaveWorkedWith_Supabase',\n",
       "       'NEWCollabToolsHaveWorkedWith_Netbeans',\n",
       "       'PlatformHaveWorkedWith_Vultr', 'WebframeHaveWorkedWith_Remix',\n",
       "       'DatabaseHaveWorkedWith_Cockroachdb',\n",
       "       'WebframeHaveWorkedWith_Solid.js',\n",
       "       'OfficeStackSyncHaveWorkedWith_IRC', 'WebframeHaveWorkedWith_Deno',\n",
       "       'MiscTechHaveWorkedWith_Ktor', 'PlatformHaveWorkedWith_Render',\n",
       "       'OrgSize_Grouped_Desconocido',\n",
       "       'WebframeHaveWorkedWith_Play Framework',\n",
       "       'LanguageHaveWorkedWith_F#',\n",
       "       'OfficeStackAsyncHaveWorkedWith_Smartsheet',\n",
       "       'LanguageHaveWorkedWith_Clojure',\n",
       "       'NEWCollabToolsHaveWorkedWith_Rad Studio (Delphi, C++ Builder)',\n",
       "       'LanguageWantToWorkWith_Objective-C',\n",
       "       'LanguageWantToWorkWith_Perl',\n",
       "       'OfficeStackAsyncHaveWorkedWith_Linear',\n",
       "       'ToolsTechHaveWorkedWith_Chef', 'LanguageWantToWorkWith_MATLAB',\n",
       "       'NEWCollabToolsHaveWorkedWith_Rider',\n",
       "       'MiscTechHaveWorkedWith_SwiftUI', 'ToolsTechHaveWorkedWith_Nix',\n",
       "       'MiscTechHaveWorkedWith_JAX', 'DatabaseHaveWorkedWith_Couchbase',\n",
       "       'DatabaseHaveWorkedWith_Neo4J', 'DatabaseHaveWorkedWith_Snowflake',\n",
       "       'MiscTechHaveWorkedWith_MFC', 'MiscTechHaveWorkedWith_Tidyverse',\n",
       "       'LanguageHaveWorkedWith_Lisp',\n",
       "       'DatabaseHaveWorkedWith_Microsoft Access',\n",
       "       'MiscTechHaveWorkedWith_.NET MAUI',\n",
       "       'MiscTechHaveWorkedWith_Xamarin', 'LanguageWantToWorkWith_Lisp',\n",
       "       'OfficeStackAsyncHaveWorkedWith_Microsoft Lists',\n",
       "       'AIToolCurrently Using_Deployment and monitoring',\n",
       "       'OfficeStackAsyncHaveWorkedWith_YouTrack',\n",
       "       'ToolsTechHaveWorkedWith_Unreal Engine',\n",
       "       'LanguageHaveWorkedWith_Prolog', 'MiscTechHaveWorkedWith_Keras',\n",
       "       'NEWCollabToolsHaveWorkedWith_Code::Blocks',\n",
       "       'LanguageWantToWorkWith_Prolog', 'WebframeHaveWorkedWith_Elm',\n",
       "       'PlatformHaveWorkedWith_Fly.io', 'DatabaseHaveWorkedWith_RavenDB',\n",
       "       'LanguageHaveWorkedWith_Crystal', 'ToolsTechHaveWorkedWith_Dagger',\n",
       "       'NEWCollabToolsHaveWorkedWith_VSCodium',\n",
       "       'WebframeHaveWorkedWith_Fastify', 'LanguageHaveWorkedWith_OCaml',\n",
       "       'OfficeStackSyncHaveWorkedWith_Wire',\n",
       "       'PlatformHaveWorkedWith_Colocation',\n",
       "       'NEWCollabToolsHaveWorkedWith_Fleet',\n",
       "       'NEWCollabToolsHaveWorkedWith_Helix', 'LanguageWantToWorkWith_Nim',\n",
       "       'NEWCollabToolsHaveWorkedWith_Geany', 'is_other_employment',\n",
       "       'DatabaseHaveWorkedWith_Datomic', 'MiscTechHaveWorkedWith_Quarkus',\n",
       "       'PlatformHaveWorkedWith_IBM Cloud Or Watson',\n",
       "       'OfficeStackSyncHaveWorkedWith_Symphony',\n",
       "       'LanguageHaveWorkedWith_Nim',\n",
       "       'OfficeStackSyncHaveWorkedWith_Rocketchat',\n",
       "       'ToolsTechHaveWorkedWith_Pulumi', 'LanguageHaveWorkedWith_Zig',\n",
       "       'LanguageWantToWorkWith_OCaml',\n",
       "       'OfficeStackSyncHaveWorkedWith_Ringcentral',\n",
       "       'OfficeStackSyncHaveWorkedWith_Wickr',\n",
       "       'OfficeStackSyncHaveWorkedWith_Unify Circuit',\n",
       "       'LanguageWantToWorkWith_Crystal'], dtype=object)"
      ]
     },
     "execution_count": 118,
     "metadata": {},
     "output_type": "execute_result"
    }
   ],
   "source": [
    "importance_df.tail(150)['Feature'].values"
   ]
  },
  {
   "cell_type": "code",
   "execution_count": 119,
   "metadata": {},
   "outputs": [],
   "source": [
    "df = df.drop(['LanguageWantToWorkWith_Julia', 'WebframeHaveWorkedWith_Svelte',\n",
    "       'LanguageHaveWorkedWith_Assembly',\n",
    "       'OfficeStackAsyncHaveWorkedWith_Microsoft Planner',\n",
    "       'LanguageHaveWorkedWith_Swift',\n",
    "       'NEWCollabToolsHaveWorkedWith_Xcode',\n",
    "       'MiscTechHaveWorkedWith_Cordova', 'LanguageHaveWorkedWith_Perl',\n",
    "       'PlatformHaveWorkedWith_OVH', 'LanguageHaveWorkedWith_R',\n",
    "       'LanguageWantToWorkWith_PowerShell',\n",
    "       'NEWCollabToolsHaveWorkedWith_Emacs',\n",
    "       'LanguageWantToWorkWith_GDScript',\n",
    "       'ToolsTechHaveWorkedWith_Unity 3D',\n",
    "       'WebframeHaveWorkedWith_CodeIgniter',\n",
    "       'PlatformHaveWorkedWith_Netlify', 'LanguageHaveWorkedWith_MATLAB',\n",
    "       'NEWCollabToolsHaveWorkedWith_DataGrip',\n",
    "       'MiscTechHaveWorkedWith_Tauri',\n",
    "       'MiscTechHaveWorkedWith_Torch/PyTorch',\n",
    "       'LanguageWantToWorkWith_Fortran', 'LanguageHaveWorkedWith_Dart',\n",
    "       'WebframeHaveWorkedWith_AngularJS',\n",
    "       'LanguageWantToWorkWith_Groovy',\n",
    "       'ToolsTechHaveWorkedWith_Chocolatey',\n",
    "       'LanguageHaveWorkedWith_Haskell',\n",
    "       'OfficeStackAsyncHaveWorkedWith_Shortcut', 'is_part_time',\n",
    "       'NEWCollabToolsHaveWorkedWith_RStudio',\n",
    "       'PlatformHaveWorkedWith_Managed Hosting',\n",
    "       'DatabaseHaveWorkedWith_Couch DB', 'LanguageHaveWorkedWith_Apex',\n",
    "       'DatabaseHaveWorkedWith_Firebird', 'MiscTechHaveWorkedWith_GTK',\n",
    "       'NEWCollabToolsHaveWorkedWith_',\n",
    "       'NEWCollabToolsHaveWorkedWith_Kate',\n",
    "       'DatabaseHaveWorkedWith_Cosmos DB', 'MiscTechHaveWorkedWith_Qt',\n",
    "       'ToolsTechHaveWorkedWith_Pacman',\n",
    "       'PlatformHaveWorkedWith_Oracle Cloud Infrastructure (OCI)',\n",
    "       'PlatformHaveWorkedWith_Cloudflare',\n",
    "       'BuyNewTool_Research companies that have emailed me',\n",
    "       'OfficeStackAsyncHaveWorkedWith_Stack Overflow for Teams',\n",
    "       'LanguageHaveWorkedWith_GDScript', 'Age_Grouped_Senior',\n",
    "       'OfficeStackAsyncHaveWorkedWith_Clickup',\n",
    "       'MiscTechHaveWorkedWith_Capacitor',\n",
    "       'NEWCollabToolsHaveWorkedWith_Spyder',\n",
    "       'WebframeHaveWorkedWith_Drupal',\n",
    "       'PlatformHaveWorkedWith_OpenStack', 'LanguageHaveWorkedWith_',\n",
    "       'OfficeStackAsyncHaveWorkedWith_Basecamp',\n",
    "       'MiscTechHaveWorkedWith_Hadoop', 'MiscTechHaveWorkedWith_Electron',\n",
    "       'ToolsTechHaveWorkedWith_pnpm', 'LanguageWantToWorkWith_Assembly',\n",
    "       'LanguageWantToWorkWith_R',\n",
    "       'NEWCollabToolsHaveWorkedWith_Qt Creator',\n",
    "       'DatabaseHaveWorkedWith_Firebase Realtime Database',\n",
    "       'MiscTechHaveWorkedWith_Opencv', 'LanguageHaveWorkedWith_Ada',\n",
    "       'OfficeStackSyncHaveWorkedWith_', 'LanguageWantToWorkWith_Ada',\n",
    "       'OfficeStackAsyncHaveWorkedWith_Doxygen',\n",
    "       'LanguageWantToWorkWith_Apex',\n",
    "       'OfficeStackSyncHaveWorkedWith_Zulip',\n",
    "       'WebframeHaveWorkedWith_Blazor', 'DatabaseHaveWorkedWith_DuckDB',\n",
    "       'LanguageHaveWorkedWith_Cobol',\n",
    "       'NEWCollabToolsHaveWorkedWith_RubyMine',\n",
    "       'NEWCollabToolsHaveWorkedWith_CLion',\n",
    "       'MiscTechHaveWorkedWith_React Native',\n",
    "       'LanguageWantToWorkWith_Zig', 'LanguageWantToWorkWith_F#',\n",
    "       'ToolsTechHaveWorkedWith_Bun', 'WebframeHaveWorkedWith_Laravel',\n",
    "       'LanguageHaveWorkedWith_Fortran',\n",
    "       'OfficeStackAsyncHaveWorkedWith_Monday.com',\n",
    "       'PlatformHaveWorkedWith_Scaleway',\n",
    "       'DatabaseHaveWorkedWith_Supabase',\n",
    "       'NEWCollabToolsHaveWorkedWith_Netbeans',\n",
    "       'PlatformHaveWorkedWith_Vultr', 'WebframeHaveWorkedWith_Remix',\n",
    "       'DatabaseHaveWorkedWith_Cockroachdb',\n",
    "       'WebframeHaveWorkedWith_Solid.js',\n",
    "       'OfficeStackSyncHaveWorkedWith_IRC', 'WebframeHaveWorkedWith_Deno',\n",
    "       'MiscTechHaveWorkedWith_Ktor', 'PlatformHaveWorkedWith_Render',\n",
    "       'OrgSize_Grouped_Desconocido',\n",
    "       'WebframeHaveWorkedWith_Play Framework',\n",
    "       'LanguageHaveWorkedWith_F#',\n",
    "       'OfficeStackAsyncHaveWorkedWith_Smartsheet',\n",
    "       'LanguageHaveWorkedWith_Clojure',\n",
    "       'NEWCollabToolsHaveWorkedWith_Rad Studio (Delphi, C++ Builder)',\n",
    "       'LanguageWantToWorkWith_Objective-C',\n",
    "       'LanguageWantToWorkWith_Perl',\n",
    "       'OfficeStackAsyncHaveWorkedWith_Linear',\n",
    "       'ToolsTechHaveWorkedWith_Chef', 'LanguageWantToWorkWith_MATLAB',\n",
    "       'NEWCollabToolsHaveWorkedWith_Rider',\n",
    "       'MiscTechHaveWorkedWith_SwiftUI', 'ToolsTechHaveWorkedWith_Nix',\n",
    "       'MiscTechHaveWorkedWith_JAX', 'DatabaseHaveWorkedWith_Couchbase',\n",
    "       'DatabaseHaveWorkedWith_Neo4J', 'DatabaseHaveWorkedWith_Snowflake',\n",
    "       'MiscTechHaveWorkedWith_MFC', 'MiscTechHaveWorkedWith_Tidyverse',\n",
    "       'LanguageHaveWorkedWith_Lisp',\n",
    "       'DatabaseHaveWorkedWith_Microsoft Access',\n",
    "       'MiscTechHaveWorkedWith_.NET MAUI',\n",
    "       'MiscTechHaveWorkedWith_Xamarin', 'LanguageWantToWorkWith_Lisp',\n",
    "       'OfficeStackAsyncHaveWorkedWith_Microsoft Lists',\n",
    "       'AIToolCurrently Using_Deployment and monitoring',\n",
    "       'OfficeStackAsyncHaveWorkedWith_YouTrack',\n",
    "       'ToolsTechHaveWorkedWith_Unreal Engine',\n",
    "       'LanguageHaveWorkedWith_Prolog', 'MiscTechHaveWorkedWith_Keras',\n",
    "       'NEWCollabToolsHaveWorkedWith_Code::Blocks',\n",
    "       'LanguageWantToWorkWith_Prolog', 'WebframeHaveWorkedWith_Elm',\n",
    "       'PlatformHaveWorkedWith_Fly.io', 'DatabaseHaveWorkedWith_RavenDB',\n",
    "       'LanguageHaveWorkedWith_Crystal', 'ToolsTechHaveWorkedWith_Dagger',\n",
    "       'NEWCollabToolsHaveWorkedWith_VSCodium',\n",
    "       'WebframeHaveWorkedWith_Fastify', 'LanguageHaveWorkedWith_OCaml',\n",
    "       'OfficeStackSyncHaveWorkedWith_Wire',\n",
    "       'PlatformHaveWorkedWith_Colocation',\n",
    "       'NEWCollabToolsHaveWorkedWith_Fleet',\n",
    "       'NEWCollabToolsHaveWorkedWith_Helix', 'LanguageWantToWorkWith_Nim',\n",
    "       'NEWCollabToolsHaveWorkedWith_Geany', 'is_other_employment',\n",
    "       'DatabaseHaveWorkedWith_Datomic', 'MiscTechHaveWorkedWith_Quarkus',\n",
    "       'PlatformHaveWorkedWith_IBM Cloud Or Watson',\n",
    "       'OfficeStackSyncHaveWorkedWith_Symphony',\n",
    "       'LanguageHaveWorkedWith_Nim',\n",
    "       'OfficeStackSyncHaveWorkedWith_Rocketchat',\n",
    "       'ToolsTechHaveWorkedWith_Pulumi', 'LanguageHaveWorkedWith_Zig',\n",
    "       'LanguageWantToWorkWith_OCaml',\n",
    "       'OfficeStackSyncHaveWorkedWith_Ringcentral',\n",
    "       'OfficeStackSyncHaveWorkedWith_Wickr',\n",
    "       'OfficeStackSyncHaveWorkedWith_Unify Circuit',\n",
    "       'LanguageWantToWorkWith_Crystal'], axis=1) # + 'LanguageWantToWorkWith_MATLAB', 'ToolsTechHaveWorkedWith_Chef', 'OfficeStackAsyncHaveWorkedWith_Linear', "
   ]
  },
  {
   "cell_type": "code",
   "execution_count": 120,
   "metadata": {},
   "outputs": [],
   "source": [
    "X_train, X_test, y_train, y_test = train_test_split(df,\n",
    "                                                    y,\n",
    "                                                    test_size=0.2,\n",
    "                                                    random_state=42)"
   ]
  },
  {
   "cell_type": "code",
   "execution_count": 121,
   "metadata": {},
   "outputs": [],
   "source": [
    "from sklearn.preprocessing import StandardScaler\n",
    "scaler = StandardScaler()\n",
    "scaler.fit(X_train)\n",
    "X_train = scaler.transform(X_train)\n",
    "X_test = scaler.transform(X_test)"
   ]
  },
  {
   "cell_type": "code",
   "execution_count": 122,
   "metadata": {},
   "outputs": [
    {
     "name": "stdout",
     "output_type": "stream",
     "text": [
      "(1415, 246)\n",
      "(354, 246)\n",
      "(1415,)\n",
      "(354,)\n"
     ]
    }
   ],
   "source": [
    "print(X_train.shape)\n",
    "print(X_test.shape)\n",
    "print(y_train.shape)\n",
    "print(y_test.shape)"
   ]
  },
  {
   "cell_type": "code",
   "execution_count": 123,
   "metadata": {},
   "outputs": [
    {
     "name": "stdout",
     "output_type": "stream",
     "text": [
      "MSE: 144458104.06\n",
      "RMSE: 12019.07\n",
      "MAE: 9266.24\n",
      "R²: 0.68\n",
      "MAPE: 21.13\n"
     ]
    }
   ],
   "source": [
    "# Crear el modelo CatBoost\n",
    "catboost_model = CatBoostRegressor(**best_params)\n",
    "\n",
    "# Entrenar el modelo \n",
    "catboost_model.fit(X_train, y_train)\n",
    "\n",
    "# Hacer predicciones sobre el conjunto de prueba\n",
    "y_pred = catboost_model.predict(X_test)\n",
    "\n",
    "# --- Evaluación del Modelo ---\n",
    "mse = mean_squared_error(y_test, y_pred)\n",
    "rmse = np.sqrt(mse)\n",
    "mae = mean_absolute_error(y_test, y_pred)\n",
    "r2 = r2_score(y_test, y_pred)\n",
    "mape = np.mean(np.abs((y_test - y_pred) / y_test)) * 100\n",
    "\n",
    "print(f\"MSE: {mse:.2f}\")\n",
    "print(f\"RMSE: {rmse:.2f}\")\n",
    "print(f\"MAE: {mae:.2f}\")\n",
    "print(f\"R²: {r2:.2f}\")\n",
    "print(f\"MAPE: {mape:.2f}\")"
   ]
  },
  {
   "cell_type": "markdown",
   "metadata": {},
   "source": [
    "Pruebo eliminadno columnas: \n",
    "- LanguageWantToWorkWith_MATLAB: \n",
    "    - MSE: 139936185.68\n",
    "    - RMSE: 11829.46\n",
    "    - MAE: 9002.46\n",
    "    - R²: 0.69\n",
    "    - MAPE: 20.49\n",
    "- LanguageWantToWorkWith_MATLAB y ToolsTechHaveWorkedWith_Chef:\n",
    "    - MSE: 139768834.69\n",
    "    - RMSE: 11822.39\n",
    "    - MAE: 8958.95\n",
    "    - R²: 0.69\n",
    "    - MAPE: 20.43\n",
    "- ToolsTechHaveWorkedWith_Chef:\n",
    "    - MSE: 143268961.64\n",
    "    - RMSE: 11969.50\n",
    "    - MAE: 9114.46\n",
    "    - R²: 0.68\n",
    "    - MAPE: 20.90\n",
    "- LanguageWantToWorkWith_MATLAB, ToolsTechHaveWorkedWith_Chef y OfficeStackAsyncHaveWorkedWith_Linear:\n",
    "    - MSE: 136320556.08\n",
    "    - RMSE: 11675.64\n",
    "    - MAE: 8846.72\n",
    "    - R²: 0.70\n",
    "    - MAPE: 20.13\n",
    "- LanguageWantToWorkWith_MATLAB, ToolsTechHaveWorkedWith_Chef, OfficeStackAsyncHaveWorkedWith_Linear y LanguageWantToWorkWith_Perl:\n",
    "    - MSE: 136416563.51\n",
    "    - RMSE: 11679.75\n",
    "    - MAE: 8866.41\n",
    "    - R²: 0.70\n",
    "    - MAPE: 20.34\n",
    "- drop.tail(50)\n",
    "    - MSE: 134018285.27\n",
    "    - RMSE: 11576.63\n",
    "    - MAE: 8902.83\n",
    "    - R²: 0.70\n",
    "    - MAPE: 20.17\n",
    "- drop.tail(100)\n",
    "    - MSE: 141070392.49\n",
    "    - RMSE: 11877.31\n",
    "    - MAE: 9017.42\n",
    "    - R²: 0.69\n",
    "    - MAPE: 20.65\n",
    "- drop.tail(150)\n",
    "    - MSE: 144458104.06\n",
    "    - RMSE: 12019.07\n",
    "    - MAE: 9266.24\n",
    "    - R²: 0.68\n",
    "    - MAPE: 21.13"
   ]
  },
  {
   "cell_type": "markdown",
   "metadata": {},
   "source": [
    "Pruebo con PCA, pero no mejora. "
   ]
  },
  {
   "cell_type": "code",
   "execution_count": 133,
   "metadata": {},
   "outputs": [
    {
     "name": "stdout",
     "output_type": "stream",
     "text": [
      "Varianza explicada acumulada por 100 componentes: 0.73\n",
      "MSE: 241490568.94\n",
      "RMSE: 15539.97\n",
      "MAE: 11983.64\n",
      "R²: 0.47\n",
      "MAPE: 27.46\n"
     ]
    }
   ],
   "source": [
    "from sklearn.decomposition import PCA\n",
    "\n",
    "# --- Escalado de los datos (es necesario para PCA) ---\n",
    "scaler = StandardScaler()\n",
    "X_train_scaled = scaler.fit_transform(X_train)\n",
    "X_test_scaled = scaler.transform(X_test)\n",
    "\n",
    "# --- Aplicar PCA ---\n",
    "n_components = 100  # Número de componentes principales deseados\n",
    "pca = PCA(n_components=n_components)\n",
    "X_train_pca = pca.fit_transform(X_train_scaled)\n",
    "X_test_pca = pca.transform(X_test_scaled)\n",
    "\n",
    "# Información sobre la varianza explicada\n",
    "print(f\"Varianza explicada acumulada por {n_components} componentes: {sum(pca.explained_variance_ratio_):.2f}\")\n",
    "\n",
    "# --- Crear el modelo CatBoost ---\n",
    "best_params = {\n",
    "    'colsample_bylevel': 0.7,\n",
    "    'depth': 7,\n",
    "    'grow_policy': 'Depthwise',\n",
    "    'iterations': 300,\n",
    "    'l2_leaf_reg': 7,\n",
    "    'learning_rate': 0.05,\n",
    "    'max_bin': 128,\n",
    "    'min_child_samples': 1,\n",
    "    'subsample': 0.6,\n",
    "    'random_seed': 42,\n",
    "    'loss_function': 'RMSE',\n",
    "    'verbose': 0\n",
    "}\n",
    "catboost_model = CatBoostRegressor(**best_params)\n",
    "\n",
    "# Entrenar el modelo con las características reducidas por PCA\n",
    "catboost_model.fit(X_train_pca, y_train)\n",
    "\n",
    "# Hacer predicciones sobre el conjunto de prueba\n",
    "y_pred = catboost_model.predict(X_test_pca)\n",
    "\n",
    "# --- Evaluación del Modelo ---\n",
    "mse = mean_squared_error(y_test, y_pred)\n",
    "rmse = np.sqrt(mse)\n",
    "mae = mean_absolute_error(y_test, y_pred)\n",
    "r2 = r2_score(y_test, y_pred)\n",
    "mape = np.mean(np.abs((y_test - y_pred) / y_test)) * 100\n",
    "\n",
    "print(f\"MSE: {mse:.2f}\")\n",
    "print(f\"RMSE: {rmse:.2f}\")\n",
    "print(f\"MAE: {mae:.2f}\")\n",
    "print(f\"R²: {r2:.2f}\")\n",
    "print(f\"MAPE: {mape:.2f}\")"
   ]
  },
  {
   "cell_type": "code",
   "execution_count": null,
   "metadata": {},
   "outputs": [],
   "source": []
  }
 ],
 "metadata": {
  "kernelspec": {
   "display_name": "proyecto_ml",
   "language": "python",
   "name": "python3"
  },
  "language_info": {
   "codemirror_mode": {
    "name": "ipython",
    "version": 3
   },
   "file_extension": ".py",
   "mimetype": "text/x-python",
   "name": "python",
   "nbconvert_exporter": "python",
   "pygments_lexer": "ipython3",
   "version": "3.10.15"
  }
 },
 "nbformat": 4,
 "nbformat_minor": 2
}
