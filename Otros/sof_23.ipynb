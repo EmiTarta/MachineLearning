{
 "cells": [
  {
   "cell_type": "code",
   "execution_count": 154,
   "metadata": {},
   "outputs": [],
   "source": [
    "import pandas as pd\n",
    "import numpy as np\n",
    "import sklearn\n",
    "import matplotlib.pyplot as plt\n",
    "import seaborn as sns\n",
    "import pickle\n",
    "import os\n",
    "from sklearn.preprocessing import OneHotEncoder\n",
    "from sklearn.preprocessing import MultiLabelBinarizer"
   ]
  },
  {
   "cell_type": "markdown",
   "metadata": {},
   "source": [
    "## 1. Configuración inicial"
   ]
  },
  {
   "cell_type": "code",
   "execution_count": 155,
   "metadata": {},
   "outputs": [],
   "source": [
    "# Establecer la opción para mostrar todas las columnas\n",
    "pd.set_option('display.max_columns', None)"
   ]
  },
  {
   "cell_type": "code",
   "execution_count": 156,
   "metadata": {},
   "outputs": [],
   "source": [
    "# Cargar el DataFrame desde el archivo\n",
    "with open('../Pickles/df23.pickle', 'rb') as archivo:\n",
    "    df = pickle.load(archivo)"
   ]
  },
  {
   "cell_type": "markdown",
   "metadata": {},
   "source": [
    "Elimino columnas que no se utilizarán en el análisisÑ \n",
    "- ResponseId (index)\n",
    "- Check (pregunta en la encuesta para verificar que el encuestado presta atencion a lo que responde)\n",
    "- ConvertedCompYearly (conversion a dolares americanos de los que gana, lo elimino porque tratare solo EUR)"
   ]
  },
  {
   "cell_type": "code",
   "execution_count": 157,
   "metadata": {},
   "outputs": [],
   "source": [
    "df = df.drop(columns=['Q120', 'ConvertedCompYearly', 'Country', 'Currency'])"
   ]
  },
  {
   "cell_type": "markdown",
   "metadata": {},
   "source": [
    "### 2. Codificación de MainBranch\n",
    "Empiezo a trabajar columna por columna con los ecoders. \n",
    "0. MainBranch: Que tipo de programador eres:\n",
    "- I am a developer by profession\n",
    "- I am not primarily a developer, but I write code sometimes as part of my work/studies \n",
    "- I used to be a developer by profession, but no longer am \n",
    "- I am learning to code \n",
    "- I code primarily as a hobby \n",
    "- None of these\n",
    "\n",
    "Decido hacer un Label encoder, con valores del 0 (None of these) al 5 (Developer by profession), ya que quiero que se le de eventualmente mas peso a estos perfiles"
   ]
  },
  {
   "cell_type": "code",
   "execution_count": 158,
   "metadata": {},
   "outputs": [
    {
     "data": {
      "text/plain": [
       "array(['I am a developer by profession',\n",
       "       'I am not primarily a developer, but I write code sometimes as part of my work/studies'],\n",
       "      dtype=object)"
      ]
     },
     "execution_count": 158,
     "metadata": {},
     "output_type": "execute_result"
    }
   ],
   "source": [
    "df['MainBranch'].unique()"
   ]
  },
  {
   "cell_type": "code",
   "execution_count": 159,
   "metadata": {},
   "outputs": [],
   "source": [
    "labels = {#'None of these': 0, \n",
    "        #   'I code primarily as a hobby': 1, \n",
    "        #   'I am learning to code':2,              --------------> todos estos son valores que aparecen en la encuesta, pero no en las respuestas\n",
    "        #   'I used to be a developer by profession, but no longer am':3, \n",
    "          'I am not primarily a developer, but I write code sometimes as part of my work/studies': 4,\n",
    "          'I am a developer by profession':5}\n",
    "df['MainBranch'] = df['MainBranch'].map(labels).fillna(-1)"
   ]
  },
  {
   "cell_type": "code",
   "execution_count": 160,
   "metadata": {},
   "outputs": [
    {
     "data": {
      "text/plain": [
       "0"
      ]
     },
     "execution_count": 160,
     "metadata": {},
     "output_type": "execute_result"
    }
   ],
   "source": [
    "df['MainBranch'].isna().sum()"
   ]
  },
  {
   "cell_type": "markdown",
   "metadata": {},
   "source": [
    "1. Age:\n",
    "- Under 18 years old \n",
    "- 18-24 years old \n",
    "- 25-34 years old \n",
    "- 35-44 years old \n",
    "- 45-54 years old \n",
    "- 55-64 years old \n",
    "- 65 years or older \n",
    "- Prefer not to say\n",
    "\n",
    "Decido hacer un OneHotEncoder: aunque se agregarian mas columnas, no son muchas. No quiero que se le de mas importancia a unas edades que a otras. \n",
    "\n",
    "Antes de hacer el OneHotEncoder verifico que no hayan nans. Si los hay, los trato primero, y leugo hago OneHot"
   ]
  },
  {
   "cell_type": "code",
   "execution_count": 161,
   "metadata": {},
   "outputs": [
    {
     "name": "stdout",
     "output_type": "stream",
     "text": [
      "0\n",
      "object\n",
      "['35-44 years old' '18-24 years old' '25-34 years old' '45-54 years old'\n",
      " '55-64 years old' '65 years or older' 'Under 18 years old']\n"
     ]
    }
   ],
   "source": [
    "print(df['Age'].isna().sum())\n",
    "print(df['Age'].dtype)\n",
    "print(df['Age'].unique())\n",
    "df['Age'] = df['Age'].fillna('Prefer not to say')  # Rellenar NaN con una categoría válida\n",
    "df['Age'] = df['Age'].str.strip()   # por las dudas, elimino espacios vacios que me puedan causar problemas con el One Hot"
   ]
  },
  {
   "cell_type": "code",
   "execution_count": 162,
   "metadata": {},
   "outputs": [],
   "source": [
    "encoder = OneHotEncoder(sparse_output=False)\n",
    "\n",
    "# Aplicamos el OneHotEncoder a la columna 'Age'\n",
    "encoded = encoder.fit_transform(df[['Age']])\n",
    "\n",
    "# Convertimos la matriz de salida a un DataFrame\n",
    "encoded_df = pd.DataFrame(encoded, columns=encoder.get_feature_names_out(['Age']), index=df.index)\n",
    "\n",
    "# Unimos el DataFrame original con las nuevas columnas codificadas\n",
    "df = pd.concat([df, encoded_df], axis=1)"
   ]
  },
  {
   "cell_type": "code",
   "execution_count": 163,
   "metadata": {},
   "outputs": [],
   "source": [
    "df = df.drop('Age', axis=1)"
   ]
  },
  {
   "cell_type": "markdown",
   "metadata": {},
   "source": [
    "Compruebo que todo esta correcto, se han agregado las columnas correspondientes, y las filas siguen igual. Sigo. "
   ]
  },
  {
   "cell_type": "markdown",
   "metadata": {},
   "source": [
    "2. Employment:\n",
    "- Employed, full-time \n",
    "- Employed, part-time \n",
    "- Independent contractor, freelancer, or self-employed\n",
    "- Not employed, but looking for work \n",
    "- Not employed, and not looking for work \n",
    "- Student, full-time \n",
    "- Student, part-time \n",
    "- Retired \n",
    "- I prefer not to say\n",
    "\n",
    "Decido usar un LabelEncoder y darle una mayor importancia al empleado full-time."
   ]
  },
  {
   "cell_type": "code",
   "execution_count": 164,
   "metadata": {},
   "outputs": [
    {
     "data": {
      "text/html": [
       "<div>\n",
       "<style scoped>\n",
       "    .dataframe tbody tr th:only-of-type {\n",
       "        vertical-align: middle;\n",
       "    }\n",
       "\n",
       "    .dataframe tbody tr th {\n",
       "        vertical-align: top;\n",
       "    }\n",
       "\n",
       "    .dataframe thead th {\n",
       "        text-align: right;\n",
       "    }\n",
       "</style>\n",
       "<table border=\"1\" class=\"dataframe\">\n",
       "  <thead>\n",
       "    <tr style=\"text-align: right;\">\n",
       "      <th></th>\n",
       "      <th>MainBranch</th>\n",
       "      <th>Employment</th>\n",
       "      <th>RemoteWork</th>\n",
       "      <th>CodingActivities</th>\n",
       "      <th>EdLevel</th>\n",
       "      <th>LearnCode</th>\n",
       "      <th>LearnCodeOnline</th>\n",
       "      <th>LearnCodeCoursesCert</th>\n",
       "      <th>YearsCode</th>\n",
       "      <th>YearsCodePro</th>\n",
       "      <th>DevType</th>\n",
       "      <th>OrgSize</th>\n",
       "      <th>PurchaseInfluence</th>\n",
       "      <th>TechList</th>\n",
       "      <th>BuyNewTool</th>\n",
       "      <th>CompTotal</th>\n",
       "      <th>LanguageHaveWorkedWith</th>\n",
       "      <th>LanguageWantToWorkWith</th>\n",
       "      <th>DatabaseHaveWorkedWith</th>\n",
       "      <th>DatabaseWantToWorkWith</th>\n",
       "      <th>PlatformHaveWorkedWith</th>\n",
       "      <th>PlatformWantToWorkWith</th>\n",
       "      <th>WebframeHaveWorkedWith</th>\n",
       "      <th>WebframeWantToWorkWith</th>\n",
       "      <th>MiscTechHaveWorkedWith</th>\n",
       "      <th>MiscTechWantToWorkWith</th>\n",
       "      <th>ToolsTechHaveWorkedWith</th>\n",
       "      <th>ToolsTechWantToWorkWith</th>\n",
       "      <th>NEWCollabToolsHaveWorkedWith</th>\n",
       "      <th>NEWCollabToolsWantToWorkWith</th>\n",
       "      <th>OpSysPersonal use</th>\n",
       "      <th>OpSysProfessional use</th>\n",
       "      <th>OfficeStackAsyncHaveWorkedWith</th>\n",
       "      <th>OfficeStackAsyncWantToWorkWith</th>\n",
       "      <th>OfficeStackSyncHaveWorkedWith</th>\n",
       "      <th>OfficeStackSyncWantToWorkWith</th>\n",
       "      <th>AISearchHaveWorkedWith</th>\n",
       "      <th>AISearchWantToWorkWith</th>\n",
       "      <th>AIDevHaveWorkedWith</th>\n",
       "      <th>AIDevWantToWorkWith</th>\n",
       "      <th>NEWSOSites</th>\n",
       "      <th>SOVisitFreq</th>\n",
       "      <th>SOAccount</th>\n",
       "      <th>SOPartFreq</th>\n",
       "      <th>SOComm</th>\n",
       "      <th>SOAI</th>\n",
       "      <th>AISelect</th>\n",
       "      <th>AISent</th>\n",
       "      <th>AIAcc</th>\n",
       "      <th>AIBen</th>\n",
       "      <th>AIToolInterested in Using</th>\n",
       "      <th>AIToolCurrently Using</th>\n",
       "      <th>AIToolNot interested in Using</th>\n",
       "      <th>AINextVery different</th>\n",
       "      <th>AINextNeither different nor similar</th>\n",
       "      <th>AINextSomewhat similar</th>\n",
       "      <th>AINextVery similar</th>\n",
       "      <th>AINextSomewhat different</th>\n",
       "      <th>TBranch</th>\n",
       "      <th>ICorPM</th>\n",
       "      <th>WorkExp</th>\n",
       "      <th>Knowledge_1</th>\n",
       "      <th>Knowledge_2</th>\n",
       "      <th>Knowledge_3</th>\n",
       "      <th>Knowledge_4</th>\n",
       "      <th>Knowledge_5</th>\n",
       "      <th>Knowledge_6</th>\n",
       "      <th>Knowledge_7</th>\n",
       "      <th>Knowledge_8</th>\n",
       "      <th>Frequency_1</th>\n",
       "      <th>Frequency_2</th>\n",
       "      <th>Frequency_3</th>\n",
       "      <th>TimeSearching</th>\n",
       "      <th>TimeAnswering</th>\n",
       "      <th>ProfessionalTech</th>\n",
       "      <th>Industry</th>\n",
       "      <th>SurveyLength</th>\n",
       "      <th>SurveyEase</th>\n",
       "      <th>Age_18-24 years old</th>\n",
       "      <th>Age_25-34 years old</th>\n",
       "      <th>Age_35-44 years old</th>\n",
       "      <th>Age_45-54 years old</th>\n",
       "      <th>Age_55-64 years old</th>\n",
       "      <th>Age_65 years or older</th>\n",
       "      <th>Age_Under 18 years old</th>\n",
       "    </tr>\n",
       "  </thead>\n",
       "  <tbody>\n",
       "    <tr>\n",
       "      <th>0</th>\n",
       "      <td>5</td>\n",
       "      <td>Employed, full-time</td>\n",
       "      <td>Hybrid (some remote, some in-person)</td>\n",
       "      <td>Hobby</td>\n",
       "      <td>Master’s degree (M.A., M.S., M.Eng., MBA, etc.)</td>\n",
       "      <td>Books / Physical media;School (i.e., Universit...</td>\n",
       "      <td>NaN</td>\n",
       "      <td>NaN</td>\n",
       "      <td>Less than 1 year</td>\n",
       "      <td>10</td>\n",
       "      <td>Developer, back-end</td>\n",
       "      <td>2 to 9 employees</td>\n",
       "      <td>I have little or no influence</td>\n",
       "      <td>NaN</td>\n",
       "      <td>Start a free trial;Ask developers I know/work ...</td>\n",
       "      <td>35000.0</td>\n",
       "      <td>Clojure;PHP</td>\n",
       "      <td>Bash/Shell (all shells);HTML/CSS;JavaScript;Ko...</td>\n",
       "      <td>MariaDB;SQLite;Supabase</td>\n",
       "      <td>PostgreSQL</td>\n",
       "      <td>NaN</td>\n",
       "      <td>NaN</td>\n",
       "      <td>NaN</td>\n",
       "      <td>NaN</td>\n",
       "      <td>Capacitor</td>\n",
       "      <td>NaN</td>\n",
       "      <td>NaN</td>\n",
       "      <td>NaN</td>\n",
       "      <td>Emacs</td>\n",
       "      <td>Emacs;PhpStorm</td>\n",
       "      <td>Debian;Other Linux-based</td>\n",
       "      <td>Debian;Other Linux-based</td>\n",
       "      <td>NaN</td>\n",
       "      <td>NaN</td>\n",
       "      <td>Slack</td>\n",
       "      <td>Slack;Zoom</td>\n",
       "      <td>NaN</td>\n",
       "      <td>NaN</td>\n",
       "      <td>NaN</td>\n",
       "      <td>NaN</td>\n",
       "      <td>Stack Overflow</td>\n",
       "      <td>Multiple times per day</td>\n",
       "      <td>Yes</td>\n",
       "      <td>Less than once per month or monthly</td>\n",
       "      <td>Yes, somewhat</td>\n",
       "      <td>NaN</td>\n",
       "      <td>Yes</td>\n",
       "      <td>Favorable</td>\n",
       "      <td>Increase productivity</td>\n",
       "      <td>Neither trust nor distrust</td>\n",
       "      <td>NaN</td>\n",
       "      <td>Learning about a codebase;Writing code;Documen...</td>\n",
       "      <td>NaN</td>\n",
       "      <td>NaN</td>\n",
       "      <td>NaN</td>\n",
       "      <td>NaN</td>\n",
       "      <td>NaN</td>\n",
       "      <td>NaN</td>\n",
       "      <td>Yes</td>\n",
       "      <td>Individual contributor</td>\n",
       "      <td>10.0</td>\n",
       "      <td>Strongly agree</td>\n",
       "      <td>Agree</td>\n",
       "      <td>Agree</td>\n",
       "      <td>Agree</td>\n",
       "      <td>Agree</td>\n",
       "      <td>Agree</td>\n",
       "      <td>Agree</td>\n",
       "      <td>Agree</td>\n",
       "      <td>1-2 times a week</td>\n",
       "      <td>1-2 times a week</td>\n",
       "      <td>1-2 times a week</td>\n",
       "      <td>Less than 15 minutes a day</td>\n",
       "      <td>Less than 15 minutes a day</td>\n",
       "      <td>DevOps function;Microservices;Automated testin...</td>\n",
       "      <td>Information Services, IT, Software Development...</td>\n",
       "      <td>Too long</td>\n",
       "      <td>Neither easy nor difficult</td>\n",
       "      <td>0.0</td>\n",
       "      <td>0.0</td>\n",
       "      <td>1.0</td>\n",
       "      <td>0.0</td>\n",
       "      <td>0.0</td>\n",
       "      <td>0.0</td>\n",
       "      <td>0.0</td>\n",
       "    </tr>\n",
       "    <tr>\n",
       "      <th>1</th>\n",
       "      <td>5</td>\n",
       "      <td>Employed, full-time</td>\n",
       "      <td>Remote</td>\n",
       "      <td>Hobby;Freelance/contract work</td>\n",
       "      <td>Associate degree (A.A., A.S., etc.)</td>\n",
       "      <td>On the job training;School (i.e., University, ...</td>\n",
       "      <td>NaN</td>\n",
       "      <td>NaN</td>\n",
       "      <td>15</td>\n",
       "      <td>15</td>\n",
       "      <td>Developer, back-end</td>\n",
       "      <td>10,000 or more employees</td>\n",
       "      <td>I have little or no influence</td>\n",
       "      <td>NaN</td>\n",
       "      <td>Ask developers I know/work with;Visit develope...</td>\n",
       "      <td>70000.0</td>\n",
       "      <td>Elixir;Go;Java;JavaScript;PHP;Ruby</td>\n",
       "      <td>Elixir;Go;Java;JavaScript;Kotlin;Rust</td>\n",
       "      <td>MySQL;PostgreSQL;Redis</td>\n",
       "      <td>NaN</td>\n",
       "      <td>Amazon Web Services (AWS);Digital Ocean;Google...</td>\n",
       "      <td>Amazon Web Services (AWS);Digital Ocean;Google...</td>\n",
       "      <td>jQuery;Node.js;Spring Boot;WordPress</td>\n",
       "      <td>Node.js;Phoenix;Spring Boot</td>\n",
       "      <td>NaN</td>\n",
       "      <td>NaN</td>\n",
       "      <td>Docker;Gradle;Homebrew;Kubernetes;Maven (build...</td>\n",
       "      <td>Docker;Gradle;Homebrew;Kubernetes;Maven (build...</td>\n",
       "      <td>IntelliJ IDEA;Vim;Visual Studio Code</td>\n",
       "      <td>IntelliJ IDEA;Vim;Visual Studio Code</td>\n",
       "      <td>MacOS;Windows</td>\n",
       "      <td>MacOS</td>\n",
       "      <td>Confluence;GitHub Discussions</td>\n",
       "      <td>GitHub Discussions</td>\n",
       "      <td>Skype;Slack;Zoom</td>\n",
       "      <td>Skype;Slack;Zoom</td>\n",
       "      <td>ChatGPT</td>\n",
       "      <td>ChatGPT</td>\n",
       "      <td>NaN</td>\n",
       "      <td>NaN</td>\n",
       "      <td>Stack Overflow</td>\n",
       "      <td>A few times per month or weekly</td>\n",
       "      <td>Yes</td>\n",
       "      <td>Less than once per month or monthly</td>\n",
       "      <td>No, not really</td>\n",
       "      <td>Yes</td>\n",
       "      <td>No, but I plan to soon</td>\n",
       "      <td>Indifferent</td>\n",
       "      <td>NaN</td>\n",
       "      <td>Neither trust nor distrust</td>\n",
       "      <td>NaN</td>\n",
       "      <td>NaN</td>\n",
       "      <td>NaN</td>\n",
       "      <td>NaN</td>\n",
       "      <td>NaN</td>\n",
       "      <td>NaN</td>\n",
       "      <td>NaN</td>\n",
       "      <td>NaN</td>\n",
       "      <td>Yes</td>\n",
       "      <td>Individual contributor</td>\n",
       "      <td>15.0</td>\n",
       "      <td>Agree</td>\n",
       "      <td>Agree</td>\n",
       "      <td>Disagree</td>\n",
       "      <td>Agree</td>\n",
       "      <td>Agree</td>\n",
       "      <td>Agree</td>\n",
       "      <td>Neither agree nor disagree</td>\n",
       "      <td>Agree</td>\n",
       "      <td>1-2 times a week</td>\n",
       "      <td>1-2 times a week</td>\n",
       "      <td>1-2 times a week</td>\n",
       "      <td>15-30 minutes a day</td>\n",
       "      <td>30-60 minutes a day</td>\n",
       "      <td>DevOps function;Microservices;Automated testin...</td>\n",
       "      <td>Information Services, IT, Software Development...</td>\n",
       "      <td>Appropriate in length</td>\n",
       "      <td>Neither easy nor difficult</td>\n",
       "      <td>0.0</td>\n",
       "      <td>0.0</td>\n",
       "      <td>1.0</td>\n",
       "      <td>0.0</td>\n",
       "      <td>0.0</td>\n",
       "      <td>0.0</td>\n",
       "      <td>0.0</td>\n",
       "    </tr>\n",
       "    <tr>\n",
       "      <th>2</th>\n",
       "      <td>5</td>\n",
       "      <td>Employed, full-time</td>\n",
       "      <td>Hybrid (some remote, some in-person)</td>\n",
       "      <td>Hobby;Professional development or self-paced l...</td>\n",
       "      <td>Bachelor’s degree (B.A., B.S., B.Eng., etc.)</td>\n",
       "      <td>Online Courses or Certification;On the job tra...</td>\n",
       "      <td>Formal documentation provided by the owner of ...</td>\n",
       "      <td>Udemy</td>\n",
       "      <td>5</td>\n",
       "      <td>3</td>\n",
       "      <td>Developer, full-stack</td>\n",
       "      <td>10,000 or more employees</td>\n",
       "      <td>I have little or no influence</td>\n",
       "      <td>NaN</td>\n",
       "      <td>Start a free trial;Ask developers I know/work ...</td>\n",
       "      <td>25000.0</td>\n",
       "      <td>C#;HTML/CSS;JavaScript;TypeScript</td>\n",
       "      <td>Bash/Shell (all shells);HTML/CSS;Java;JavaScri...</td>\n",
       "      <td>Dynamodb;PostgreSQL</td>\n",
       "      <td>BigQuery;Dynamodb;Elasticsearch;PostgreSQL;Redis</td>\n",
       "      <td>Amazon Web Services (AWS);Digital Ocean;Google...</td>\n",
       "      <td>Amazon Web Services (AWS);Google Cloud;OpenShi...</td>\n",
       "      <td>Express;Node.js;Nuxt.js;React;Vue.js</td>\n",
       "      <td>AngularJS;Deno;Express;Next.js;Node.js;React</td>\n",
       "      <td>NaN</td>\n",
       "      <td>NaN</td>\n",
       "      <td>Docker;npm</td>\n",
       "      <td>Ansible;Docker;Kubernetes;npm;Yarn</td>\n",
       "      <td>Visual Studio Code</td>\n",
       "      <td>Visual Studio Code</td>\n",
       "      <td>Android;Windows</td>\n",
       "      <td>Windows;Windows Subsystem for Linux (WSL)</td>\n",
       "      <td>Asana;Trello</td>\n",
       "      <td>Jira</td>\n",
       "      <td>Microsoft Teams</td>\n",
       "      <td>Microsoft Teams</td>\n",
       "      <td>NaN</td>\n",
       "      <td>NaN</td>\n",
       "      <td>NaN</td>\n",
       "      <td>NaN</td>\n",
       "      <td>Stack Overflow;Stack Exchange;Collectives on S...</td>\n",
       "      <td>Daily or almost daily</td>\n",
       "      <td>Yes</td>\n",
       "      <td>A few times per month or weekly</td>\n",
       "      <td>Neutral</td>\n",
       "      <td>NaN</td>\n",
       "      <td>No, but I plan to soon</td>\n",
       "      <td>Unsure</td>\n",
       "      <td>NaN</td>\n",
       "      <td>Neither trust nor distrust</td>\n",
       "      <td>NaN</td>\n",
       "      <td>NaN</td>\n",
       "      <td>NaN</td>\n",
       "      <td>NaN</td>\n",
       "      <td>NaN</td>\n",
       "      <td>NaN</td>\n",
       "      <td>NaN</td>\n",
       "      <td>NaN</td>\n",
       "      <td>Yes</td>\n",
       "      <td>Individual contributor</td>\n",
       "      <td>3.0</td>\n",
       "      <td>Agree</td>\n",
       "      <td>Neither agree nor disagree</td>\n",
       "      <td>Neither agree nor disagree</td>\n",
       "      <td>Agree</td>\n",
       "      <td>Agree</td>\n",
       "      <td>Agree</td>\n",
       "      <td>Neither agree nor disagree</td>\n",
       "      <td>Agree</td>\n",
       "      <td>Never</td>\n",
       "      <td>1-2 times a week</td>\n",
       "      <td>Never</td>\n",
       "      <td>30-60 minutes a day</td>\n",
       "      <td>15-30 minutes a day</td>\n",
       "      <td>DevOps function;Microservices;Automated testin...</td>\n",
       "      <td>Information Services, IT, Software Development...</td>\n",
       "      <td>Too long</td>\n",
       "      <td>Neither easy nor difficult</td>\n",
       "      <td>1.0</td>\n",
       "      <td>0.0</td>\n",
       "      <td>0.0</td>\n",
       "      <td>0.0</td>\n",
       "      <td>0.0</td>\n",
       "      <td>0.0</td>\n",
       "      <td>0.0</td>\n",
       "    </tr>\n",
       "    <tr>\n",
       "      <th>3</th>\n",
       "      <td>5</td>\n",
       "      <td>Employed, full-time</td>\n",
       "      <td>Hybrid (some remote, some in-person)</td>\n",
       "      <td>I don’t code outside of work</td>\n",
       "      <td>Bachelor’s degree (B.A., B.S., B.Eng., etc.)</td>\n",
       "      <td>Online Courses or Certification;On the job tra...</td>\n",
       "      <td>Formal documentation provided by the owner of ...</td>\n",
       "      <td>edX;Udemy;Coursera</td>\n",
       "      <td>4</td>\n",
       "      <td>2</td>\n",
       "      <td>Developer, front-end</td>\n",
       "      <td>500 to 999 employees</td>\n",
       "      <td>I have little or no influence</td>\n",
       "      <td>NaN</td>\n",
       "      <td>NaN</td>\n",
       "      <td>35000.0</td>\n",
       "      <td>HTML/CSS;JavaScript;TypeScript</td>\n",
       "      <td>HTML/CSS;Java;JavaScript;TypeScript</td>\n",
       "      <td>NaN</td>\n",
       "      <td>NaN</td>\n",
       "      <td>NaN</td>\n",
       "      <td>NaN</td>\n",
       "      <td>Angular</td>\n",
       "      <td>Angular</td>\n",
       "      <td>NaN</td>\n",
       "      <td>NaN</td>\n",
       "      <td>NaN</td>\n",
       "      <td>NaN</td>\n",
       "      <td>Visual Studio Code</td>\n",
       "      <td>Visual Studio Code</td>\n",
       "      <td>MacOS</td>\n",
       "      <td>NaN</td>\n",
       "      <td>Confluence;GitHub Discussions;Jira;Miro</td>\n",
       "      <td>NaN</td>\n",
       "      <td>Google Meet;Slack;Zoom</td>\n",
       "      <td>NaN</td>\n",
       "      <td>ChatGPT</td>\n",
       "      <td>NaN</td>\n",
       "      <td>NaN</td>\n",
       "      <td>NaN</td>\n",
       "      <td>Stack Overflow;Stack Exchange</td>\n",
       "      <td>A few times per week</td>\n",
       "      <td>Yes</td>\n",
       "      <td>Less than once per month or monthly</td>\n",
       "      <td>Yes, somewhat</td>\n",
       "      <td>NaN</td>\n",
       "      <td>Yes</td>\n",
       "      <td>Indifferent</td>\n",
       "      <td>NaN</td>\n",
       "      <td>NaN</td>\n",
       "      <td>NaN</td>\n",
       "      <td>NaN</td>\n",
       "      <td>NaN</td>\n",
       "      <td>NaN</td>\n",
       "      <td>NaN</td>\n",
       "      <td>NaN</td>\n",
       "      <td>NaN</td>\n",
       "      <td>NaN</td>\n",
       "      <td>No</td>\n",
       "      <td>NaN</td>\n",
       "      <td>NaN</td>\n",
       "      <td>NaN</td>\n",
       "      <td>NaN</td>\n",
       "      <td>NaN</td>\n",
       "      <td>NaN</td>\n",
       "      <td>NaN</td>\n",
       "      <td>NaN</td>\n",
       "      <td>NaN</td>\n",
       "      <td>NaN</td>\n",
       "      <td>NaN</td>\n",
       "      <td>NaN</td>\n",
       "      <td>NaN</td>\n",
       "      <td>NaN</td>\n",
       "      <td>NaN</td>\n",
       "      <td>NaN</td>\n",
       "      <td>NaN</td>\n",
       "      <td>Too long</td>\n",
       "      <td>Neither easy nor difficult</td>\n",
       "      <td>0.0</td>\n",
       "      <td>1.0</td>\n",
       "      <td>0.0</td>\n",
       "      <td>0.0</td>\n",
       "      <td>0.0</td>\n",
       "      <td>0.0</td>\n",
       "      <td>0.0</td>\n",
       "    </tr>\n",
       "    <tr>\n",
       "      <th>4</th>\n",
       "      <td>5</td>\n",
       "      <td>Employed, full-time</td>\n",
       "      <td>Hybrid (some remote, some in-person)</td>\n",
       "      <td>Hobby;Contribute to open-source projects;Profe...</td>\n",
       "      <td>Professional degree (JD, MD, Ph.D, Ed.D, etc.)</td>\n",
       "      <td>Online Courses or Certification;Other online r...</td>\n",
       "      <td>How-to videos;Video-based Online Courses;Writt...</td>\n",
       "      <td>Udemy;Coursera</td>\n",
       "      <td>15</td>\n",
       "      <td>10</td>\n",
       "      <td>Product manager</td>\n",
       "      <td>1,000 to 4,999 employees</td>\n",
       "      <td>I have little or no influence</td>\n",
       "      <td>NaN</td>\n",
       "      <td>Start a free trial;Ask developers I know/work ...</td>\n",
       "      <td>42000.0</td>\n",
       "      <td>Bash/Shell (all shells);C;C#;HTML/CSS;Java;Jav...</td>\n",
       "      <td>Kotlin</td>\n",
       "      <td>Elasticsearch;Microsoft Access;Microsoft SQL S...</td>\n",
       "      <td>Neo4J;Redis</td>\n",
       "      <td>Amazon Web Services (AWS);Microsoft Azure</td>\n",
       "      <td>NaN</td>\n",
       "      <td>jQuery;Node.js;Spring Boot</td>\n",
       "      <td>Angular</td>\n",
       "      <td>Hadoop;Spring Framework</td>\n",
       "      <td>Pandas</td>\n",
       "      <td>Maven (build tool);npm;Pip;Visual Studio Solution</td>\n",
       "      <td>Ansible;Chef</td>\n",
       "      <td>Eclipse;IntelliJ IDEA;Notepad++;Sublime Text;V...</td>\n",
       "      <td>NaN</td>\n",
       "      <td>Ubuntu;Windows</td>\n",
       "      <td>NaN</td>\n",
       "      <td>Jira;Redmine;Trello</td>\n",
       "      <td>NaN</td>\n",
       "      <td>Discord;Google Chat;Microsoft Teams;Whatsapp;Zoom</td>\n",
       "      <td>NaN</td>\n",
       "      <td>ChatGPT</td>\n",
       "      <td>NaN</td>\n",
       "      <td>GitHub Copilot</td>\n",
       "      <td>NaN</td>\n",
       "      <td>Stack Overflow</td>\n",
       "      <td>Multiple times per day</td>\n",
       "      <td>Yes</td>\n",
       "      <td>A few times per week</td>\n",
       "      <td>Yes, definitely</td>\n",
       "      <td>As long as it offers true and useful informati...</td>\n",
       "      <td>Yes</td>\n",
       "      <td>Favorable</td>\n",
       "      <td>Other (please explain);Increase productivity</td>\n",
       "      <td>Somewhat trust</td>\n",
       "      <td>Learning about a codebase;Documenting code;Tes...</td>\n",
       "      <td>Writing code;Debugging and getting help</td>\n",
       "      <td>Project planning;Deployment and monitoring;Col...</td>\n",
       "      <td>Debugging and getting help</td>\n",
       "      <td>NaN</td>\n",
       "      <td>NaN</td>\n",
       "      <td>NaN</td>\n",
       "      <td>Writing code</td>\n",
       "      <td>No</td>\n",
       "      <td>NaN</td>\n",
       "      <td>NaN</td>\n",
       "      <td>NaN</td>\n",
       "      <td>NaN</td>\n",
       "      <td>NaN</td>\n",
       "      <td>NaN</td>\n",
       "      <td>NaN</td>\n",
       "      <td>NaN</td>\n",
       "      <td>NaN</td>\n",
       "      <td>NaN</td>\n",
       "      <td>NaN</td>\n",
       "      <td>NaN</td>\n",
       "      <td>NaN</td>\n",
       "      <td>NaN</td>\n",
       "      <td>NaN</td>\n",
       "      <td>NaN</td>\n",
       "      <td>NaN</td>\n",
       "      <td>Appropriate in length</td>\n",
       "      <td>Neither easy nor difficult</td>\n",
       "      <td>0.0</td>\n",
       "      <td>0.0</td>\n",
       "      <td>1.0</td>\n",
       "      <td>0.0</td>\n",
       "      <td>0.0</td>\n",
       "      <td>0.0</td>\n",
       "      <td>0.0</td>\n",
       "    </tr>\n",
       "  </tbody>\n",
       "</table>\n",
       "</div>"
      ],
      "text/plain": [
       "   MainBranch           Employment                            RemoteWork  \\\n",
       "0           5  Employed, full-time  Hybrid (some remote, some in-person)   \n",
       "1           5  Employed, full-time                                Remote   \n",
       "2           5  Employed, full-time  Hybrid (some remote, some in-person)   \n",
       "3           5  Employed, full-time  Hybrid (some remote, some in-person)   \n",
       "4           5  Employed, full-time  Hybrid (some remote, some in-person)   \n",
       "\n",
       "                                    CodingActivities  \\\n",
       "0                                              Hobby   \n",
       "1                      Hobby;Freelance/contract work   \n",
       "2  Hobby;Professional development or self-paced l...   \n",
       "3                       I don’t code outside of work   \n",
       "4  Hobby;Contribute to open-source projects;Profe...   \n",
       "\n",
       "                                           EdLevel  \\\n",
       "0  Master’s degree (M.A., M.S., M.Eng., MBA, etc.)   \n",
       "1              Associate degree (A.A., A.S., etc.)   \n",
       "2     Bachelor’s degree (B.A., B.S., B.Eng., etc.)   \n",
       "3     Bachelor’s degree (B.A., B.S., B.Eng., etc.)   \n",
       "4   Professional degree (JD, MD, Ph.D, Ed.D, etc.)   \n",
       "\n",
       "                                           LearnCode  \\\n",
       "0  Books / Physical media;School (i.e., Universit...   \n",
       "1  On the job training;School (i.e., University, ...   \n",
       "2  Online Courses or Certification;On the job tra...   \n",
       "3  Online Courses or Certification;On the job tra...   \n",
       "4  Online Courses or Certification;Other online r...   \n",
       "\n",
       "                                     LearnCodeOnline LearnCodeCoursesCert  \\\n",
       "0                                                NaN                  NaN   \n",
       "1                                                NaN                  NaN   \n",
       "2  Formal documentation provided by the owner of ...                Udemy   \n",
       "3  Formal documentation provided by the owner of ...   edX;Udemy;Coursera   \n",
       "4  How-to videos;Video-based Online Courses;Writt...       Udemy;Coursera   \n",
       "\n",
       "          YearsCode YearsCodePro                DevType  \\\n",
       "0  Less than 1 year           10    Developer, back-end   \n",
       "1                15           15    Developer, back-end   \n",
       "2                 5            3  Developer, full-stack   \n",
       "3                 4            2   Developer, front-end   \n",
       "4                15           10        Product manager   \n",
       "\n",
       "                    OrgSize              PurchaseInfluence TechList  \\\n",
       "0          2 to 9 employees  I have little or no influence      NaN   \n",
       "1  10,000 or more employees  I have little or no influence      NaN   \n",
       "2  10,000 or more employees  I have little or no influence      NaN   \n",
       "3      500 to 999 employees  I have little or no influence      NaN   \n",
       "4  1,000 to 4,999 employees  I have little or no influence      NaN   \n",
       "\n",
       "                                          BuyNewTool  CompTotal  \\\n",
       "0  Start a free trial;Ask developers I know/work ...    35000.0   \n",
       "1  Ask developers I know/work with;Visit develope...    70000.0   \n",
       "2  Start a free trial;Ask developers I know/work ...    25000.0   \n",
       "3                                                NaN    35000.0   \n",
       "4  Start a free trial;Ask developers I know/work ...    42000.0   \n",
       "\n",
       "                              LanguageHaveWorkedWith  \\\n",
       "0                                        Clojure;PHP   \n",
       "1                 Elixir;Go;Java;JavaScript;PHP;Ruby   \n",
       "2                  C#;HTML/CSS;JavaScript;TypeScript   \n",
       "3                     HTML/CSS;JavaScript;TypeScript   \n",
       "4  Bash/Shell (all shells);C;C#;HTML/CSS;Java;Jav...   \n",
       "\n",
       "                              LanguageWantToWorkWith  \\\n",
       "0  Bash/Shell (all shells);HTML/CSS;JavaScript;Ko...   \n",
       "1              Elixir;Go;Java;JavaScript;Kotlin;Rust   \n",
       "2  Bash/Shell (all shells);HTML/CSS;Java;JavaScri...   \n",
       "3                HTML/CSS;Java;JavaScript;TypeScript   \n",
       "4                                             Kotlin   \n",
       "\n",
       "                              DatabaseHaveWorkedWith  \\\n",
       "0                            MariaDB;SQLite;Supabase   \n",
       "1                             MySQL;PostgreSQL;Redis   \n",
       "2                                Dynamodb;PostgreSQL   \n",
       "3                                                NaN   \n",
       "4  Elasticsearch;Microsoft Access;Microsoft SQL S...   \n",
       "\n",
       "                             DatabaseWantToWorkWith  \\\n",
       "0                                        PostgreSQL   \n",
       "1                                               NaN   \n",
       "2  BigQuery;Dynamodb;Elasticsearch;PostgreSQL;Redis   \n",
       "3                                               NaN   \n",
       "4                                       Neo4J;Redis   \n",
       "\n",
       "                              PlatformHaveWorkedWith  \\\n",
       "0                                                NaN   \n",
       "1  Amazon Web Services (AWS);Digital Ocean;Google...   \n",
       "2  Amazon Web Services (AWS);Digital Ocean;Google...   \n",
       "3                                                NaN   \n",
       "4          Amazon Web Services (AWS);Microsoft Azure   \n",
       "\n",
       "                              PlatformWantToWorkWith  \\\n",
       "0                                                NaN   \n",
       "1  Amazon Web Services (AWS);Digital Ocean;Google...   \n",
       "2  Amazon Web Services (AWS);Google Cloud;OpenShi...   \n",
       "3                                                NaN   \n",
       "4                                                NaN   \n",
       "\n",
       "                 WebframeHaveWorkedWith  \\\n",
       "0                                   NaN   \n",
       "1  jQuery;Node.js;Spring Boot;WordPress   \n",
       "2  Express;Node.js;Nuxt.js;React;Vue.js   \n",
       "3                               Angular   \n",
       "4            jQuery;Node.js;Spring Boot   \n",
       "\n",
       "                         WebframeWantToWorkWith   MiscTechHaveWorkedWith  \\\n",
       "0                                           NaN                Capacitor   \n",
       "1                   Node.js;Phoenix;Spring Boot                      NaN   \n",
       "2  AngularJS;Deno;Express;Next.js;Node.js;React                      NaN   \n",
       "3                                       Angular                      NaN   \n",
       "4                                       Angular  Hadoop;Spring Framework   \n",
       "\n",
       "  MiscTechWantToWorkWith                            ToolsTechHaveWorkedWith  \\\n",
       "0                    NaN                                                NaN   \n",
       "1                    NaN  Docker;Gradle;Homebrew;Kubernetes;Maven (build...   \n",
       "2                    NaN                                         Docker;npm   \n",
       "3                    NaN                                                NaN   \n",
       "4                 Pandas  Maven (build tool);npm;Pip;Visual Studio Solution   \n",
       "\n",
       "                             ToolsTechWantToWorkWith  \\\n",
       "0                                                NaN   \n",
       "1  Docker;Gradle;Homebrew;Kubernetes;Maven (build...   \n",
       "2                 Ansible;Docker;Kubernetes;npm;Yarn   \n",
       "3                                                NaN   \n",
       "4                                       Ansible;Chef   \n",
       "\n",
       "                        NEWCollabToolsHaveWorkedWith  \\\n",
       "0                                              Emacs   \n",
       "1               IntelliJ IDEA;Vim;Visual Studio Code   \n",
       "2                                 Visual Studio Code   \n",
       "3                                 Visual Studio Code   \n",
       "4  Eclipse;IntelliJ IDEA;Notepad++;Sublime Text;V...   \n",
       "\n",
       "           NEWCollabToolsWantToWorkWith         OpSysPersonal use  \\\n",
       "0                        Emacs;PhpStorm  Debian;Other Linux-based   \n",
       "1  IntelliJ IDEA;Vim;Visual Studio Code             MacOS;Windows   \n",
       "2                    Visual Studio Code           Android;Windows   \n",
       "3                    Visual Studio Code                     MacOS   \n",
       "4                                   NaN            Ubuntu;Windows   \n",
       "\n",
       "                       OpSysProfessional use  \\\n",
       "0                   Debian;Other Linux-based   \n",
       "1                                      MacOS   \n",
       "2  Windows;Windows Subsystem for Linux (WSL)   \n",
       "3                                        NaN   \n",
       "4                                        NaN   \n",
       "\n",
       "            OfficeStackAsyncHaveWorkedWith OfficeStackAsyncWantToWorkWith  \\\n",
       "0                                      NaN                            NaN   \n",
       "1            Confluence;GitHub Discussions             GitHub Discussions   \n",
       "2                             Asana;Trello                           Jira   \n",
       "3  Confluence;GitHub Discussions;Jira;Miro                            NaN   \n",
       "4                      Jira;Redmine;Trello                            NaN   \n",
       "\n",
       "                       OfficeStackSyncHaveWorkedWith  \\\n",
       "0                                              Slack   \n",
       "1                                   Skype;Slack;Zoom   \n",
       "2                                    Microsoft Teams   \n",
       "3                             Google Meet;Slack;Zoom   \n",
       "4  Discord;Google Chat;Microsoft Teams;Whatsapp;Zoom   \n",
       "\n",
       "  OfficeStackSyncWantToWorkWith AISearchHaveWorkedWith AISearchWantToWorkWith  \\\n",
       "0                    Slack;Zoom                    NaN                    NaN   \n",
       "1              Skype;Slack;Zoom                ChatGPT                ChatGPT   \n",
       "2               Microsoft Teams                    NaN                    NaN   \n",
       "3                           NaN                ChatGPT                    NaN   \n",
       "4                           NaN                ChatGPT                    NaN   \n",
       "\n",
       "  AIDevHaveWorkedWith AIDevWantToWorkWith  \\\n",
       "0                 NaN                 NaN   \n",
       "1                 NaN                 NaN   \n",
       "2                 NaN                 NaN   \n",
       "3                 NaN                 NaN   \n",
       "4      GitHub Copilot                 NaN   \n",
       "\n",
       "                                          NEWSOSites  \\\n",
       "0                                     Stack Overflow   \n",
       "1                                     Stack Overflow   \n",
       "2  Stack Overflow;Stack Exchange;Collectives on S...   \n",
       "3                      Stack Overflow;Stack Exchange   \n",
       "4                                     Stack Overflow   \n",
       "\n",
       "                       SOVisitFreq SOAccount  \\\n",
       "0           Multiple times per day       Yes   \n",
       "1  A few times per month or weekly       Yes   \n",
       "2            Daily or almost daily       Yes   \n",
       "3             A few times per week       Yes   \n",
       "4           Multiple times per day       Yes   \n",
       "\n",
       "                            SOPartFreq           SOComm  \\\n",
       "0  Less than once per month or monthly    Yes, somewhat   \n",
       "1  Less than once per month or monthly   No, not really   \n",
       "2      A few times per month or weekly          Neutral   \n",
       "3  Less than once per month or monthly    Yes, somewhat   \n",
       "4                 A few times per week  Yes, definitely   \n",
       "\n",
       "                                                SOAI                AISelect  \\\n",
       "0                                                NaN                     Yes   \n",
       "1                                                Yes  No, but I plan to soon   \n",
       "2                                                NaN  No, but I plan to soon   \n",
       "3                                                NaN                     Yes   \n",
       "4  As long as it offers true and useful informati...                     Yes   \n",
       "\n",
       "        AISent                                         AIAcc  \\\n",
       "0    Favorable                         Increase productivity   \n",
       "1  Indifferent                                           NaN   \n",
       "2       Unsure                                           NaN   \n",
       "3  Indifferent                                           NaN   \n",
       "4    Favorable  Other (please explain);Increase productivity   \n",
       "\n",
       "                        AIBen  \\\n",
       "0  Neither trust nor distrust   \n",
       "1  Neither trust nor distrust   \n",
       "2  Neither trust nor distrust   \n",
       "3                         NaN   \n",
       "4              Somewhat trust   \n",
       "\n",
       "                           AIToolInterested in Using  \\\n",
       "0                                                NaN   \n",
       "1                                                NaN   \n",
       "2                                                NaN   \n",
       "3                                                NaN   \n",
       "4  Learning about a codebase;Documenting code;Tes...   \n",
       "\n",
       "                               AIToolCurrently Using  \\\n",
       "0  Learning about a codebase;Writing code;Documen...   \n",
       "1                                                NaN   \n",
       "2                                                NaN   \n",
       "3                                                NaN   \n",
       "4            Writing code;Debugging and getting help   \n",
       "\n",
       "                       AIToolNot interested in Using  \\\n",
       "0                                                NaN   \n",
       "1                                                NaN   \n",
       "2                                                NaN   \n",
       "3                                                NaN   \n",
       "4  Project planning;Deployment and monitoring;Col...   \n",
       "\n",
       "         AINextVery different AINextNeither different nor similar  \\\n",
       "0                         NaN                                 NaN   \n",
       "1                         NaN                                 NaN   \n",
       "2                         NaN                                 NaN   \n",
       "3                         NaN                                 NaN   \n",
       "4  Debugging and getting help                                 NaN   \n",
       "\n",
       "  AINextSomewhat similar AINextVery similar AINextSomewhat different TBranch  \\\n",
       "0                    NaN                NaN                      NaN     Yes   \n",
       "1                    NaN                NaN                      NaN     Yes   \n",
       "2                    NaN                NaN                      NaN     Yes   \n",
       "3                    NaN                NaN                      NaN      No   \n",
       "4                    NaN                NaN             Writing code      No   \n",
       "\n",
       "                   ICorPM  WorkExp     Knowledge_1  \\\n",
       "0  Individual contributor     10.0  Strongly agree   \n",
       "1  Individual contributor     15.0           Agree   \n",
       "2  Individual contributor      3.0           Agree   \n",
       "3                     NaN      NaN             NaN   \n",
       "4                     NaN      NaN             NaN   \n",
       "\n",
       "                  Knowledge_2                 Knowledge_3 Knowledge_4  \\\n",
       "0                       Agree                       Agree       Agree   \n",
       "1                       Agree                    Disagree       Agree   \n",
       "2  Neither agree nor disagree  Neither agree nor disagree       Agree   \n",
       "3                         NaN                         NaN         NaN   \n",
       "4                         NaN                         NaN         NaN   \n",
       "\n",
       "  Knowledge_5 Knowledge_6                 Knowledge_7 Knowledge_8  \\\n",
       "0       Agree       Agree                       Agree       Agree   \n",
       "1       Agree       Agree  Neither agree nor disagree       Agree   \n",
       "2       Agree       Agree  Neither agree nor disagree       Agree   \n",
       "3         NaN         NaN                         NaN         NaN   \n",
       "4         NaN         NaN                         NaN         NaN   \n",
       "\n",
       "        Frequency_1       Frequency_2       Frequency_3  \\\n",
       "0  1-2 times a week  1-2 times a week  1-2 times a week   \n",
       "1  1-2 times a week  1-2 times a week  1-2 times a week   \n",
       "2             Never  1-2 times a week             Never   \n",
       "3               NaN               NaN               NaN   \n",
       "4               NaN               NaN               NaN   \n",
       "\n",
       "                TimeSearching               TimeAnswering  \\\n",
       "0  Less than 15 minutes a day  Less than 15 minutes a day   \n",
       "1         15-30 minutes a day         30-60 minutes a day   \n",
       "2         30-60 minutes a day         15-30 minutes a day   \n",
       "3                         NaN                         NaN   \n",
       "4                         NaN                         NaN   \n",
       "\n",
       "                                    ProfessionalTech  \\\n",
       "0  DevOps function;Microservices;Automated testin...   \n",
       "1  DevOps function;Microservices;Automated testin...   \n",
       "2  DevOps function;Microservices;Automated testin...   \n",
       "3                                                NaN   \n",
       "4                                                NaN   \n",
       "\n",
       "                                            Industry           SurveyLength  \\\n",
       "0  Information Services, IT, Software Development...               Too long   \n",
       "1  Information Services, IT, Software Development...  Appropriate in length   \n",
       "2  Information Services, IT, Software Development...               Too long   \n",
       "3                                                NaN               Too long   \n",
       "4                                                NaN  Appropriate in length   \n",
       "\n",
       "                   SurveyEase  Age_18-24 years old  Age_25-34 years old  \\\n",
       "0  Neither easy nor difficult                  0.0                  0.0   \n",
       "1  Neither easy nor difficult                  0.0                  0.0   \n",
       "2  Neither easy nor difficult                  1.0                  0.0   \n",
       "3  Neither easy nor difficult                  0.0                  1.0   \n",
       "4  Neither easy nor difficult                  0.0                  0.0   \n",
       "\n",
       "   Age_35-44 years old  Age_45-54 years old  Age_55-64 years old  \\\n",
       "0                  1.0                  0.0                  0.0   \n",
       "1                  1.0                  0.0                  0.0   \n",
       "2                  0.0                  0.0                  0.0   \n",
       "3                  0.0                  0.0                  0.0   \n",
       "4                  1.0                  0.0                  0.0   \n",
       "\n",
       "   Age_65 years or older  Age_Under 18 years old  \n",
       "0                    0.0                     0.0  \n",
       "1                    0.0                     0.0  \n",
       "2                    0.0                     0.0  \n",
       "3                    0.0                     0.0  \n",
       "4                    0.0                     0.0  "
      ]
     },
     "execution_count": 164,
     "metadata": {},
     "output_type": "execute_result"
    }
   ],
   "source": [
    "df.head()"
   ]
  },
  {
   "cell_type": "code",
   "execution_count": 165,
   "metadata": {},
   "outputs": [
    {
     "data": {
      "text/plain": [
       "array(['Employed, full-time',\n",
       "       'Employed, full-time;Independent contractor, freelancer, or self-employed',\n",
       "       'Independent contractor, freelancer, or self-employed',\n",
       "       'Employed, full-time;Independent contractor, freelancer, or self-employed;Employed, part-time',\n",
       "       'Employed, part-time',\n",
       "       'Independent contractor, freelancer, or self-employed;Employed, part-time',\n",
       "       'I prefer not to say', 'Employed, full-time;Employed, part-time',\n",
       "       'Retired'], dtype=object)"
      ]
     },
     "execution_count": 165,
     "metadata": {},
     "output_type": "execute_result"
    }
   ],
   "source": [
    "df['Employment'].unique()"
   ]
  },
  {
   "cell_type": "code",
   "execution_count": 166,
   "metadata": {},
   "outputs": [
    {
     "name": "stderr",
     "output_type": "stream",
     "text": [
      "C:\\Users\\emita\\AppData\\Local\\Temp\\ipykernel_4612\\846225123.py:15: FutureWarning: A value is trying to be set on a copy of a DataFrame or Series through chained assignment using an inplace method.\n",
      "The behavior will change in pandas 3.0. This inplace method will never work because the intermediate object on which we are setting values always behaves as a copy.\n",
      "\n",
      "For example, when doing 'df[col].method(value, inplace=True)', try using 'df.method({col: value}, inplace=True)' or df[col] = df[col].method(value) instead, to perform the operation inplace on the original object.\n",
      "\n",
      "\n",
      "  df['Employment'].fillna('I prefer not to say', inplace=True)\n"
     ]
    }
   ],
   "source": [
    "# Nuevo diccionario de mapeo\n",
    "mapping = {\n",
    "    'I prefer not to say': -1,\n",
    "    'Retired': 0,\n",
    "    'Not employed, and not looking for work': 0,\n",
    "    'Not employed, but looking for work': 0,\n",
    "    'Student, part-time': 0.5,\n",
    "    'Student, full-time': 0,\n",
    "    'Independent contractor, freelancer, or self-employed': 1,\n",
    "    'Employed, part-time': 0.5,\n",
    "    'Employed, full-time': 1\n",
    "}\n",
    "\n",
    "# Llenar los NaN con un valor temporal\n",
    "df['Employment'].fillna('I prefer not to say', inplace=True)\n",
    "\n",
    "# Función para asignar el valor mapeado\n",
    "def map_employment(value):\n",
    "    total_value = 0\n",
    "    for key, val in mapping.items():\n",
    "        if key in value:\n",
    "            total_value += val\n",
    "    return total_value\n",
    "\n",
    "# Aplicar la función de mapeo\n",
    "df['employment_map'] = df['Employment'].apply(map_employment)\n",
    "df = df.drop(['Employment'], axis=1)"
   ]
  },
  {
   "cell_type": "code",
   "execution_count": 167,
   "metadata": {},
   "outputs": [
    {
     "data": {
      "text/plain": [
       "employment_map\n",
       " 1.0    1073\n",
       " 2.0      52\n",
       " 1.5      12\n",
       " 0.5      10\n",
       " 2.5       1\n",
       "-1.0       1\n",
       " 0.0       1\n",
       "Name: count, dtype: int64"
      ]
     },
     "execution_count": 167,
     "metadata": {},
     "output_type": "execute_result"
    }
   ],
   "source": [
    "df['employment_map'].value_counts()"
   ]
  },
  {
   "cell_type": "markdown",
   "metadata": {},
   "source": [
    "3. RemoteWork:\n",
    "- Remote \n",
    "- In-person \n",
    "- Hybrid (some remote, some in-person)\n",
    "\n",
    "Decido un HoeHot (no son muchas columas, y quiero a todas con igualdad de importancia)"
   ]
  },
  {
   "cell_type": "code",
   "execution_count": 168,
   "metadata": {},
   "outputs": [
    {
     "data": {
      "text/plain": [
       "2"
      ]
     },
     "execution_count": 168,
     "metadata": {},
     "output_type": "execute_result"
    }
   ],
   "source": [
    "df['RemoteWork'].isna().sum()"
   ]
  },
  {
   "cell_type": "code",
   "execution_count": 169,
   "metadata": {},
   "outputs": [],
   "source": [
    "encoder = OneHotEncoder(sparse_output=False)\n",
    "encoded = encoder.fit_transform(df[['RemoteWork']])\n",
    "encoded_df = pd.DataFrame(encoded, columns=encoder.get_feature_names_out(['RemoteWork']), index=df.index)\n",
    "df = pd.concat([df, encoded_df], axis=1)"
   ]
  },
  {
   "cell_type": "code",
   "execution_count": 170,
   "metadata": {},
   "outputs": [],
   "source": [
    "df = df.drop(['RemoteWork', 'RemoteWork_nan'], axis=1)"
   ]
  },
  {
   "cell_type": "markdown",
   "metadata": {},
   "source": [
    "4. CodingActivities (fuera del trabajo):\n",
    "- Hobby (2)\n",
    "- Freelance/contract work (3)\n",
    "- Contribute to open-source projects (4) \n",
    "- Bootstrapping a business (5)\n",
    "- School or academic work (1)\n",
    "- Professional development or self-paced learning from online courses (6)\n",
    "- I don’t code outside of work (0)\n",
    "- Other (-1)\n",
    "\n",
    "Decido un Label encoder y darle mas peso a unas categorias, mas que a otras (indicado el peso de cada una)"
   ]
  },
  {
   "cell_type": "markdown",
   "metadata": {},
   "source": [
    "Hay Muchos Nan, los trabajo imputandolos a la categoria de \"Other\""
   ]
  },
  {
   "cell_type": "code",
   "execution_count": 171,
   "metadata": {},
   "outputs": [
    {
     "data": {
      "text/plain": [
       "2"
      ]
     },
     "execution_count": 171,
     "metadata": {},
     "output_type": "execute_result"
    }
   ],
   "source": [
    "df['CodingActivities'].isna().sum()"
   ]
  },
  {
   "cell_type": "code",
   "execution_count": 172,
   "metadata": {},
   "outputs": [],
   "source": [
    "df['CodingActivities'] = df['CodingActivities'].fillna('Other')"
   ]
  },
  {
   "cell_type": "code",
   "execution_count": 173,
   "metadata": {},
   "outputs": [],
   "source": [
    "labels4 = {\n",
    "    'Hobby': 2,\n",
    "    'Freelance/contract work': 3,\n",
    "    'Contribute to open-source projects': 4,\n",
    "    'Bootstrapping a business': 5,\n",
    "    'School or academic work':1,\n",
    "    'Professional development or self-paced learning from online courses': 6,\n",
    "    'I don’t code outside of work': 0,\n",
    "    'Other': -1\n",
    "}\n",
    "df['CodingActivities'] = df['CodingActivities'].map(labels4).fillna(-1)"
   ]
  },
  {
   "cell_type": "code",
   "execution_count": 174,
   "metadata": {},
   "outputs": [
    {
     "name": "stdout",
     "output_type": "stream",
     "text": [
      "<class 'pandas.core.series.Series'>\n",
      "RangeIndex: 1150 entries, 0 to 1149\n",
      "Series name: CodingActivities\n",
      "Non-Null Count  Dtype  \n",
      "--------------  -----  \n",
      "1150 non-null   float64\n",
      "dtypes: float64(1)\n",
      "memory usage: 9.1 KB\n"
     ]
    }
   ],
   "source": [
    "df['CodingActivities'].info()"
   ]
  },
  {
   "cell_type": "markdown",
   "metadata": {},
   "source": [
    "5. EdLevel: \n",
    "- Primary/elementary school (0)\n",
    "- Secondary school (e.g. American high school, German Realschule or Gymnasium, etc.) (1)\n",
    "- Some college/university study without earning a degree (2)\n",
    "- Associate degree (A.A., A.S., etc.) (3)\n",
    "- Bachelor’s degree (B.A., B.S., B.Eng., etc.) (4) \n",
    "- Master’s degree (M.A., M.S., M.Eng., MBA, etc.) (5) \n",
    "- Professional degree (JD, MD, Ph.D, Ed.D, etc.) (6)\n",
    "- Something else (-1)\n",
    "\n",
    "Hago un LabelEncoder con los valores destacados"
   ]
  },
  {
   "cell_type": "code",
   "execution_count": 175,
   "metadata": {},
   "outputs": [
    {
     "data": {
      "text/plain": [
       "array(['Master’s degree (M.A., M.S., M.Eng., MBA, etc.)',\n",
       "       'Associate degree (A.A., A.S., etc.)',\n",
       "       'Bachelor’s degree (B.A., B.S., B.Eng., etc.)',\n",
       "       'Professional degree (JD, MD, Ph.D, Ed.D, etc.)',\n",
       "       'Some college/university study without earning a degree',\n",
       "       'Something else',\n",
       "       'Secondary school (e.g. American high school, German Realschule or Gymnasium, etc.)',\n",
       "       'Primary/elementary school'], dtype=object)"
      ]
     },
     "execution_count": 175,
     "metadata": {},
     "output_type": "execute_result"
    }
   ],
   "source": [
    "df['EdLevel'].unique()"
   ]
  },
  {
   "cell_type": "code",
   "execution_count": 176,
   "metadata": {},
   "outputs": [
    {
     "data": {
      "text/plain": [
       "0"
      ]
     },
     "execution_count": 176,
     "metadata": {},
     "output_type": "execute_result"
    }
   ],
   "source": [
    "df['EdLevel'].isna().sum()"
   ]
  },
  {
   "cell_type": "code",
   "execution_count": 177,
   "metadata": {},
   "outputs": [],
   "source": [
    "labels5 = {\n",
    "    'Master’s degree (M.A., M.S., M.Eng., MBA, etc.)': 5,\n",
    "    'Bachelor’s degree (B.A., B.S., B.Eng., etc.)': 4,\n",
    "    'Professional degree (JD, MD, Ph.D, Ed.D, etc.)': 6,\n",
    "    'Some college/university study without earning a degree': 2, \n",
    "    'Secondary school (e.g. American high school, German Realschule or Gymnasium, etc.)': 1,\n",
    "    'Associate degree (A.A., A.S., etc.)': 3, \n",
    "    'Something else': -1,\n",
    "    'Primary/elementary school': 0\n",
    "}\n",
    "df['EdLevel'] = df['EdLevel'].map(labels5).fillna(-1)"
   ]
  },
  {
   "cell_type": "markdown",
   "metadata": {},
   "source": [
    "6. LearnCode: \n",
    "- Books / Physical media (3): Implica un esfuerzo autodirigido, pero es formal y metódico.\n",
    "- Coding Bootcamp (3): También estructurado, pero más intensivo y con un enfoque en habilidades prácticas.\n",
    "- Colleague (2): Más relacionado con la práctica laboral, pero también limitado al entorno de trabajo.\n",
    "- Friend or family member (1): Aprendizaje menos formal y probablemente limitado en alcance.\n",
    "- Hackathons (virtual or in-person)\n",
    "- Online Courses or Certification (2): Similar al entrenamiento en el trabajo, pero autodirigido y menos formal.\n",
    "- On the job training (2): Aprender en el trabajo es práctico, pero menos estructurado.\n",
    "- Other online resources (e.g., videos, blogs, forum, online community) (2): Aunque útil, suele ser más informal y variado en calidad.\n",
    "- School (i.e., University, College, etc) (4): Representa una forma tradicional de aprendizaje, estructurada y generalmente reconocida como valiosa.\n",
    "- Other (please specify):(0)\n",
    "\n",
    "Le diversa importancia a las categorias con total discrecion (segun el tipo de educacion). Un OneHot me crearia demasiadas columnas. \n",
    "\n",
    "Prefiero hacer una funcion que, luego de dividir en el \";\", se reemplace cada categoria por el numero correspondiente, y luego sumo esos numeros. De esta forma, una persona que se ha educado de 5 fuentes diversas, tendra mas puntaje que una que solo se ha educado con 1. Da cuenta del compromiso y profesionalismo que tiene esa persona. "
   ]
  },
  {
   "cell_type": "code",
   "execution_count": 178,
   "metadata": {},
   "outputs": [
    {
     "data": {
      "text/plain": [
       "6"
      ]
     },
     "execution_count": 178,
     "metadata": {},
     "output_type": "execute_result"
    }
   ],
   "source": [
    "df['LearnCode'].isna().sum()   # hay un solo valor, lo dejamos a 0 (primera linea de la funcion)"
   ]
  },
  {
   "cell_type": "markdown",
   "metadata": {},
   "source": [
    "Creo en un dict los valores"
   ]
  },
  {
   "cell_type": "code",
   "execution_count": 179,
   "metadata": {},
   "outputs": [],
   "source": [
    "importance_dict = {\n",
    "    'Books / Physical media': 3,\n",
    "    'Coding Bootcamp': 3,\n",
    "    'Colleague': 2,\n",
    "    'Friend or family member': 1,\n",
    "    'Hackathons (virtual or in-person)': 2,\n",
    "    'Online Courses or Certification': 2,\n",
    "    'On the job training': 2,\n",
    "    'Other online resources (e.g., videos, blogs, forum, online community)': 2,\n",
    "    'School (i.e., University, College, etc)': 4,\n",
    "    'Other (please specify):': 0\n",
    "}"
   ]
  },
  {
   "cell_type": "markdown",
   "metadata": {},
   "source": [
    "Creo la funcion que lo divida en el ; y se le asigne a cada categoria un valor. Luego se suman todos los valores"
   ]
  },
  {
   "cell_type": "code",
   "execution_count": 180,
   "metadata": {},
   "outputs": [],
   "source": [
    "def calculate_score(x):\n",
    "    # Si el valor es NaN, devolvemos 0\n",
    "    if pd.isna(x):\n",
    "        return 0\n",
    "    \n",
    "    # Dividimos el texto en una lista de valores, usando ';' como separador\n",
    "    values = x.split(';')\n",
    "    \n",
    "    # Inicializamos el puntaje en 0\n",
    "    total_score = 0\n",
    "    \n",
    "    # Iteramos por cada valor en la lista\n",
    "    for value in values:\n",
    "        # Quitamos espacios en blanco alrededor del texto\n",
    "        cleaned_value = value.strip()\n",
    "        \n",
    "        # Obtenemos el puntaje del diccionario y lo sumamos al puntaje total\n",
    "        total_score += importance_dict.get(cleaned_value, 0)\n",
    "    \n",
    "    # Devolvemos el puntaje total\n",
    "    return total_score"
   ]
  },
  {
   "cell_type": "code",
   "execution_count": 181,
   "metadata": {},
   "outputs": [],
   "source": [
    "df['LearnCode'] = df['LearnCode'].apply(calculate_score)"
   ]
  },
  {
   "cell_type": "markdown",
   "metadata": {},
   "source": [
    "7. LearnCodeOnline\n",
    "    - Stack Overflow ('Community_Collaboration')\n",
    "    - Blogs ('Community_Collaboration')\n",
    "    - Online books ('Visual_Interactive')\n",
    "    - Video-based online courses ('Visual_Interactive')\n",
    "    - Online challenges (e.g., daily or weekly coding challenges) ('Community_Collaboration')\n",
    "    - Coding sessions (live or recorded) ('Community_Collaboration')\n",
    "    - Written-based online courses ('Technical_Reference')\n",
    "    - How-to videos ('Visual_Interactive')\n",
    "    - Auditory material (e.g., podcasts) ('Visual_Interactive')\n",
    "    - Technical documentation ('Technical_Reference')\n",
    "    - Certification videos ('Visual_Interactive')\n",
    "    - Games that teach programming ('Visual_Interactive')\n",
    "    - Written tutorials ('Technical_Reference')\n",
    "    - Interactive tutorial ('Visual_Interactive')\n",
    "    - Online forum ('Community_Collaboration')\n",
    "    - Other ('Visual_Interactive')\n",
    "\n",
    "Estas herramientas no tienen mas importancia unas que otras, ni son ordinales. Elijo usar OneHotEncoder. Como son muchas columnas, decido agruparlas, para que no sean tantas.\n",
    "Dejo 3 categorias: 'Visual_Interactive', 'Technical_Reference', 'Community_Collaboration'. "
   ]
  },
  {
   "cell_type": "markdown",
   "metadata": {},
   "source": [
    "Creo una funcion para ver los valores unicos, ya que en las celdas hay muchos valores. "
   ]
  },
  {
   "cell_type": "code",
   "execution_count": 182,
   "metadata": {},
   "outputs": [],
   "source": [
    "def get_unique_values(df, column_name):\n",
    "    # Inicializamos un conjunto vacío para almacenar valores únicos\n",
    "    unique_values = set()\n",
    "\n",
    "    # Iteramos sobre cada fila en la columna\n",
    "    for value in df[column_name]:\n",
    "        # Si el valor no es nulo (NaN)\n",
    "        if pd.notna(value):\n",
    "            # Si el valor contiene múltiples elementos separados por ';'\n",
    "            if isinstance(value, str) and ';' in value:\n",
    "                # Dividimos el string y añadimos cada elemento al conjunto\n",
    "                unique_values.update(value.split(';'))\n",
    "            else:\n",
    "                # Si es un valor único, lo añadimos directamente al conjunto\n",
    "                unique_values.add(value)\n",
    "\n",
    "    # Convertimos el conjunto a una lista y la ordenamos\n",
    "    return sorted(list(unique_values))"
   ]
  },
  {
   "cell_type": "code",
   "execution_count": 183,
   "metadata": {},
   "outputs": [
    {
     "data": {
      "text/plain": [
       "['Auditory material (e.g., podcasts)',\n",
       " 'Blogs with tips and tricks',\n",
       " 'Books',\n",
       " 'Certification videos',\n",
       " 'Click to write Choice 20',\n",
       " 'Formal documentation provided by the owner of the tech',\n",
       " 'How-to videos',\n",
       " 'Interactive tutorial',\n",
       " 'Online challenges (e.g., daily or weekly coding challenges)',\n",
       " 'Other (Please specify):',\n",
       " 'Programming Games',\n",
       " 'Recorded coding sessions',\n",
       " 'Stack Overflow',\n",
       " 'Video-based Online Courses',\n",
       " 'Written Tutorials',\n",
       " 'Written-based Online Courses']"
      ]
     },
     "execution_count": 183,
     "metadata": {},
     "output_type": "execute_result"
    }
   ],
   "source": [
    "unique_list = get_unique_values(df, 'LearnCodeOnline')\n",
    "\n",
    "unique_list"
   ]
  },
  {
   "cell_type": "markdown",
   "metadata": {},
   "source": [
    "Mapeo las categorias para que no sean tantas al hacer OneHot"
   ]
  },
  {
   "cell_type": "code",
   "execution_count": 184,
   "metadata": {},
   "outputs": [],
   "source": [
    "# Primero, creamos un diccionario para mapear las herramientas a las categorías\n",
    "category_map = {\n",
    "    'Stack Overflow': 'Technical_Reference',\n",
    "    'Blogs': 'Technical_Reference',\n",
    "    'Social Media': 'Technical_Reference',\n",
    "    'Video-based online courses': 'Visual_Interactive',\n",
    "    'Online challenges (e.g., daily or weekly coding challenges)': 'Technical_Reference',\n",
    "    'Coding sessions (live or recorded)': 'Technical_Reference',\n",
    "    'Written-based online courses': 'Technical_Reference',\n",
    "    'How-to videos': 'Visual_Interactive',\n",
    "    'Auditory material (e.g., podcasts)': 'Visual_Interactive',\n",
    "    'Technical documentation': 'Technical_Reference',\n",
    "    'Certification videos': 'Visual_Interactive',\n",
    "    'Books': 'Technical_Reference',\n",
    "    'Games': 'Visual_Interactive',\n",
    "    'AI': 'Technical_Reference',\n",
    "    'Written tutorials': 'Technical_Reference',\n",
    "    'Interactive tutorial': 'Visual_Interactive',\n",
    "    'Other (Please specify):': 'Visual_Interactive'\n",
    "}\n",
    "# Lleno los Nan con 'Other'\n",
    "df['LearnCodeOnline'] = df['LearnCodeOnline'].fillna('Other (Please specify):')\n",
    "# Aplicamos el mapeo a la columna 'LearnCodeOnline'\n",
    "df['LearnCodeOnline_Category'] = df['LearnCodeOnline'].map(category_map)"
   ]
  },
  {
   "cell_type": "code",
   "execution_count": 185,
   "metadata": {},
   "outputs": [],
   "source": [
    "# Creamos el OneHotEncoder\n",
    "encoder = OneHotEncoder(sparse_output=False)\n",
    "\n",
    "# Aplicamos el OneHotEncoder\n",
    "encoded = encoder.fit_transform(df[['LearnCodeOnline_Category']])\n",
    "\n",
    "# Creamos un DataFrame con las columnas codificadas\n",
    "encoded_df = pd.DataFrame(encoded, columns=encoder.get_feature_names_out(['LearnCodeOnline_Category']), index=df.index)\n",
    "\n",
    "# Unimos el DataFrame original con las nuevas columnas codificadas\n",
    "df = pd.concat([df, encoded_df], axis=1)\n",
    "\n",
    "# Eliminamos la columna temporal 'LearnCodeOnline_Category' si ya no la necesitas\n",
    "df = df.drop(['LearnCodeOnline_Category', 'LearnCodeOnline', 'LearnCodeOnline_Category_nan'], axis=1)"
   ]
  },
  {
   "cell_type": "markdown",
   "metadata": {},
   "source": [
    "8. 'LearnCodeCoursesCert': la elimino, no tiene mucha información para aportar."
   ]
  },
  {
   "cell_type": "code",
   "execution_count": 186,
   "metadata": {},
   "outputs": [],
   "source": [
    "df = df.drop(['LearnCodeCoursesCert'], axis=1)"
   ]
  },
  {
   "cell_type": "markdown",
   "metadata": {},
   "source": [
    "9. YearsCode: sacar los nan y pasarlo a int"
   ]
  },
  {
   "cell_type": "code",
   "execution_count": 187,
   "metadata": {},
   "outputs": [],
   "source": [
    "df['YearsCode'].isnull().sum()\n",
    "moda = df['YearsCode'].mode()[0]\n",
    "df['YearsCode'] = df['YearsCode'].fillna(moda)"
   ]
  },
  {
   "cell_type": "code",
   "execution_count": 188,
   "metadata": {},
   "outputs": [],
   "source": [
    "df['YearsCode'] = df['YearsCode'].replace('Less than 1 year', 0)"
   ]
  },
  {
   "cell_type": "code",
   "execution_count": 189,
   "metadata": {},
   "outputs": [],
   "source": [
    "df['YearsCode'] = df['YearsCode'].replace('More than 50 years', 50)"
   ]
  },
  {
   "cell_type": "code",
   "execution_count": 190,
   "metadata": {},
   "outputs": [],
   "source": [
    "df['YearsCode']=df['YearsCode'].astype(int)"
   ]
  },
  {
   "cell_type": "code",
   "execution_count": 191,
   "metadata": {},
   "outputs": [
    {
     "name": "stdout",
     "output_type": "stream",
     "text": [
      "<class 'pandas.core.series.Series'>\n",
      "RangeIndex: 1150 entries, 0 to 1149\n",
      "Series name: YearsCode\n",
      "Non-Null Count  Dtype\n",
      "--------------  -----\n",
      "1150 non-null   int32\n",
      "dtypes: int32(1)\n",
      "memory usage: 4.6 KB\n"
     ]
    }
   ],
   "source": [
    "df['YearsCode'].info()"
   ]
  },
  {
   "cell_type": "markdown",
   "metadata": {},
   "source": [
    "10. YearsCodePro: reemplazo nan y paso a int"
   ]
  },
  {
   "cell_type": "code",
   "execution_count": 192,
   "metadata": {},
   "outputs": [
    {
     "data": {
      "text/plain": [
       "8"
      ]
     },
     "execution_count": 192,
     "metadata": {},
     "output_type": "execute_result"
    }
   ],
   "source": [
    "df['YearsCodePro'].isnull().sum()"
   ]
  },
  {
   "cell_type": "code",
   "execution_count": 193,
   "metadata": {},
   "outputs": [],
   "source": [
    "moda = df['YearsCodePro'].mode()[0]\n",
    "df['YearsCodePro'] = df['YearsCodePro'].fillna(moda)"
   ]
  },
  {
   "cell_type": "code",
   "execution_count": 194,
   "metadata": {},
   "outputs": [
    {
     "data": {
      "text/plain": [
       "array(['10', '15', '3', '2', '13', '8', '11', '23', '30', '12', '6', '5',\n",
       "       '7', '18', '20', '1', '9', '22', '28', '4', 'Less than 1 year',\n",
       "       '25', '19', '17', '21', '14', '26', '27', '16', '24', '29', '35',\n",
       "       '38', '34', '45', '37', '40', '31', '36', '41', '39', '33', '32',\n",
       "       '49'], dtype=object)"
      ]
     },
     "execution_count": 194,
     "metadata": {},
     "output_type": "execute_result"
    }
   ],
   "source": [
    "df['YearsCodePro'].unique()"
   ]
  },
  {
   "cell_type": "code",
   "execution_count": 195,
   "metadata": {},
   "outputs": [],
   "source": [
    "df['YearsCodePro']=df['YearsCodePro'].replace('Less than 1 year', 0)"
   ]
  },
  {
   "cell_type": "code",
   "execution_count": 196,
   "metadata": {},
   "outputs": [
    {
     "name": "stdout",
     "output_type": "stream",
     "text": [
      "<class 'pandas.core.series.Series'>\n",
      "RangeIndex: 1150 entries, 0 to 1149\n",
      "Series name: YearsCodePro\n",
      "Non-Null Count  Dtype\n",
      "--------------  -----\n",
      "1150 non-null   int32\n",
      "dtypes: int32(1)\n",
      "memory usage: 4.6 KB\n"
     ]
    }
   ],
   "source": [
    "df['YearsCodePro']=df['YearsCodePro'].astype(int)\n",
    "df['YearsCodePro'].info()"
   ]
  },
  {
   "cell_type": "markdown",
   "metadata": {},
   "source": [
    "11. DevType\n",
    "- Academic researcher (5)\n",
    "- Blockchain (6)\n",
    "- Cloud infrastructure engineer (3)\n",
    "- Data or business analyst (2)\n",
    "- Data engineer (2)\n",
    "- Data scientist or machine learning specialist (2)\n",
    "- Database administrator (7)\n",
    "- Designer (7)\n",
    "- Developer Advocate (1)\n",
    "- Developer, AI (1)\n",
    "- Developer, back-end (1)\n",
    "- Developer, desktop or enterprise applications (1)\n",
    "- Developer, embedded applications or devices (1)\n",
    "- Developer Experience (1)\n",
    "- Developer, front-end (1)\n",
    "- Developer, full-stack(1)\n",
    "- Developer, game or graphics (1)\n",
    "- Developer, mobile(1) \n",
    "- Developer, QA or test (1)\n",
    "- DevOps specialist (3)\n",
    "- Educator (5)\n",
    "- Engineer, site reliability (3)\n",
    "- Engineering manager (4)\n",
    "- Hardware Engineer (6)\n",
    "- Marketing or sales professional (7)\n",
    "- Product manager (4)\n",
    "- Project manager (4)\n",
    "- Research & Development role (5)\n",
    "- Scientist (5)\n",
    "- Senior Executive (C-Suite, VP, etc.) (4)\n",
    "- Student (7)\n",
    "- System administrator (3)\n",
    "- Security professional (3)\n",
    "- Other (7)\n",
    "\n",
    "Elijo agruparlos para que no sean tantos, y asi simplificar el analisis, y luego un OneHotEncoder:\n",
    "1. Gestión y Liderazgo\n",
    "2. Desarrollo de Software\n",
    "3. Infraestructura y Sistemas\n",
    "4. Ingeniería de Datos y Ciencia de Datos\n",
    "5. Investigación y Educación\n",
    "6. Hardware y Blockchain\n",
    "7. Roles de Soporte y Otros"
   ]
  },
  {
   "cell_type": "code",
   "execution_count": 197,
   "metadata": {},
   "outputs": [
    {
     "data": {
      "text/plain": [
       "4"
      ]
     },
     "execution_count": 197,
     "metadata": {},
     "output_type": "execute_result"
    }
   ],
   "source": [
    "# Primero me fijo que no hayan Nan\n",
    "df['DevType'].isnull().sum()"
   ]
  },
  {
   "cell_type": "code",
   "execution_count": 198,
   "metadata": {},
   "outputs": [],
   "source": [
    "df['DevType']=df['DevType'].fillna('Other (please specify):')"
   ]
  },
  {
   "cell_type": "code",
   "execution_count": 199,
   "metadata": {},
   "outputs": [
    {
     "data": {
      "text/plain": [
       "array(['Developer, back-end', 'Developer, full-stack',\n",
       "       'Developer, front-end', 'Product manager',\n",
       "       'Engineer, site reliability', 'Research & Development role',\n",
       "       'Data scientist or machine learning specialist',\n",
       "       'Cloud infrastructure engineer', 'Developer, mobile',\n",
       "       'Data or business analyst',\n",
       "       'Developer, desktop or enterprise applications',\n",
       "       'DevOps specialist', 'Database administrator', 'Project manager',\n",
       "       'Developer, embedded applications or devices',\n",
       "       'Developer, game or graphics', 'Engineer, data',\n",
       "       'Other (please specify):', 'Senior Executive (C-Suite, VP, etc.)',\n",
       "       'Engineering manager', 'Academic researcher',\n",
       "       'Developer Experience', 'Hardware Engineer', 'Blockchain',\n",
       "       'Developer Advocate', 'System administrator', 'Educator',\n",
       "       'Designer', 'Developer, QA or test', 'Scientist',\n",
       "       'Security professional'], dtype=object)"
      ]
     },
     "execution_count": 199,
     "metadata": {},
     "output_type": "execute_result"
    }
   ],
   "source": [
    "df['DevType'].unique()"
   ]
  },
  {
   "cell_type": "code",
   "execution_count": 200,
   "metadata": {},
   "outputs": [
    {
     "data": {
      "text/plain": [
       "29"
      ]
     },
     "execution_count": 200,
     "metadata": {},
     "output_type": "execute_result"
    }
   ],
   "source": [
    "# Primero, creamos un diccionario para mapear las herramientas a las categorías\n",
    "dev_type_map = {\n",
    "    'Academic researcher': 'Investigación y Educación',\n",
    "    'Blockchain': 'Hardware y Blockchain',\n",
    "    'Cloud infrastructure engineer': 'Infraestructura y Sistemas',\n",
    "    'Data engineer': 'Ingeniería de Datos y Ciencia de Datos',\n",
    "    'Data or business analyst': 'Ingeniería de Datos y Ciencia de Datos',\n",
    "    'Data scientist or machine learning specialist': 'Ingeniería de Datos y Ciencia de Datos',\n",
    "    'Designer': 'Roles de Soporte y Otros',\n",
    "    'DevOps specialist': 'Infraestructura y Sistemas',\n",
    "    # 'Developer Advocate': 'Desarrollo de Software',\n",
    "    # 'Developer Experience': 'Desarrollo de Software',\n",
    "    # 'Developer, AI': 'Desarrollo de Software',\n",
    "    'Developer, QA or test': 'Desarrollo de Software',\n",
    "    'Developer, back-end': 'Desarrollo de Software',\n",
    "    'Developer, desktop or enterprise applications': 'Desarrollo de Software',\n",
    "    'Developer, embedded applications or devices': 'Desarrollo de Software',\n",
    "    'Developer, front-end': 'Desarrollo de Software',\n",
    "    'Developer, full-stack': 'Desarrollo de Software',\n",
    "    'Developer, game or graphics': 'Desarrollo de Software',\n",
    "    'Developer, mobile': 'Desarrollo de Software',\n",
    "    'Educator': 'Investigación y Educación',\n",
    "    'Engineer, site reliability': 'Infraestructura y Sistemas',\n",
    "    'Engineering manager': 'Gestión y Liderazgo',\n",
    "    'Hardware Engineer': 'Hardware y Blockchain',\n",
    "    'Other (please specify):': 'Roles de Soporte y Otros',\n",
    "    'Product manager': 'Gestión y Liderazgo',\n",
    "    'Project manager': 'Gestión y Liderazgo',\n",
    "    'Research & Development role': 'Investigación y Educación',\n",
    "    'Scientist': 'Investigación y Educación',\n",
    "    'Security professional': 'Infraestructura y Sistemas',\n",
    "    'Senior Executive (C-Suite, VP, etc.)': 'Gestión y Liderazgo',\n",
    "    'System administrator': 'Infraestructura y Sistemas',\n",
    "    # 'Marketing or sales professional': 'Roles de Soporte y Otros',\n",
    "    # 'Student': 'Roles de Soporte y Otros',\n",
    "    'Database administrator': 'Roles de Soporte y Otros'    \n",
    "}\n",
    "len(dev_type_map)"
   ]
  },
  {
   "cell_type": "code",
   "execution_count": 201,
   "metadata": {},
   "outputs": [],
   "source": [
    "# Aplicamos el mapeo a la columna 'DevType'\n",
    "df['DevType_Category'] = df['DevType'].map(dev_type_map)\n",
    "\n",
    "# Creamos el OneHotEncoder\n",
    "encoder = OneHotEncoder(sparse_output=False)\n",
    "\n",
    "# Aplicamos el OneHotEncoder\n",
    "encoded = encoder.fit_transform(df[['DevType_Category']])\n",
    "\n",
    "# Creamos un DataFrame con las columnas codificadas\n",
    "encoded_df = pd.DataFrame(encoded, columns=encoder.get_feature_names_out(['DevType_Category']), index=df.index)\n",
    "\n",
    "# Unimos el DataFrame original con las nuevas columnas codificadas\n",
    "df = pd.concat([df, encoded_df], axis=1)\n",
    "\n",
    "# Eliminamos la columna temporal 'DevType_Category' si ya no la necesitas\n",
    "df = df.drop(['DevType_Category', 'DevType', 'DevType_Category_nan'], axis=1)"
   ]
  },
  {
   "cell_type": "markdown",
   "metadata": {},
   "source": [
    "12. OrgSize: Cuántas personas forman parte de la organización para la que trabajas (organización primaria)\n",
    "- I don’t know\n",
    "- Just me - I am a freelancer, sole proprietor, etc. \n",
    "- 2 to 9 employees \n",
    "- 10 to 19 employees \n",
    "- 20 to 99 employees \n",
    "- 100 to 499 employees \n",
    "- 500 to 999 employees \n",
    "- 1000 to 4999 employees \n",
    "- 5000 to 9999 employees \n",
    "- 10000 or more employees \n",
    "\n",
    "Label Encoder, en ese orden"
   ]
  },
  {
   "cell_type": "code",
   "execution_count": 202,
   "metadata": {},
   "outputs": [
    {
     "data": {
      "text/plain": [
       "array(['2 to 9 employees', '10,000 or more employees',\n",
       "       '500 to 999 employees', '1,000 to 4,999 employees',\n",
       "       '20 to 99 employees', '100 to 499 employees', '10 to 19 employees',\n",
       "       'Just me - I am a freelancer, sole proprietor, etc.',\n",
       "       'I don’t know', '5,000 to 9,999 employees', nan], dtype=object)"
      ]
     },
     "execution_count": 202,
     "metadata": {},
     "output_type": "execute_result"
    }
   ],
   "source": [
    "df['OrgSize'].unique()"
   ]
  },
  {
   "cell_type": "code",
   "execution_count": 203,
   "metadata": {},
   "outputs": [
    {
     "name": "stdout",
     "output_type": "stream",
     "text": [
      "0\n"
     ]
    }
   ],
   "source": [
    "# Primero trato los Nan\n",
    "df['OrgSize'] = df['OrgSize'].fillna('I don’t know')\n",
    "print(df['OrgSize'].isna().sum())"
   ]
  },
  {
   "cell_type": "code",
   "execution_count": 204,
   "metadata": {},
   "outputs": [
    {
     "data": {
      "text/plain": [
       "float"
      ]
     },
     "execution_count": 204,
     "metadata": {},
     "output_type": "execute_result"
    }
   ],
   "source": [
    "type(df.iloc[4, 8])"
   ]
  },
  {
   "cell_type": "markdown",
   "metadata": {},
   "source": [
    "Los valores NaN siguen apareciendo, a pesar de hacer utilizado el fillna mas arriba. Por eso lo pongo tambien al hacer el map. "
   ]
  },
  {
   "cell_type": "code",
   "execution_count": 205,
   "metadata": {},
   "outputs": [],
   "source": [
    "labels12 = {\n",
    "    'I don’t know': -1,\n",
    "    'Just me - I am a freelancer, sole proprietor, etc.': 0,\n",
    "    '2 to 9 employees': 1,\n",
    "    '10 to 19 employees': 2,\n",
    "    '20 to 99 employees': 3,\n",
    "    '100 to 499 employees': 4,\n",
    "    '500 to 999 employees': 5, \n",
    "    '1,000 to 4,999 employees': 6, \n",
    "    '5,000 to 9,999 employees': 7,\n",
    "    '10,000 or more employees': 8 \n",
    "}\n",
    "df['OrgSize'] = df['OrgSize'].map(labels12).fillna(-1)"
   ]
  },
  {
   "cell_type": "markdown",
   "metadata": {},
   "source": [
    "13. PurchaseInfluence: Nivel de influencia sobre nuevas tecnologías adquiridas por la organización\n",
    "- I have little or no influence \n",
    "- I have some influence \n",
    "- I have a great deal of influence\n",
    "\n",
    "Label Encoder en ese orden"
   ]
  },
  {
   "cell_type": "code",
   "execution_count": 206,
   "metadata": {},
   "outputs": [
    {
     "name": "stdout",
     "output_type": "stream",
     "text": [
      "0\n"
     ]
    }
   ],
   "source": [
    "# Primero trato los Nan\n",
    "df['PurchaseInfluence'] = df['PurchaseInfluence'].fillna('Other')\n",
    "print(df['PurchaseInfluence'].isna().sum())"
   ]
  },
  {
   "cell_type": "code",
   "execution_count": 207,
   "metadata": {},
   "outputs": [
    {
     "data": {
      "text/plain": [
       "array(['I have little or no influence', 'I have some influence',\n",
       "       'I have a great deal of influence', 'Other'], dtype=object)"
      ]
     },
     "execution_count": 207,
     "metadata": {},
     "output_type": "execute_result"
    }
   ],
   "source": [
    "df['PurchaseInfluence'].unique()"
   ]
  },
  {
   "cell_type": "code",
   "execution_count": 208,
   "metadata": {},
   "outputs": [],
   "source": [
    "labels13 = {\n",
    "    'I have little or no influence': 0,\n",
    "    'I have some influence': 1,\n",
    "    'I have a great deal of influence': 2,\n",
    "    'Other': -1\n",
    "}\n",
    "df['PurchaseInfluence'] = df['PurchaseInfluence'].map(labels13).fillna(-1)"
   ]
  },
  {
   "cell_type": "markdown",
   "metadata": {},
   "source": [
    "14. TechList: Irrelevante, lo elimino"
   ]
  },
  {
   "cell_type": "code",
   "execution_count": 209,
   "metadata": {},
   "outputs": [],
   "source": [
    "df = df.drop(['TechList'], axis=1)"
   ]
  },
  {
   "cell_type": "markdown",
   "metadata": {},
   "source": [
    "15. BuyNewTool: Cómo descubrir o investigas soluciones disponibles en nuevas herramientas o softwares\n",
    "- Start a free trial \n",
    "- Ask developers I know/work with \n",
    "- Ask a generative AI tool \n",
    "- Visit developer communities like Stack Overflow \n",
    "- Read ratings or reviews on third party sites like G2 Crowd \n",
    "- Research companies that have advertised on sites I visit \n",
    "- Research companies that have emailed me\n",
    "- Other \n",
    "\n",
    "No tienen orden, separo por ; y hago OneHotEncoder al final"
   ]
  },
  {
   "cell_type": "code",
   "execution_count": 210,
   "metadata": {},
   "outputs": [
    {
     "data": {
      "text/plain": [
       "array(['Start a free trial;Ask developers I know/work with',\n",
       "       'Ask developers I know/work with;Visit developer communities like Stack Overflow',\n",
       "       'Start a free trial;Ask developers I know/work with;Visit developer communities like Stack Overflow',\n",
       "       nan,\n",
       "       'Start a free trial;Ask developers I know/work with;Visit developer communities like Stack Overflow;Ask a generative AI tool',\n",
       "       'Start a free trial;Ask developers I know/work with;Visit developer communities like Stack Overflow;Read ratings or reviews on third party sites like G2 Crowd',\n",
       "       'Ask developers I know/work with',\n",
       "       'Ask developers I know/work with;Visit developer communities like Stack Overflow;Read ratings or reviews on third party sites like G2 Crowd',\n",
       "       'Start a free trial;Ask developers I know/work with;Visit developer communities like Stack Overflow;Read ratings or reviews on third party sites like G2 Crowd;Ask a generative AI tool',\n",
       "       'Visit developer communities like Stack Overflow',\n",
       "       'Research companies that have advertised on sites I visit;Read ratings or reviews on third party sites like G2 Crowd',\n",
       "       'Read ratings or reviews on third party sites like G2 Crowd',\n",
       "       'Start a free trial;Ask developers I know/work with;Visit developer communities like Stack Overflow;Research companies that have advertised on sites I visit;Read ratings or reviews on third party sites like G2 Crowd;Research companies that have emailed me',\n",
       "       'Start a free trial',\n",
       "       'Start a free trial;Ask developers I know/work with;Visit developer communities like Stack Overflow;Research companies that have advertised on sites I visit;Read ratings or reviews on third party sites like G2 Crowd',\n",
       "       'Ask developers I know/work with;Ask a generative AI tool',\n",
       "       'Start a free trial;Ask developers I know/work with;Visit developer communities like Stack Overflow;Other (please specify):;Ask a generative AI tool',\n",
       "       'Ask developers I know/work with;Research companies that have advertised on sites I visit',\n",
       "       'Start a free trial;Ask developers I know/work with;Read ratings or reviews on third party sites like G2 Crowd',\n",
       "       'Ask developers I know/work with;Visit developer communities like Stack Overflow;Research companies that have advertised on sites I visit;Ask a generative AI tool',\n",
       "       'Start a free trial;Visit developer communities like Stack Overflow;Research companies that have advertised on sites I visit;Research companies that have emailed me',\n",
       "       'Ask developers I know/work with;Visit developer communities like Stack Overflow;Research companies that have advertised on sites I visit;Read ratings or reviews on third party sites like G2 Crowd;Research companies that have emailed me',\n",
       "       'Start a free trial;Ask developers I know/work with;Research companies that have advertised on sites I visit',\n",
       "       'Start a free trial;Research companies that have emailed me',\n",
       "       'Start a free trial;Ask developers I know/work with;Research companies that have advertised on sites I visit;Read ratings or reviews on third party sites like G2 Crowd',\n",
       "       'Ask developers I know/work with;Read ratings or reviews on third party sites like G2 Crowd',\n",
       "       'Research companies that have advertised on sites I visit;Research companies that have emailed me',\n",
       "       'Ask developers I know/work with;Visit developer communities like Stack Overflow;Read ratings or reviews on third party sites like G2 Crowd;Research companies that have emailed me',\n",
       "       'Visit developer communities like Stack Overflow;Read ratings or reviews on third party sites like G2 Crowd;Ask a generative AI tool',\n",
       "       'Start a free trial;Visit developer communities like Stack Overflow;Read ratings or reviews on third party sites like G2 Crowd',\n",
       "       'Start a free trial;Visit developer communities like Stack Overflow',\n",
       "       'Ask developers I know/work with;Visit developer communities like Stack Overflow;Research companies that have advertised on sites I visit',\n",
       "       'Start a free trial;Ask developers I know/work with;Other (please specify):',\n",
       "       'Start a free trial;Ask developers I know/work with;Research companies that have emailed me',\n",
       "       'Start a free trial;Ask developers I know/work with;Visit developer communities like Stack Overflow;Research companies that have advertised on sites I visit',\n",
       "       'Start a free trial;Other (please specify):;Ask a generative AI tool',\n",
       "       'Start a free trial;Visit developer communities like Stack Overflow;Ask a generative AI tool',\n",
       "       'Ask developers I know/work with;Visit developer communities like Stack Overflow;Research companies that have advertised on sites I visit;Read ratings or reviews on third party sites like G2 Crowd',\n",
       "       'Start a free trial;Read ratings or reviews on third party sites like G2 Crowd',\n",
       "       'Other (please specify):',\n",
       "       'Start a free trial;Ask developers I know/work with;Ask a generative AI tool',\n",
       "       'Start a free trial;Ask developers I know/work with;Visit developer communities like Stack Overflow;Other (please specify):;Read ratings or reviews on third party sites like G2 Crowd',\n",
       "       'Start a free trial;Visit developer communities like Stack Overflow;Other (please specify):',\n",
       "       'Ask developers I know/work with;Research companies that have advertised on sites I visit;Research companies that have emailed me',\n",
       "       'Visit developer communities like Stack Overflow;Read ratings or reviews on third party sites like G2 Crowd',\n",
       "       'Ask developers I know/work with;Visit developer communities like Stack Overflow;Research companies that have emailed me',\n",
       "       'Ask developers I know/work with;Visit developer communities like Stack Overflow;Ask a generative AI tool',\n",
       "       'Start a free trial;Visit developer communities like Stack Overflow;Research companies that have emailed me',\n",
       "       'Research companies that have advertised on sites I visit',\n",
       "       'Visit developer communities like Stack Overflow;Research companies that have advertised on sites I visit',\n",
       "       'Start a free trial;Ask developers I know/work with;Visit developer communities like Stack Overflow;Research companies that have advertised on sites I visit;Research companies that have emailed me',\n",
       "       'Start a free trial;Visit developer communities like Stack Overflow;Read ratings or reviews on third party sites like G2 Crowd;Research companies that have emailed me',\n",
       "       'Ask developers I know/work with;Visit developer communities like Stack Overflow;Other (please specify):;Ask a generative AI tool',\n",
       "       'Start a free trial;Ask developers I know/work with;Visit developer communities like Stack Overflow;Research companies that have advertised on sites I visit;Read ratings or reviews on third party sites like G2 Crowd;Ask a generative AI tool',\n",
       "       'Visit developer communities like Stack Overflow;Research companies that have advertised on sites I visit;Read ratings or reviews on third party sites like G2 Crowd;Research companies that have emailed me',\n",
       "       'Ask developers I know/work with;Visit developer communities like Stack Overflow;Read ratings or reviews on third party sites like G2 Crowd;Ask a generative AI tool',\n",
       "       'Start a free trial;Visit developer communities like Stack Overflow;Other (please specify):;Read ratings or reviews on third party sites like G2 Crowd',\n",
       "       'Visit developer communities like Stack Overflow;Ask a generative AI tool',\n",
       "       'Start a free trial;Read ratings or reviews on third party sites like G2 Crowd;Research companies that have emailed me',\n",
       "       'Start a free trial;Ask developers I know/work with;Visit developer communities like Stack Overflow;Other (please specify):',\n",
       "       'Start a free trial;Ask developers I know/work with;Visit developer communities like Stack Overflow;Research companies that have emailed me',\n",
       "       'Ask developers I know/work with;Visit developer communities like Stack Overflow;Research companies that have advertised on sites I visit;Ask a generative AI tool;Research companies that have emailed me',\n",
       "       'Visit developer communities like Stack Overflow;Other (please specify):',\n",
       "       'Ask developers I know/work with;Visit developer communities like Stack Overflow;Other (please specify):',\n",
       "       'Start a free trial;Ask developers I know/work with;Visit developer communities like Stack Overflow;Ask a generative AI tool;Research companies that have emailed me',\n",
       "       'Start a free trial;Other (please specify):',\n",
       "       'Start a free trial;Ask developers I know/work with;Research companies that have advertised on sites I visit;Research companies that have emailed me',\n",
       "       'Visit developer communities like Stack Overflow;Other (please specify):;Read ratings or reviews on third party sites like G2 Crowd',\n",
       "       'Start a free trial;Visit developer communities like Stack Overflow;Research companies that have advertised on sites I visit;Read ratings or reviews on third party sites like G2 Crowd;Ask a generative AI tool',\n",
       "       'Start a free trial;Ask a generative AI tool',\n",
       "       'Ask developers I know/work with;Other (please specify):;Ask a generative AI tool',\n",
       "       'Start a free trial;Research companies that have advertised on sites I visit',\n",
       "       'Start a free trial;Visit developer communities like Stack Overflow;Read ratings or reviews on third party sites like G2 Crowd;Ask a generative AI tool',\n",
       "       'Start a free trial;Visit developer communities like Stack Overflow;Research companies that have advertised on sites I visit;Read ratings or reviews on third party sites like G2 Crowd',\n",
       "       'Start a free trial;Ask developers I know/work with;Read ratings or reviews on third party sites like G2 Crowd;Research companies that have emailed me',\n",
       "       'Start a free trial;Research companies that have advertised on sites I visit;Research companies that have emailed me',\n",
       "       'Ask developers I know/work with;Ask a generative AI tool;Research companies that have emailed me',\n",
       "       'Start a free trial;Ask developers I know/work with;Ask a generative AI tool;Research companies that have emailed me',\n",
       "       'Start a free trial;Ask developers I know/work with;Read ratings or reviews on third party sites like G2 Crowd;Ask a generative AI tool',\n",
       "       'Start a free trial;Research companies that have advertised on sites I visit;Read ratings or reviews on third party sites like G2 Crowd',\n",
       "       'Start a free trial;Visit developer communities like Stack Overflow;Research companies that have advertised on sites I visit',\n",
       "       'Start a free trial;Ask developers I know/work with;Visit developer communities like Stack Overflow;Research companies that have advertised on sites I visit;Ask a generative AI tool',\n",
       "       'Start a free trial;Other (please specify):;Read ratings or reviews on third party sites like G2 Crowd',\n",
       "       'Start a free trial;Other (please specify):;Research companies that have advertised on sites I visit;Read ratings or reviews on third party sites like G2 Crowd',\n",
       "       'Ask developers I know/work with;Visit developer communities like Stack Overflow;Research companies that have advertised on sites I visit;Read ratings or reviews on third party sites like G2 Crowd;Ask a generative AI tool;Research companies that have emailed me',\n",
       "       'Visit developer communities like Stack Overflow;Research companies that have advertised on sites I visit;Read ratings or reviews on third party sites like G2 Crowd',\n",
       "       'Start a free trial;Ask developers I know/work with;Other (please specify):;Ask a generative AI tool',\n",
       "       'Ask developers I know/work with;Visit developer communities like Stack Overflow;Research companies that have advertised on sites I visit;Read ratings or reviews on third party sites like G2 Crowd;Ask a generative AI tool',\n",
       "       'Ask a generative AI tool',\n",
       "       'Start a free trial;Ask developers I know/work with;Research companies that have advertised on sites I visit;Ask a generative AI tool;Research companies that have emailed me',\n",
       "       'Ask developers I know/work with;Other (please specify):',\n",
       "       'Ask developers I know/work with;Visit developer communities like Stack Overflow;Other (please specify):;Read ratings or reviews on third party sites like G2 Crowd',\n",
       "       'Start a free trial;Research companies that have advertised on sites I visit;Ask a generative AI tool',\n",
       "       'Research companies that have advertised on sites I visit;Read ratings or reviews on third party sites like G2 Crowd;Research companies that have emailed me',\n",
       "       'Ask developers I know/work with;Research companies that have advertised on sites I visit;Read ratings or reviews on third party sites like G2 Crowd;Research companies that have emailed me',\n",
       "       'Start a free trial;Ask developers I know/work with;Research companies that have advertised on sites I visit;Read ratings or reviews on third party sites like G2 Crowd;Ask a generative AI tool',\n",
       "       'Start a free trial;Visit developer communities like Stack Overflow;Research companies that have advertised on sites I visit;Ask a generative AI tool',\n",
       "       'Ask developers I know/work with;Other (please specify):;Read ratings or reviews on third party sites like G2 Crowd',\n",
       "       'Start a free trial;Ask developers I know/work with;Visit developer communities like Stack Overflow;Read ratings or reviews on third party sites like G2 Crowd;Research companies that have emailed me',\n",
       "       'Start a free trial;Ask developers I know/work with;Visit developer communities like Stack Overflow;Research companies that have advertised on sites I visit;Read ratings or reviews on third party sites like G2 Crowd;Ask a generative AI tool;Research companies that have emailed me',\n",
       "       'Start a free trial;Ask a generative AI tool;Research companies that have emailed me',\n",
       "       'Ask developers I know/work with;Read ratings or reviews on third party sites like G2 Crowd;Ask a generative AI tool',\n",
       "       'Start a free trial;Visit developer communities like Stack Overflow;Research companies that have advertised on sites I visit;Read ratings or reviews on third party sites like G2 Crowd;Research companies that have emailed me',\n",
       "       'Start a free trial;Visit developer communities like Stack Overflow;Other (please specify):;Ask a generative AI tool',\n",
       "       'Start a free trial;Visit developer communities like Stack Overflow;Ask a generative AI tool;Research companies that have emailed me',\n",
       "       'Start a free trial;Read ratings or reviews on third party sites like G2 Crowd;Ask a generative AI tool'],\n",
       "      dtype=object)"
      ]
     },
     "execution_count": 210,
     "metadata": {},
     "output_type": "execute_result"
    }
   ],
   "source": [
    "df['BuyNewTool'].unique()"
   ]
  },
  {
   "cell_type": "code",
   "execution_count": 211,
   "metadata": {},
   "outputs": [],
   "source": [
    "df['BuyNewTool'].isna().sum()\n",
    "df['BuyNewTool'] = df['BuyNewTool'].fillna('Other')"
   ]
  },
  {
   "cell_type": "markdown",
   "metadata": {},
   "source": [
    "#### Ahora vienen una seguidilla de columnas que tengo que separar por el ';' y luego hacer un OneHotEncoder. \n",
    "\n",
    "Creo una funcion para aplicar lo mismo a todas juntas. El codigo de estas columnas se vera al final.\n",
    "\n",
    "Luego elimino las que indico en el listado, por no aportar informacion nueva ni relevante"
   ]
  },
  {
   "cell_type": "markdown",
   "metadata": {},
   "source": [
    "16. LanguageHaveWorkedWith: Dividirlo por ';' y luego OneHotEncoder. Se haran muchas columnas, pero no queda otra. \n",
    "\n",
    "17. LanguageWantToWorkWith: La elimino, dejo solo la de \"HaveWorkedWith\" como representativa. Sino se me hacen muchas columnas y muy repetitivas\n",
    "\n",
    "18. DatabaseHaveWorkedWith: Igual\n",
    "\n",
    "19. DatabaseWantToWorkWith: La elimino, dejo solo la de \"HaveWorkedWith\" como representativa. Sino se me hacen muchas columnas y muy repetitivas\n",
    "\n",
    "20. PlatformHaveWorkedWith: Igual\n",
    "\n",
    "21. PlatformWantToWorkWith: La elimino, dejo solo la de \"HaveWorkedWith\" como representativa. Sino se me hacen muchas columnas y muy repetitivas\n",
    "\n",
    "22. WebframeHaveWorkedWith: Igual\n",
    "\n",
    "23. WebframeWantToWorkWith: La elimino, dejo solo la de \"HaveWorkedWith\" como representativa. Sino se me hacen muchas columnas y muy repetitivas\n",
    "\n",
    "24. MiscTechHaveWorkedWith: Igual \n",
    "\n",
    "25. MiscTechWantToWorkWith: La elimino, dejo solo la de \"HaveWorkedWith\" como representativa. Sino se me hacen muchas columnas y muy repetitivas \n",
    "\n",
    "26. ToolsTechHaveWorkedWith: Igual \n",
    "\n",
    "27. ToolsTechWantToWorkWith: La elimino, dejo solo la de \"HaveWorkedWith\" como representativa. Sino se me hacen muchas columnas y muy repetitivas\n",
    "\n",
    "28. NEWCollabToolsHaveWorkedWith: Igual \n",
    "\n",
    "29. NEWCollabToolsWantToWorkWith: La elimino, dejo solo la de \"HaveWorkedWith\" como representativa. Sino se me hacen muchas columnas y muy repetitivas\n",
    "\n",
    "30. OpSysPersonal use: La elimino, me quedo solo con el uso de sistema operativo profesional. "
   ]
  },
  {
   "cell_type": "markdown",
   "metadata": {},
   "source": [
    "31. OpSysProfessional use: Agrupo los sistemas operativos en los mas representativos para no hacer tantas columnas: \n",
    "- AIX (4) Otros\n",
    "- Android (3) Android-based\n",
    "- Arch (1)\n",
    "- BSD (1)\n",
    "- ChromeOS (3)\n",
    "- Cygwin (4)\n",
    "- Debian (1) Linux-based\n",
    "- Fedora (1)\n",
    "- Haiku (1)\n",
    "- iOS (2) MacOs\n",
    "- iPadOS (2)\n",
    "- MacOS (2)\n",
    "- Other Linux-based (1)\n",
    "- Red Hat (1)\n",
    "- Solaris (1)\n",
    "- Ubuntu (1)\n",
    "- Windows (0) Windows-based\n",
    "- Windows Subsystem for Linux (WSL) (0)\n",
    "- Other (4)\n",
    "\n",
    "Una vez agrupadas, le hago un MultilabelEncoder para poder poner varias etiquetas por fila"
   ]
  },
  {
   "cell_type": "code",
   "execution_count": 212,
   "metadata": {},
   "outputs": [
    {
     "data": {
      "text/plain": [
       "array(['Debian;Other Linux-based', 'MacOS',\n",
       "       'Windows;Windows Subsystem for Linux (WSL)', nan, 'Fedora',\n",
       "       'Ubuntu', 'Windows', 'Fedora;Windows', 'MacOS;Windows',\n",
       "       'MacOS;Ubuntu', 'Ubuntu;Windows', 'Arch;Debian;Ubuntu',\n",
       "       'iOS;iPadOS;MacOS', 'Android;iOS;MacOS', 'Android;MacOS', 'iOS',\n",
       "       'Debian;Other Linux-based;Ubuntu', 'iOS;MacOS',\n",
       "       'Android;iOS;iPadOS;MacOS;Ubuntu',\n",
       "       'Arch;Debian;Ubuntu;Windows;Windows Subsystem for Linux (WSL)',\n",
       "       'Arch;Windows;Windows Subsystem for Linux (WSL)', 'iPadOS;MacOS',\n",
       "       'Ubuntu;Windows;Windows Subsystem for Linux (WSL)',\n",
       "       'Android;Debian;Other Linux-based;Ubuntu;Windows', 'Arch',\n",
       "       'Debian;Other Linux-based;Ubuntu;Windows;Windows Subsystem for Linux (WSL)',\n",
       "       'Other (Please Specify):', 'Android;Windows',\n",
       "       'Debian;Ubuntu;Windows;Windows Subsystem for Linux (WSL)',\n",
       "       'Other Linux-based;Red Hat',\n",
       "       'Cygwin;Windows;Windows Subsystem for Linux (WSL)',\n",
       "       'MacOS;Ubuntu;Windows', 'Debian',\n",
       "       'Android;MacOS;Other Linux-based;Windows',\n",
       "       'Android;Debian;iOS;iPadOS;MacOS;Other Linux-based;Red Hat;Solaris;Ubuntu;Windows',\n",
       "       'Arch;MacOS;Ubuntu', 'Debian;Ubuntu;Windows',\n",
       "       'Fedora;Other Linux-based;Windows;Windows Subsystem for Linux (WSL)',\n",
       "       'Android;Ubuntu;Windows',\n",
       "       'Arch;Debian;MacOS;Other Linux-based;Ubuntu',\n",
       "       'Arch;Debian;Ubuntu;Windows',\n",
       "       'Android;iOS;MacOS;Windows;Windows Subsystem for Linux (WSL)',\n",
       "       'Other Linux-based', 'Debian;Ubuntu',\n",
       "       'Other Linux-based;Ubuntu;Windows', 'Red Hat;Windows',\n",
       "       'Other Linux-based;Ubuntu',\n",
       "       'iOS;iPadOS;MacOS;Red Hat;Ubuntu;Windows',\n",
       "       'Arch;Other Linux-based',\n",
       "       'Android;Ubuntu;Windows;Windows Subsystem for Linux (WSL)',\n",
       "       'Arch;Windows', 'MacOS;Windows;Windows Subsystem for Linux (WSL)',\n",
       "       'Other Linux-based;Windows', 'ChromeOS;Windows',\n",
       "       'Android;MacOS;Windows',\n",
       "       'Android;iOS;MacOS;Ubuntu;Windows;Windows Subsystem for Linux (WSL)',\n",
       "       'Android;Debian;MacOS;Ubuntu;Windows',\n",
       "       'Other Linux-based;Other (Please Specify):',\n",
       "       'MacOS;Red Hat;Ubuntu',\n",
       "       'Cygwin;Ubuntu;Windows;Windows Subsystem for Linux (WSL)',\n",
       "       'Debian;Windows Subsystem for Linux (WSL)',\n",
       "       'MacOS;Ubuntu;Other (Please Specify):', 'iOS;MacOS;Ubuntu;Windows',\n",
       "       'Debian;MacOS', 'Android;Debian;Red Hat;Ubuntu',\n",
       "       'MacOS;Ubuntu;Windows Subsystem for Linux (WSL)', 'Arch;MacOS',\n",
       "       'Ubuntu;Other (Please Specify):',\n",
       "       'Android;Debian;iOS;MacOS;Ubuntu',\n",
       "       'Debian;Ubuntu;Windows;Windows Subsystem for Linux (WSL);Other (Please Specify):',\n",
       "       'Arch;Debian;Fedora;Other Linux-based;Red Hat;Ubuntu;Windows;Windows Subsystem for Linux (WSL)',\n",
       "       'Android;Arch', 'MacOS;Other Linux-based',\n",
       "       'Android;MacOS;Ubuntu;Windows;Windows Subsystem for Linux (WSL)',\n",
       "       'ChromeOS;iOS;Windows', 'Other Linux-based;Red Hat;Windows',\n",
       "       'Android;iOS',\n",
       "       'Android;MacOS;Other Linux-based;Ubuntu;Windows;Windows Subsystem for Linux (WSL)',\n",
       "       'Red Hat;Windows;Windows Subsystem for Linux (WSL)',\n",
       "       'Android;iOS;MacOS;Windows', 'Android;iOS;iPadOS;MacOS',\n",
       "       'Arch;Ubuntu;Windows', 'Android;iOS;Windows',\n",
       "       'Android;MacOS;Ubuntu',\n",
       "       'iOS;Ubuntu;Windows;Windows Subsystem for Linux (WSL)',\n",
       "       'Android;Debian;iOS;MacOS;Ubuntu;Windows;Windows Subsystem for Linux (WSL)',\n",
       "       'Debian;Other Linux-based;Red Hat;Ubuntu',\n",
       "       'Windows Subsystem for Linux (WSL)',\n",
       "       'Android;iOS;MacOS;Other Linux-based', 'Red Hat',\n",
       "       'AIX;Debian;Ubuntu', 'iOS;Ubuntu;Windows', 'Android;Ubuntu',\n",
       "       'Other Linux-based;Windows;Windows Subsystem for Linux (WSL)',\n",
       "       'MacOS;Other Linux-based;Windows Subsystem for Linux (WSL)',\n",
       "       'Windows;Other (Please Specify):',\n",
       "       'Android;iOS;MacOS;Windows Subsystem for Linux (WSL)',\n",
       "       'Debian;Fedora;Ubuntu;Windows Subsystem for Linux (WSL)',\n",
       "       'Other Linux-based;Ubuntu;Windows;Windows Subsystem for Linux (WSL)',\n",
       "       'Arch;Cygwin;Debian;Other Linux-based;Ubuntu;Windows;Windows Subsystem for Linux (WSL)',\n",
       "       'Debian;MacOS;Ubuntu', 'Android;Debian;Ubuntu;Windows',\n",
       "       'Android;Debian;MacOS;Red Hat;Ubuntu;Windows;Windows Subsystem for Linux (WSL)',\n",
       "       'Ubuntu;Windows Subsystem for Linux (WSL)', 'iOS;Windows',\n",
       "       'Cygwin;Windows',\n",
       "       'Other Linux-based;Ubuntu;Other (Please Specify):',\n",
       "       'iOS;iPadOS;MacOS;Windows', 'Fedora;Red Hat;Ubuntu',\n",
       "       'MacOS;Windows Subsystem for Linux (WSL)',\n",
       "       'Debian;Fedora;Red Hat;Ubuntu',\n",
       "       'Arch;Ubuntu;Windows;Windows Subsystem for Linux (WSL)',\n",
       "       'MacOS;Other (Please Specify):', 'Android;MacOS;Ubuntu;Windows',\n",
       "       'Android;iOS;iPadOS;MacOS;Windows', 'iOS;Ubuntu',\n",
       "       'Android;iOS;Ubuntu',\n",
       "       'Debian;Windows;Windows Subsystem for Linux (WSL)',\n",
       "       'Fedora;MacOS;Ubuntu', 'Debian;MacOS;Other Linux-based;Ubuntu',\n",
       "       'Debian;MacOS;Other Linux-based;Red Hat;Ubuntu', 'Android',\n",
       "       'MacOS;Other Linux-based;Windows', 'ChromeOS;MacOS;Windows',\n",
       "       'Fedora;Ubuntu', 'Android;iOS;MacOS;Ubuntu;Windows',\n",
       "       'Other Linux-based;Ubuntu;Windows Subsystem for Linux (WSL)',\n",
       "       'Debian;MacOS;Ubuntu;Windows', 'Red Hat;Ubuntu;Windows',\n",
       "       'Debian;MacOS;Other Linux-based;Ubuntu;Windows;Windows Subsystem for Linux (WSL)',\n",
       "       'Android;Debian;iOS;iPadOS;MacOS;Ubuntu;Windows;Windows Subsystem for Linux (WSL)',\n",
       "       'MacOS;Ubuntu;Windows;Windows Subsystem for Linux (WSL)',\n",
       "       'Android;Fedora;Windows',\n",
       "       'Android;iOS;MacOS;Other Linux-based;Ubuntu;Windows;Windows Subsystem for Linux (WSL)',\n",
       "       'Debian;Fedora;Other Linux-based;Red Hat;Solaris;Ubuntu',\n",
       "       'MacOS;Other Linux-based;Ubuntu',\n",
       "       'Debian;Ubuntu;Windows Subsystem for Linux (WSL)',\n",
       "       'Android;Debian;iOS;Ubuntu;Windows;Other (Please Specify):',\n",
       "       'Debian;MacOS;Red Hat;Ubuntu',\n",
       "       'Fedora;Windows;Windows Subsystem for Linux (WSL)', 'Arch;Ubuntu',\n",
       "       'Debian;Windows', 'Debian;Ubuntu;Other (Please Specify):',\n",
       "       'Android;iOS;iPadOS', 'Fedora;MacOS',\n",
       "       'ChromeOS;Debian;Red Hat;Ubuntu;Windows',\n",
       "       'Android;Other Linux-based;Ubuntu;Windows',\n",
       "       'MacOS;Red Hat;Solaris;Ubuntu;Windows;Windows Subsystem for Linux (WSL)',\n",
       "       'Red Hat;Ubuntu;Windows;Windows Subsystem for Linux (WSL)',\n",
       "       'Android;Windows;Windows Subsystem for Linux (WSL)',\n",
       "       'BSD;Debian;MacOS;Other Linux-based;Ubuntu',\n",
       "       'MacOS;Ubuntu;Windows;Other (Please Specify):', 'AIX;iOS;MacOS',\n",
       "       'Android;Debian;iOS;iPadOS;MacOS;Ubuntu;Windows',\n",
       "       'iOS;iPadOS;MacOS;Other Linux-based;Solaris;Ubuntu',\n",
       "       'Android;Other Linux-based;Ubuntu;Windows;Windows Subsystem for Linux (WSL)',\n",
       "       'Fedora;Red Hat;Windows',\n",
       "       'Debian;iOS;Ubuntu;Windows;Windows Subsystem for Linux (WSL)',\n",
       "       'Android;Debian;Other Linux-based;Ubuntu',\n",
       "       'Android;iOS;MacOS;Red Hat', 'BSD;Ubuntu',\n",
       "       'Debian;Fedora;MacOS;Red Hat;Solaris;Ubuntu;Windows',\n",
       "       'Android;Debian;Other Linux-based;Windows',\n",
       "       'MacOS;Red Hat;Ubuntu;Windows', 'Debian;MacOS;Windows',\n",
       "       'Android;Other Linux-based;Windows;Windows Subsystem for Linux (WSL)',\n",
       "       'Fedora;Ubuntu;Windows;Windows Subsystem for Linux (WSL)',\n",
       "       'iOS;MacOS;Ubuntu',\n",
       "       'Android;MacOS;Other Linux-based;Red Hat;Windows'], dtype=object)"
      ]
     },
     "execution_count": 212,
     "metadata": {},
     "output_type": "execute_result"
    }
   ],
   "source": [
    "df['OpSysProfessional use'].unique()"
   ]
  },
  {
   "cell_type": "code",
   "execution_count": 213,
   "metadata": {},
   "outputs": [
    {
     "data": {
      "text/plain": [
       "0"
      ]
     },
     "execution_count": 213,
     "metadata": {},
     "output_type": "execute_result"
    }
   ],
   "source": [
    "# Primero trato los Nan\n",
    "df['OpSysProfessional use'] = df['OpSysProfessional use'].fillna('Other')\n",
    "df['OpSysProfessional use'].isnull().sum()"
   ]
  },
  {
   "cell_type": "code",
   "execution_count": 214,
   "metadata": {},
   "outputs": [],
   "source": [
    "# Diccionario de mapeo\n",
    "os_map = {\n",
    "    'AIX': 'Otros',\n",
    "    'Android': 'Android-based',\n",
    "    'Arch': 'Linux-based',\n",
    "    'BSD': 'Linux-based',\n",
    "    'ChromeOS': 'Android-based',\n",
    "    'Cygwin': 'Otros',\n",
    "    'Debian': 'Linux-based',\n",
    "    'Fedora': 'Linux-based',\n",
    "    'Haiku': 'Linux-based',\n",
    "    'iOS': 'MacOS',\n",
    "    'iPadOS': 'MacOS',\n",
    "    'MacOS': 'MacOS',\n",
    "    'Other Linux-based': 'Linux-based',\n",
    "    'Red Hat': 'Linux-based',\n",
    "    'Solaris': 'Linux-based',\n",
    "    'Ubuntu': 'Linux-based',\n",
    "    'Windows': 'Windows-based',\n",
    "    'Windows Subsystem for Linux (WSL)': 'Windows-based',\n",
    "    'Other': 'Otros'\n",
    "}"
   ]
  },
  {
   "cell_type": "code",
   "execution_count": 215,
   "metadata": {},
   "outputs": [],
   "source": [
    "# Función modificada para manejar NaN\n",
    "def split_and_map(value):\n",
    "    if pd.isna(value):\n",
    "        return []  # Retorna una lista vacía para NaN\n",
    "    return [os_map.get(os.strip(), 'Otros') for os in value.split(';')]\n",
    "\n",
    "# Aplicar la función a la columna\n",
    "df['OpSysProfessional_Category'] = df['OpSysProfessional use'].apply(split_and_map)\n",
    "\n",
    "# Usar MultiLabelBinarizer para el one-hot encoding\n",
    "mlb = MultiLabelBinarizer()\n",
    "encoded = mlb.fit_transform(df['OpSysProfessional_Category'])\n",
    "\n",
    "# Crear DataFrame con las columnas codificadas\n",
    "encoded_df = pd.DataFrame(encoded, columns=mlb.classes_, index=df.index)\n",
    "\n",
    "# Unir el DataFrame original con las nuevas columnas codificadas\n",
    "df = pd.concat([df, encoded_df], axis=1)\n",
    "\n",
    "# Eliminar las columnas originales si ya no las necesitas\n",
    "df = df.drop(['OpSysProfessional_Category', 'OpSysProfessional use'], axis=1)\n",
    "\n",
    "# Verificar que no se haya creado una columna 'nan'\n",
    "if 'nan' in encoded_df.columns:\n",
    "    df = df.drop('nan', axis=1)"
   ]
  },
  {
   "cell_type": "markdown",
   "metadata": {},
   "source": [
    "32. OfficeStackAsyncHaveWorkedWith (Herramientas de documentación que has usado): Igual \n",
    "\n",
    "33. OfficeStackAsyncWantToWorkWith: La elimino, dejo solo la de \"HaveWorkedWith\" como representativa. Sino se me hacen muchas columnas y muy repetitivas\n",
    "\n",
    "34. OfficeStackSyncHaveWorkedWith(Herramientas de comunicación que has usado): Igual\n",
    "\n",
    "35. OfficeStackSyncWantToWorkWith: La elimino, dejo solo la de \"HaveWorkedWith\" como representativa. Sino se me hacen muchas columnas y muy repetitivas\n",
    "\n",
    "36. AISearchDevHaveWorkedWith: Igual\n",
    "\n",
    "37. AISearchWantToWorkWith: La elimino, dejo solo la de \"HaveWorkedWith\" como representativa. Sino se me hacen muchas columnas y muy repetitiva\n",
    "\n",
    "38. AIDevHaveWorkWith: Igual\n",
    "\n",
    "39. AIDevWantToWorkWith: La elimino, dejo solo la de \"HaveWorkedWith\" como representativa. Sino se me hacen muchas columnas y muy repetitivas\n",
    "\n",
    "40. NEWSOSites(Uso de StackOverFlow): No tiene relevancia para mi analisis en concreto, lo elimino. \n",
    "\n",
    "41. SOVisitFreq: No tiene relevancia para mi analisis en concreto, lo elimino.\n",
    "\n",
    "42. SOAccount: No tiene relevancia para mi analisis en concreto, lo elimino.\n",
    "\n",
    "43. SOPartFreq: No tiene relevancia para mi analisis en concreto, lo elimino.\n",
    "\n",
    "44. SOComm: No tiene relevancia para mi analisis en concreto, lo elimino.\n",
    "\n",
    "45. SOAI: No tiene relevancia para mi analisis en concreto, lo elimino."
   ]
  },
  {
   "cell_type": "markdown",
   "metadata": {},
   "source": [
    "46. AISelect (Usas IA para tu proceso de desarrollo):\n",
    "- Yes \n",
    "- No, but I plan to soon \n",
    "- No, and I don't plan to\n",
    "Elijo Label encoder con (2) para el Yes."
   ]
  },
  {
   "cell_type": "code",
   "execution_count": 216,
   "metadata": {},
   "outputs": [
    {
     "data": {
      "text/plain": [
       "array(['Yes', 'No, but I plan to soon', \"No, and I don't plan to\"],\n",
       "      dtype=object)"
      ]
     },
     "execution_count": 216,
     "metadata": {},
     "output_type": "execute_result"
    }
   ],
   "source": [
    "df['AISelect'].unique()"
   ]
  },
  {
   "cell_type": "code",
   "execution_count": 217,
   "metadata": {},
   "outputs": [
    {
     "name": "stdout",
     "output_type": "stream",
     "text": [
      "0\n"
     ]
    }
   ],
   "source": [
    "# Primero trato los Nan\n",
    "df['AISelect'] = df['AISelect'].fillna('Other')\n",
    "print(df['AISelect'].isna().sum())"
   ]
  },
  {
   "cell_type": "code",
   "execution_count": 218,
   "metadata": {},
   "outputs": [],
   "source": [
    "labels60 = {\n",
    "    \"No, and I don't plan to\": 0,\n",
    "    'No, but I plan to soon': 1,\n",
    "    'Yes': 2,\n",
    "    'Other': -1\n",
    "}\n",
    "df['AISelect'] = df['AISelect'].map(labels60).fillna(-1)"
   ]
  },
  {
   "cell_type": "markdown",
   "metadata": {},
   "source": [
    "47. AISent (Uso de herramientas de IA como parte de su flujo de trabajo de desarrollo): \n",
    "- Very favorable (5) \n",
    "- Favorable(4)\n",
    "- Indifferent (3)\n",
    "- Unfavorable (2)\n",
    "- Very unfavorable (1)\n",
    "- Unsure (0)\n",
    "\n",
    "LabelEncoder con los valores indicados. "
   ]
  },
  {
   "cell_type": "code",
   "execution_count": 219,
   "metadata": {},
   "outputs": [
    {
     "data": {
      "text/plain": [
       "array(['Favorable', 'Indifferent', 'Unsure', nan, 'Very favorable',\n",
       "       'Unfavorable', 'Very unfavorable'], dtype=object)"
      ]
     },
     "execution_count": 219,
     "metadata": {},
     "output_type": "execute_result"
    }
   ],
   "source": [
    "df['AISent'].unique()"
   ]
  },
  {
   "cell_type": "code",
   "execution_count": 220,
   "metadata": {},
   "outputs": [
    {
     "name": "stdout",
     "output_type": "stream",
     "text": [
      "0\n"
     ]
    }
   ],
   "source": [
    "# Primero trato los Nan\n",
    "df['AISent'] = df['AISent'].fillna('Unsure')\n",
    "print(df['AISent'].isna().sum())"
   ]
  },
  {
   "cell_type": "code",
   "execution_count": 221,
   "metadata": {},
   "outputs": [],
   "source": [
    "labels61 = {\n",
    "    'Very favorable': 5, \n",
    "    'Favorable': 4, \n",
    "    'Indifferent': 3, \n",
    "    'Unfavorable': 2,\n",
    "    'Very unfavorable': 1,\n",
    "    'Unsure': 0\n",
    "}\n",
    "df['AISent'] = df['AISent'].map(labels61).fillna(-1)"
   ]
  },
  {
   "cell_type": "markdown",
   "metadata": {},
   "source": [
    "48. AIAcc (Cuanto confias en el output de la IA como parte de tu trabajo):\n",
    "- Increase productivity\n",
    "- Greater efficiency\n",
    "- Improve collaboration\n",
    "- Speed up learning\n",
    "- Improve accuracy in coding\n",
    "- None of the above\n",
    "\n",
    "Dividirlo por ';' y luego OneHotEncoder. \n",
    "\n",
    "49. AIBen (beneficios importantes espera lograr con la IA): \n",
    "- Increase productivity \n",
    "- Greater efficiency \n",
    "- Make workload more manageable \n",
    "- Improve collaboration \n",
    "- Speed up learning \n",
    "- Improve accuracy in coding \n",
    "- None of the above \n",
    "- Other \n",
    "\n",
    "Dividirlo por ';' y luego OneHotEncoder. "
   ]
  },
  {
   "cell_type": "markdown",
   "metadata": {},
   "source": [
    "50. AIToolInterested in Using: La elimino, dejo solo la de \"Currently in using\" como representativa. Sino se me hacen muchas columnas y muy repetitivas\n",
    "\n",
    "51. AIToolCurrently Using:\n",
    "- Learning about a codebase \n",
    "- Project planning \n",
    "- Writing code \n",
    "- Documenting code \n",
    "- Debugging and getting help \n",
    "- Testing code \n",
    "- Committing and reviewing code \n",
    "- Deployment and monitoring \n",
    "- Predictive analytics \n",
    "- Search for answers \n",
    "- Generating content or synthetic data \n",
    "- Other \n",
    "\n",
    "Dividirlo por ';' y luego OneHotEncoder.\n",
    "\n",
    "52. AIToolNot interested in Using: La elimino, dejo solo la de \"Currently in using\" como representativa. Sino se me hacen muchas columnas y muy repetitivas\n",
    "\n",
    "53. AINextVery different: La elimino, dejo solo la de \"Currently in using\" como representativa. Sino se me hacen muchas columnas y muy repetitivas\n",
    "\n",
    "54. AINextNeither different nor similar: La elimino, dejo solo la de \"Currently in using\" como representativa. Sino se me hacen muchas columnas y muy repetitivas\n",
    "\n",
    "55. AINextSomewhat similar: La elimino, dejo solo la de \"Currently in using\" como representativa. Sino se me hacen muchas columnas y muy repetitivas\n",
    "\n",
    "56. AINextVery similar: La elimino, dejo solo la de \"Currently in using\" como representativa. Sino se me hacen muchas columnas y muy repetitivas\n",
    "\n",
    "57. AINextSomewhat different: La elimino, dejo solo la de \"Currently in using\" como representativa. Sino se me hacen muchas columnas y muy repetitivas\n",
    "\n",
    "58. TBranch: Irrelevante, la elimino\n",
    "\n",
    "59. ICorPM: Irrelevante, la elimino\n",
    "\n",
    "60. WorkExp: Los dejo como estan "
   ]
  },
  {
   "cell_type": "markdown",
   "metadata": {},
   "source": [
    "61. Knowledge_1: Irrelevante, lo elimino\n",
    "\n",
    "62. Knowledge_2: Irrelevante, lo elimino\n",
    "\n",
    "63. Knowledge_3: Irrelevante, lo elimino\n",
    "\n",
    "64. Knowledge_4: Irrelevante, lo elimino\n",
    "\n",
    "65. Knowledge_5: Irrelevante, lo elimino\n",
    "\n",
    "66. Knowledge_6: Irrelevante, lo elimino\n",
    "\n",
    "67. Knowledge_7: Irrelevante, lo elimino\n",
    "\n",
    "68. Knowledge_8: Irrelevante, lo elimino"
   ]
  },
  {
   "cell_type": "markdown",
   "metadata": {},
   "source": [
    "69. Frequency_1: (Qué tan frecuente experimentas ‘Needing help from people outside of your immediate team?‘): LabelEncoder "
   ]
  },
  {
   "cell_type": "code",
   "execution_count": 222,
   "metadata": {},
   "outputs": [
    {
     "name": "stdout",
     "output_type": "stream",
     "text": [
      "0\n"
     ]
    }
   ],
   "source": [
    "# Primero trato los Nan\n",
    "df['Frequency_1'] = df['Frequency_1'].fillna('Other')\n",
    "print(df['Frequency_1'].isna().sum())"
   ]
  },
  {
   "cell_type": "code",
   "execution_count": 223,
   "metadata": {},
   "outputs": [
    {
     "data": {
      "text/plain": [
       "array(['1-2 times a week', 'Never', 'Other', '10+ times a week',\n",
       "       '3-5 times a week', '6-10 times a week'], dtype=object)"
      ]
     },
     "execution_count": 223,
     "metadata": {},
     "output_type": "execute_result"
    }
   ],
   "source": [
    "df['Frequency_1'].unique()"
   ]
  },
  {
   "cell_type": "code",
   "execution_count": 224,
   "metadata": {},
   "outputs": [],
   "source": [
    "labels88 = {\n",
    "    '10+ times a week': 4, \n",
    "    '6-10 times a week': 3, \n",
    "    '3-5 times a week': 2,\n",
    "    '1-2 times a week': 1, \n",
    "    'Never': 0, \n",
    "    'Other': -1\n",
    "}\n",
    "df['Frequency_1'] = df['Frequency_1'].map(labels88).fillna(-1)"
   ]
  },
  {
   "cell_type": "markdown",
   "metadata": {},
   "source": [
    "70. Frequency_2 (Qué tan frecuente experimentas ‘Interacting with people outside of your immediate team?’):  LabelEncoder\n",
    "\n",
    "Mismas categorias que la 88, uso ese labels"
   ]
  },
  {
   "cell_type": "code",
   "execution_count": 225,
   "metadata": {},
   "outputs": [
    {
     "data": {
      "text/plain": [
       "array(['1-2 times a week', nan, 'Never', '6-10 times a week',\n",
       "       '3-5 times a week', '10+ times a week'], dtype=object)"
      ]
     },
     "execution_count": 225,
     "metadata": {},
     "output_type": "execute_result"
    }
   ],
   "source": [
    "df['Frequency_2'].unique()"
   ]
  },
  {
   "cell_type": "code",
   "execution_count": 226,
   "metadata": {},
   "outputs": [
    {
     "name": "stdout",
     "output_type": "stream",
     "text": [
      "0\n"
     ]
    }
   ],
   "source": [
    "# Primero trato los Nan\n",
    "df['Frequency_2'] = df['Frequency_2'].fillna('Other')\n",
    "print(df['Frequency_2'].isna().sum())"
   ]
  },
  {
   "cell_type": "code",
   "execution_count": 227,
   "metadata": {},
   "outputs": [],
   "source": [
    "df['Frequency_2'] = df['Frequency_2'].map(labels88).fillna(-1)"
   ]
  },
  {
   "cell_type": "markdown",
   "metadata": {},
   "source": [
    "71. Frequency_3\t(Qué tan frecuente experimentas ‘Encountering knowledge silos (where one individual or team has information that's not shared or distributed with other individuals or teams) at work?’): LabelEncoder\n",
    "\n",
    "Mismas categorias que la 88, uso ese labels"
   ]
  },
  {
   "cell_type": "code",
   "execution_count": 228,
   "metadata": {},
   "outputs": [
    {
     "data": {
      "text/plain": [
       "array(['1-2 times a week', 'Never', nan, '6-10 times a week',\n",
       "       '3-5 times a week', '10+ times a week'], dtype=object)"
      ]
     },
     "execution_count": 228,
     "metadata": {},
     "output_type": "execute_result"
    }
   ],
   "source": [
    "df['Frequency_3'].unique()"
   ]
  },
  {
   "cell_type": "code",
   "execution_count": 229,
   "metadata": {},
   "outputs": [
    {
     "name": "stdout",
     "output_type": "stream",
     "text": [
      "0\n"
     ]
    }
   ],
   "source": [
    "# Primero trato los Nan\n",
    "df['Frequency_3'] = df['Frequency_3'].fillna('Other')\n",
    "print(df['Frequency_3'].isna().sum())"
   ]
  },
  {
   "cell_type": "code",
   "execution_count": 230,
   "metadata": {},
   "outputs": [],
   "source": [
    "df['Frequency_3'] = df['Frequency_3'].map(labels88).fillna(-1)"
   ]
  },
  {
   "cell_type": "markdown",
   "metadata": {},
   "source": [
    "72. TimeSearching: (Promedio de tiempo que gastas buscando respuesta o solución a algún problema): \n",
    "- 'Less than 15 minutes a day': 0,\n",
    "- '15-30 minutes a day': 1,\n",
    "- '30-60 minutes a day': 2,\n",
    "- '60-120 minutes a day': 3,\n",
    "- 'Over 120 minutes a day': 4\n",
    "\n",
    "LabelEncoder con los valores asignados"
   ]
  },
  {
   "cell_type": "code",
   "execution_count": 231,
   "metadata": {},
   "outputs": [
    {
     "data": {
      "text/plain": [
       "array(['Less than 15 minutes a day', '15-30 minutes a day',\n",
       "       '30-60 minutes a day', nan, '60-120 minutes a day',\n",
       "       'Over 120 minutes a day'], dtype=object)"
      ]
     },
     "execution_count": 231,
     "metadata": {},
     "output_type": "execute_result"
    }
   ],
   "source": [
    "df['TimeSearching'].unique()"
   ]
  },
  {
   "cell_type": "code",
   "execution_count": 232,
   "metadata": {},
   "outputs": [
    {
     "name": "stdout",
     "output_type": "stream",
     "text": [
      "0\n"
     ]
    }
   ],
   "source": [
    "# Primero trato los Nan\n",
    "df['TimeSearching'] = df['TimeSearching'].fillna('IDK')\n",
    "print(df['TimeSearching'].isna().sum())"
   ]
  },
  {
   "cell_type": "code",
   "execution_count": 233,
   "metadata": {},
   "outputs": [],
   "source": [
    "labels91 = {\n",
    "'Less than 15 minutes a day': 0,\n",
    "    '15-30 minutes a day': 1,\n",
    "    '30-60 minutes a day': 2,\n",
    "    '60-120 minutes a day': 3,\n",
    "    'Over 120 minutes a day': 4,\n",
    "    'IDK': -1\n",
    "}\n",
    "df['TimeSearching'] = df['TimeSearching'].map(labels91).fillna(-1)"
   ]
  },
  {
   "cell_type": "markdown",
   "metadata": {},
   "source": [
    "73. TimeAnswering\t\n",
    "\n"
   ]
  },
  {
   "cell_type": "code",
   "execution_count": 234,
   "metadata": {},
   "outputs": [
    {
     "data": {
      "text/plain": [
       "array(['Less than 15 minutes a day', '30-60 minutes a day',\n",
       "       '15-30 minutes a day', nan, '60-120 minutes a day',\n",
       "       'Over 120 minutes a day'], dtype=object)"
      ]
     },
     "execution_count": 234,
     "metadata": {},
     "output_type": "execute_result"
    }
   ],
   "source": [
    "df['TimeAnswering'].unique()"
   ]
  },
  {
   "cell_type": "code",
   "execution_count": 235,
   "metadata": {},
   "outputs": [
    {
     "name": "stdout",
     "output_type": "stream",
     "text": [
      "0\n"
     ]
    }
   ],
   "source": [
    "# Primero trato los Nan\n",
    "df['TimeAnswering'] = df['TimeAnswering'].fillna('IDK')\n",
    "print(df['TimeAnswering'].isna().sum())"
   ]
  },
  {
   "cell_type": "code",
   "execution_count": 236,
   "metadata": {},
   "outputs": [],
   "source": [
    "df['TimeAnswering'] = df['TimeAnswering'].map(labels91).fillna(-1)"
   ]
  },
  {
   "cell_type": "markdown",
   "metadata": {},
   "source": [
    "74. ProfessionalTech:  Irrelevante, lo elimino.\n",
    "\n",
    "75. Industry (Industria de tu compañía):\n",
    "- Software Development (0)\n",
    "- Computer Systems Design and Services (0)\n",
    "- Internet, Telecomm or Information Services (0)\n",
    "- Fintech (0)\n",
    "- Energy (3)\n",
    "- Government (4)\n",
    "- Banking/Financial Services (1)\n",
    "- Manufacturing (3)\n",
    "- Transportation, or Supply Chain (3)\n",
    "- Healthcare (2)\n",
    "- Retail and Consumer Services (4)\n",
    "- Higher Education (2)\n",
    "- Media & Advertising Services (4)\n",
    "- Insurance (1)\n",
    "- Other(4)\n",
    "\n",
    "Los agrupo y les hago OneHotEncoder. "
   ]
  },
  {
   "cell_type": "code",
   "execution_count": 237,
   "metadata": {},
   "outputs": [
    {
     "data": {
      "text/plain": [
       "array(['Information Services, IT, Software Development, or other Technology',\n",
       "       nan, 'Other', 'Healthcare', 'Retail and Consumer Services',\n",
       "       'Legal Services', 'Higher Education', 'Financial Services',\n",
       "       'Advertising Services',\n",
       "       'Manufacturing, Transportation, or Supply Chain', 'Insurance',\n",
       "       'Wholesale', 'Oil & Gas'], dtype=object)"
      ]
     },
     "execution_count": 237,
     "metadata": {},
     "output_type": "execute_result"
    }
   ],
   "source": [
    "df['Industry'].unique()"
   ]
  },
  {
   "cell_type": "code",
   "execution_count": 238,
   "metadata": {},
   "outputs": [],
   "source": [
    "# Diccionario de mapeo\n",
    "industry_map = {\n",
    "    'Information Services, IT, Software Development, or other Technology': 'Tecnología y Servicios Digitales',\n",
    "    'Other:': 'Otros Servicios', \n",
    "    'Healthcare': 'Salud y Educación',\n",
    "    'Retail and Consumer Services': 'Otros Servicios',\n",
    "    'Legal Services': 'Otros Servicios',\n",
    "    'Higher Education': 'Salud y Educación',\n",
    "    'Financial Services': 'Servicios Financieros',\n",
    "    'Advertising Services': 'Otros Servicios',\n",
    "    'Manufacturing, Transportation, or Supply Chain': 'Industria y Energía',\n",
    "    'Insurance': 'Servicios Financieros',\n",
    "    'Wholesale': 'Otros Servicios',\n",
    "    'Oil & Gas': 'Industria y Energía'\n",
    "}\n",
    "\n",
    "# Función para manejar NaN y aplicar el mapeo\n",
    "def map_industry(value):\n",
    "    if pd.isna(value):\n",
    "        return 'Desconocido'\n",
    "    return industry_map.get(value, 'Otros Servicios')\n",
    "\n",
    "# Suponiendo que tienes un DataFrame llamado 'df' con una columna 'Industry'\n",
    "# Aplicamos el mapeo a la columna 'Industry'\n",
    "df['Industry_Category'] = df['Industry'].map(industry_map)\n",
    "\n",
    "# Creamos el OneHotEncoder\n",
    "encoder = OneHotEncoder(sparse_output=False, handle_unknown='ignore')\n",
    "\n",
    "# Aplicamos el OneHotEncoder\n",
    "encoded = encoder.fit_transform(df[['Industry_Category']])\n",
    "\n",
    "# Creamos un DataFrame con las columnas codificadas\n",
    "encoded_df = pd.DataFrame(encoded, columns=encoder.get_feature_names_out(['Industry_Category']), index=df.index)\n",
    "\n",
    "# Unimos el DataFrame original con las nuevas columnas codificadas\n",
    "df = pd.concat([df, encoded_df], axis=1)\n",
    "\n",
    "# Eliminamos la columna temporal 'Industry_Category' si ya no la necesitas\n",
    "df = df.drop(['Industry_Category', 'Industry', 'Industry_Category_nan'], axis=1)"
   ]
  },
  {
   "cell_type": "markdown",
   "metadata": {},
   "source": [
    "Por la forma en que OneHotEncoder trata los Nan, se me siguen creando columnas con Industry_Category_nan. Simplemente la Elimino y esa fila quedara sin valores"
   ]
  },
  {
   "cell_type": "markdown",
   "metadata": {},
   "source": [
    "Creo la funcion para aplicar OneHotEncoder a todas las columnas que quedan, a las que primero tengo que tratar haciendo split de las ;. "
   ]
  },
  {
   "cell_type": "code",
   "execution_count": 239,
   "metadata": {},
   "outputs": [],
   "source": [
    "def process_and_encode(df, columns):\n",
    "    for column in columns:\n",
    "        # Separamos las categorías por el delimitador \";\"\n",
    "        df[column] = df[column].fillna('').str.split(';')\n",
    "        \n",
    "        # Creamos un objeto MultiLabelBinarizer\n",
    "        mlb = MultiLabelBinarizer()\n",
    "        \n",
    "        # Aplicamos MultiLabelBinarizer a las categorías separadas\n",
    "        encoded_values = mlb.fit_transform(df[column])\n",
    "        \n",
    "        # Creamos un DataFrame con los valores codificados\n",
    "        encoded_df = pd.DataFrame(encoded_values, columns=[f\"{column}_{c}\" for c in mlb.classes_], index=df.index)\n",
    "        \n",
    "        # Añadimos los resultados al DataFrame original\n",
    "        df = pd.concat([df, encoded_df], axis=1)\n",
    "        \n",
    "        # Eliminamos la columna original\n",
    "        df.drop(column, axis=1, inplace=True)\n",
    "    \n",
    "    return df"
   ]
  },
  {
   "cell_type": "markdown",
   "metadata": {},
   "source": [
    "Los Nan que existan en estas columnas he decidido dejarlos, y cuando se aplique el OneHotEncoder se pondran todos 0 en las columnas que agrega. En caso de que no sea asi, eliminare las columnas que sean nan"
   ]
  },
  {
   "cell_type": "code",
   "execution_count": 240,
   "metadata": {},
   "outputs": [],
   "source": [
    "# Supongamos que estas son las columnas que contienen valores separados por ';'\n",
    "columns_to_encode = ['BuyNewTool',\n",
    "    'LanguageHaveWorkedWith', 'DatabaseHaveWorkedWith', 'PlatformHaveWorkedWith', 'WebframeHaveWorkedWith', \n",
    "    'MiscTechHaveWorkedWith', 'ToolsTechHaveWorkedWith', 'NEWCollabToolsHaveWorkedWith', 'OfficeStackAsyncHaveWorkedWith', 'OfficeStackSyncHaveWorkedWith',\n",
    "    'AISearchHaveWorkedWith', 'AIDevHaveWorkedWith', 'AIAcc',\n",
    "    'AIBen', 'AIToolCurrently Using'\n",
    "    ]  # Reemplaza con los nombres reales de las columnas\n",
    "\n",
    "\n",
    "# Aplicamos la función al DataFrame\n",
    "df_encoded = process_and_encode(df, columns_to_encode)"
   ]
  },
  {
   "cell_type": "markdown",
   "metadata": {},
   "source": [
    "76. SurveyLength:\n",
    "\n",
    "78. SurveyEase: Irrelevante, lo elimino."
   ]
  },
  {
   "cell_type": "code",
   "execution_count": 241,
   "metadata": {},
   "outputs": [],
   "source": [
    "columns_to_drop = [\n",
    "    'LanguageWantToWorkWith', 'DatabaseWantToWorkWith', 'PlatformWantToWorkWith', 'WebframeWantToWorkWith', 'MiscTechWantToWorkWith', 'ToolsTechWantToWorkWith', 'NEWCollabToolsWantToWorkWith', 'OpSysPersonal use',\n",
    "    'OfficeStackAsyncWantToWorkWith', 'OfficeStackSyncWantToWorkWith', 'AISearchWantToWorkWith', 'AIDevWantToWorkWith',\n",
    "    'NEWSOSites', 'SOVisitFreq', 'SOAccount', 'SOPartFreq', 'SOComm', 'SOAI',\n",
    "    'AIToolInterested in Using', 'AIToolNot interested in Using', 'AINextVery different', \n",
    "    'AINextNeither different nor similar', 'AINextSomewhat similar', 'AINextVery similar', 'AINextSomewhat different',\n",
    "    'TBranch', 'ICorPM', 'WorkExp', \n",
    "    'Knowledge_1', 'Knowledge_2', 'Knowledge_3', 'Knowledge_4', 'Knowledge_5', 'Knowledge_6', 'Knowledge_7', 'Knowledge_8', \n",
    "    'ProfessionalTech', 'SurveyLength', 'SurveyEase'\n",
    "]"
   ]
  },
  {
   "cell_type": "code",
   "execution_count": 242,
   "metadata": {},
   "outputs": [],
   "source": [
    "df = df.drop(columns_to_drop, axis=1)"
   ]
  },
  {
   "cell_type": "code",
   "execution_count": 243,
   "metadata": {},
   "outputs": [],
   "source": [
    "df=df.drop(['BuyNewTool',\n",
    "    'LanguageHaveWorkedWith', 'DatabaseHaveWorkedWith', 'PlatformHaveWorkedWith', 'WebframeHaveWorkedWith', \n",
    "    'MiscTechHaveWorkedWith', 'ToolsTechHaveWorkedWith', 'NEWCollabToolsHaveWorkedWith', 'OfficeStackAsyncHaveWorkedWith', 'OfficeStackSyncHaveWorkedWith',\n",
    "    'AISearchHaveWorkedWith', 'AIDevHaveWorkedWith', 'AIAcc',\n",
    "    'AIBen', 'AIToolCurrently Using'\n",
    "    ], axis=1)"
   ]
  },
  {
   "cell_type": "code",
   "execution_count": 244,
   "metadata": {},
   "outputs": [
    {
     "name": "stdout",
     "output_type": "stream",
     "text": [
      "MainBranch\n",
      "CodingActivities\n",
      "EdLevel\n",
      "LearnCode\n",
      "YearsCode\n",
      "YearsCodePro\n",
      "OrgSize\n",
      "PurchaseInfluence\n",
      "CompTotal\n",
      "AISelect\n",
      "AISent\n",
      "Frequency_1\n",
      "Frequency_2\n",
      "Frequency_3\n",
      "TimeSearching\n",
      "TimeAnswering\n",
      "Age_18-24 years old\n",
      "Age_25-34 years old\n",
      "Age_35-44 years old\n",
      "Age_45-54 years old\n",
      "Age_55-64 years old\n",
      "Age_65 years or older\n",
      "Age_Under 18 years old\n",
      "employment_map\n",
      "RemoteWork_Hybrid (some remote, some in-person)\n",
      "RemoteWork_In-person\n",
      "RemoteWork_Remote\n",
      "LearnCodeOnline_Category_Technical_Reference\n",
      "LearnCodeOnline_Category_Visual_Interactive\n",
      "DevType_Category_Desarrollo de Software\n",
      "DevType_Category_Gestión y Liderazgo\n",
      "DevType_Category_Hardware y Blockchain\n",
      "DevType_Category_Infraestructura y Sistemas\n",
      "DevType_Category_Ingeniería de Datos y Ciencia de Datos\n",
      "DevType_Category_Investigación y Educación\n",
      "DevType_Category_Roles de Soporte y Otros\n",
      "Android-based\n",
      "Linux-based\n",
      "MacOS\n",
      "Otros\n",
      "Windows-based\n",
      "Industry_Category_Industria y Energía\n",
      "Industry_Category_Otros Servicios\n",
      "Industry_Category_Salud y Educación\n",
      "Industry_Category_Servicios Financieros\n",
      "Industry_Category_Tecnología y Servicios Digitales\n"
     ]
    }
   ],
   "source": [
    "for col in df.columns:\n",
    "    print(col)"
   ]
  },
  {
   "cell_type": "code",
   "execution_count": 245,
   "metadata": {},
   "outputs": [
    {
     "data": {
      "text/html": [
       "<div>\n",
       "<style scoped>\n",
       "    .dataframe tbody tr th:only-of-type {\n",
       "        vertical-align: middle;\n",
       "    }\n",
       "\n",
       "    .dataframe tbody tr th {\n",
       "        vertical-align: top;\n",
       "    }\n",
       "\n",
       "    .dataframe thead th {\n",
       "        text-align: right;\n",
       "    }\n",
       "</style>\n",
       "<table border=\"1\" class=\"dataframe\">\n",
       "  <thead>\n",
       "    <tr style=\"text-align: right;\">\n",
       "      <th></th>\n",
       "      <th>MainBranch</th>\n",
       "      <th>CodingActivities</th>\n",
       "      <th>EdLevel</th>\n",
       "      <th>LearnCode</th>\n",
       "      <th>YearsCode</th>\n",
       "      <th>YearsCodePro</th>\n",
       "      <th>OrgSize</th>\n",
       "      <th>PurchaseInfluence</th>\n",
       "      <th>CompTotal</th>\n",
       "      <th>AISelect</th>\n",
       "      <th>AISent</th>\n",
       "      <th>Frequency_1</th>\n",
       "      <th>Frequency_2</th>\n",
       "      <th>Frequency_3</th>\n",
       "      <th>TimeSearching</th>\n",
       "      <th>TimeAnswering</th>\n",
       "      <th>Age_18-24 years old</th>\n",
       "      <th>Age_25-34 years old</th>\n",
       "      <th>Age_35-44 years old</th>\n",
       "      <th>Age_45-54 years old</th>\n",
       "      <th>Age_55-64 years old</th>\n",
       "      <th>Age_65 years or older</th>\n",
       "      <th>Age_Under 18 years old</th>\n",
       "      <th>employment_map</th>\n",
       "      <th>RemoteWork_Hybrid (some remote, some in-person)</th>\n",
       "      <th>RemoteWork_In-person</th>\n",
       "      <th>RemoteWork_Remote</th>\n",
       "      <th>LearnCodeOnline_Category_Technical_Reference</th>\n",
       "      <th>LearnCodeOnline_Category_Visual_Interactive</th>\n",
       "      <th>DevType_Category_Desarrollo de Software</th>\n",
       "      <th>DevType_Category_Gestión y Liderazgo</th>\n",
       "      <th>DevType_Category_Hardware y Blockchain</th>\n",
       "      <th>DevType_Category_Infraestructura y Sistemas</th>\n",
       "      <th>DevType_Category_Ingeniería de Datos y Ciencia de Datos</th>\n",
       "      <th>DevType_Category_Investigación y Educación</th>\n",
       "      <th>DevType_Category_Roles de Soporte y Otros</th>\n",
       "      <th>Android-based</th>\n",
       "      <th>Linux-based</th>\n",
       "      <th>MacOS</th>\n",
       "      <th>Otros</th>\n",
       "      <th>Windows-based</th>\n",
       "      <th>Industry_Category_Industria y Energía</th>\n",
       "      <th>Industry_Category_Otros Servicios</th>\n",
       "      <th>Industry_Category_Salud y Educación</th>\n",
       "      <th>Industry_Category_Servicios Financieros</th>\n",
       "      <th>Industry_Category_Tecnología y Servicios Digitales</th>\n",
       "    </tr>\n",
       "  </thead>\n",
       "  <tbody>\n",
       "    <tr>\n",
       "      <th>0</th>\n",
       "      <td>5</td>\n",
       "      <td>2.0</td>\n",
       "      <td>5</td>\n",
       "      <td>7</td>\n",
       "      <td>0</td>\n",
       "      <td>10</td>\n",
       "      <td>1</td>\n",
       "      <td>0</td>\n",
       "      <td>35000.0</td>\n",
       "      <td>2</td>\n",
       "      <td>4</td>\n",
       "      <td>1</td>\n",
       "      <td>1</td>\n",
       "      <td>1</td>\n",
       "      <td>0</td>\n",
       "      <td>0</td>\n",
       "      <td>0.0</td>\n",
       "      <td>0.0</td>\n",
       "      <td>1.0</td>\n",
       "      <td>0.0</td>\n",
       "      <td>0.0</td>\n",
       "      <td>0.0</td>\n",
       "      <td>0.0</td>\n",
       "      <td>1.0</td>\n",
       "      <td>1.0</td>\n",
       "      <td>0.0</td>\n",
       "      <td>0.0</td>\n",
       "      <td>0.0</td>\n",
       "      <td>1.0</td>\n",
       "      <td>1.0</td>\n",
       "      <td>0.0</td>\n",
       "      <td>0.0</td>\n",
       "      <td>0.0</td>\n",
       "      <td>0.0</td>\n",
       "      <td>0.0</td>\n",
       "      <td>0.0</td>\n",
       "      <td>0</td>\n",
       "      <td>1</td>\n",
       "      <td>0</td>\n",
       "      <td>0</td>\n",
       "      <td>0</td>\n",
       "      <td>0.0</td>\n",
       "      <td>0.0</td>\n",
       "      <td>0.0</td>\n",
       "      <td>0.0</td>\n",
       "      <td>1.0</td>\n",
       "    </tr>\n",
       "    <tr>\n",
       "      <th>1</th>\n",
       "      <td>5</td>\n",
       "      <td>-1.0</td>\n",
       "      <td>3</td>\n",
       "      <td>6</td>\n",
       "      <td>15</td>\n",
       "      <td>15</td>\n",
       "      <td>8</td>\n",
       "      <td>0</td>\n",
       "      <td>70000.0</td>\n",
       "      <td>1</td>\n",
       "      <td>3</td>\n",
       "      <td>1</td>\n",
       "      <td>1</td>\n",
       "      <td>1</td>\n",
       "      <td>1</td>\n",
       "      <td>2</td>\n",
       "      <td>0.0</td>\n",
       "      <td>0.0</td>\n",
       "      <td>1.0</td>\n",
       "      <td>0.0</td>\n",
       "      <td>0.0</td>\n",
       "      <td>0.0</td>\n",
       "      <td>0.0</td>\n",
       "      <td>1.0</td>\n",
       "      <td>0.0</td>\n",
       "      <td>0.0</td>\n",
       "      <td>1.0</td>\n",
       "      <td>0.0</td>\n",
       "      <td>1.0</td>\n",
       "      <td>1.0</td>\n",
       "      <td>0.0</td>\n",
       "      <td>0.0</td>\n",
       "      <td>0.0</td>\n",
       "      <td>0.0</td>\n",
       "      <td>0.0</td>\n",
       "      <td>0.0</td>\n",
       "      <td>0</td>\n",
       "      <td>0</td>\n",
       "      <td>1</td>\n",
       "      <td>0</td>\n",
       "      <td>0</td>\n",
       "      <td>0.0</td>\n",
       "      <td>0.0</td>\n",
       "      <td>0.0</td>\n",
       "      <td>0.0</td>\n",
       "      <td>1.0</td>\n",
       "    </tr>\n",
       "    <tr>\n",
       "      <th>2</th>\n",
       "      <td>5</td>\n",
       "      <td>-1.0</td>\n",
       "      <td>4</td>\n",
       "      <td>8</td>\n",
       "      <td>5</td>\n",
       "      <td>3</td>\n",
       "      <td>8</td>\n",
       "      <td>0</td>\n",
       "      <td>25000.0</td>\n",
       "      <td>1</td>\n",
       "      <td>0</td>\n",
       "      <td>0</td>\n",
       "      <td>1</td>\n",
       "      <td>0</td>\n",
       "      <td>2</td>\n",
       "      <td>1</td>\n",
       "      <td>1.0</td>\n",
       "      <td>0.0</td>\n",
       "      <td>0.0</td>\n",
       "      <td>0.0</td>\n",
       "      <td>0.0</td>\n",
       "      <td>0.0</td>\n",
       "      <td>0.0</td>\n",
       "      <td>1.0</td>\n",
       "      <td>1.0</td>\n",
       "      <td>0.0</td>\n",
       "      <td>0.0</td>\n",
       "      <td>0.0</td>\n",
       "      <td>0.0</td>\n",
       "      <td>1.0</td>\n",
       "      <td>0.0</td>\n",
       "      <td>0.0</td>\n",
       "      <td>0.0</td>\n",
       "      <td>0.0</td>\n",
       "      <td>0.0</td>\n",
       "      <td>0.0</td>\n",
       "      <td>0</td>\n",
       "      <td>0</td>\n",
       "      <td>0</td>\n",
       "      <td>0</td>\n",
       "      <td>1</td>\n",
       "      <td>0.0</td>\n",
       "      <td>0.0</td>\n",
       "      <td>0.0</td>\n",
       "      <td>0.0</td>\n",
       "      <td>1.0</td>\n",
       "    </tr>\n",
       "    <tr>\n",
       "      <th>3</th>\n",
       "      <td>5</td>\n",
       "      <td>0.0</td>\n",
       "      <td>4</td>\n",
       "      <td>4</td>\n",
       "      <td>4</td>\n",
       "      <td>2</td>\n",
       "      <td>5</td>\n",
       "      <td>0</td>\n",
       "      <td>35000.0</td>\n",
       "      <td>2</td>\n",
       "      <td>3</td>\n",
       "      <td>-1</td>\n",
       "      <td>-1</td>\n",
       "      <td>-1</td>\n",
       "      <td>-1</td>\n",
       "      <td>-1</td>\n",
       "      <td>0.0</td>\n",
       "      <td>1.0</td>\n",
       "      <td>0.0</td>\n",
       "      <td>0.0</td>\n",
       "      <td>0.0</td>\n",
       "      <td>0.0</td>\n",
       "      <td>0.0</td>\n",
       "      <td>1.0</td>\n",
       "      <td>1.0</td>\n",
       "      <td>0.0</td>\n",
       "      <td>0.0</td>\n",
       "      <td>0.0</td>\n",
       "      <td>0.0</td>\n",
       "      <td>1.0</td>\n",
       "      <td>0.0</td>\n",
       "      <td>0.0</td>\n",
       "      <td>0.0</td>\n",
       "      <td>0.0</td>\n",
       "      <td>0.0</td>\n",
       "      <td>0.0</td>\n",
       "      <td>0</td>\n",
       "      <td>0</td>\n",
       "      <td>0</td>\n",
       "      <td>1</td>\n",
       "      <td>0</td>\n",
       "      <td>0.0</td>\n",
       "      <td>0.0</td>\n",
       "      <td>0.0</td>\n",
       "      <td>0.0</td>\n",
       "      <td>0.0</td>\n",
       "    </tr>\n",
       "    <tr>\n",
       "      <th>4</th>\n",
       "      <td>5</td>\n",
       "      <td>-1.0</td>\n",
       "      <td>6</td>\n",
       "      <td>5</td>\n",
       "      <td>15</td>\n",
       "      <td>10</td>\n",
       "      <td>6</td>\n",
       "      <td>0</td>\n",
       "      <td>42000.0</td>\n",
       "      <td>2</td>\n",
       "      <td>4</td>\n",
       "      <td>-1</td>\n",
       "      <td>-1</td>\n",
       "      <td>-1</td>\n",
       "      <td>-1</td>\n",
       "      <td>-1</td>\n",
       "      <td>0.0</td>\n",
       "      <td>0.0</td>\n",
       "      <td>1.0</td>\n",
       "      <td>0.0</td>\n",
       "      <td>0.0</td>\n",
       "      <td>0.0</td>\n",
       "      <td>0.0</td>\n",
       "      <td>1.0</td>\n",
       "      <td>1.0</td>\n",
       "      <td>0.0</td>\n",
       "      <td>0.0</td>\n",
       "      <td>0.0</td>\n",
       "      <td>0.0</td>\n",
       "      <td>0.0</td>\n",
       "      <td>1.0</td>\n",
       "      <td>0.0</td>\n",
       "      <td>0.0</td>\n",
       "      <td>0.0</td>\n",
       "      <td>0.0</td>\n",
       "      <td>0.0</td>\n",
       "      <td>0</td>\n",
       "      <td>0</td>\n",
       "      <td>0</td>\n",
       "      <td>1</td>\n",
       "      <td>0</td>\n",
       "      <td>0.0</td>\n",
       "      <td>0.0</td>\n",
       "      <td>0.0</td>\n",
       "      <td>0.0</td>\n",
       "      <td>0.0</td>\n",
       "    </tr>\n",
       "  </tbody>\n",
       "</table>\n",
       "</div>"
      ],
      "text/plain": [
       "   MainBranch  CodingActivities  EdLevel  LearnCode  YearsCode  YearsCodePro  \\\n",
       "0           5               2.0        5          7          0            10   \n",
       "1           5              -1.0        3          6         15            15   \n",
       "2           5              -1.0        4          8          5             3   \n",
       "3           5               0.0        4          4          4             2   \n",
       "4           5              -1.0        6          5         15            10   \n",
       "\n",
       "   OrgSize  PurchaseInfluence  CompTotal  AISelect  AISent  Frequency_1  \\\n",
       "0        1                  0    35000.0         2       4            1   \n",
       "1        8                  0    70000.0         1       3            1   \n",
       "2        8                  0    25000.0         1       0            0   \n",
       "3        5                  0    35000.0         2       3           -1   \n",
       "4        6                  0    42000.0         2       4           -1   \n",
       "\n",
       "   Frequency_2  Frequency_3  TimeSearching  TimeAnswering  \\\n",
       "0            1            1              0              0   \n",
       "1            1            1              1              2   \n",
       "2            1            0              2              1   \n",
       "3           -1           -1             -1             -1   \n",
       "4           -1           -1             -1             -1   \n",
       "\n",
       "   Age_18-24 years old  Age_25-34 years old  Age_35-44 years old  \\\n",
       "0                  0.0                  0.0                  1.0   \n",
       "1                  0.0                  0.0                  1.0   \n",
       "2                  1.0                  0.0                  0.0   \n",
       "3                  0.0                  1.0                  0.0   \n",
       "4                  0.0                  0.0                  1.0   \n",
       "\n",
       "   Age_45-54 years old  Age_55-64 years old  Age_65 years or older  \\\n",
       "0                  0.0                  0.0                    0.0   \n",
       "1                  0.0                  0.0                    0.0   \n",
       "2                  0.0                  0.0                    0.0   \n",
       "3                  0.0                  0.0                    0.0   \n",
       "4                  0.0                  0.0                    0.0   \n",
       "\n",
       "   Age_Under 18 years old  employment_map  \\\n",
       "0                     0.0             1.0   \n",
       "1                     0.0             1.0   \n",
       "2                     0.0             1.0   \n",
       "3                     0.0             1.0   \n",
       "4                     0.0             1.0   \n",
       "\n",
       "   RemoteWork_Hybrid (some remote, some in-person)  RemoteWork_In-person  \\\n",
       "0                                              1.0                   0.0   \n",
       "1                                              0.0                   0.0   \n",
       "2                                              1.0                   0.0   \n",
       "3                                              1.0                   0.0   \n",
       "4                                              1.0                   0.0   \n",
       "\n",
       "   RemoteWork_Remote  LearnCodeOnline_Category_Technical_Reference  \\\n",
       "0                0.0                                           0.0   \n",
       "1                1.0                                           0.0   \n",
       "2                0.0                                           0.0   \n",
       "3                0.0                                           0.0   \n",
       "4                0.0                                           0.0   \n",
       "\n",
       "   LearnCodeOnline_Category_Visual_Interactive  \\\n",
       "0                                          1.0   \n",
       "1                                          1.0   \n",
       "2                                          0.0   \n",
       "3                                          0.0   \n",
       "4                                          0.0   \n",
       "\n",
       "   DevType_Category_Desarrollo de Software  \\\n",
       "0                                      1.0   \n",
       "1                                      1.0   \n",
       "2                                      1.0   \n",
       "3                                      1.0   \n",
       "4                                      0.0   \n",
       "\n",
       "   DevType_Category_Gestión y Liderazgo  \\\n",
       "0                                   0.0   \n",
       "1                                   0.0   \n",
       "2                                   0.0   \n",
       "3                                   0.0   \n",
       "4                                   1.0   \n",
       "\n",
       "   DevType_Category_Hardware y Blockchain  \\\n",
       "0                                     0.0   \n",
       "1                                     0.0   \n",
       "2                                     0.0   \n",
       "3                                     0.0   \n",
       "4                                     0.0   \n",
       "\n",
       "   DevType_Category_Infraestructura y Sistemas  \\\n",
       "0                                          0.0   \n",
       "1                                          0.0   \n",
       "2                                          0.0   \n",
       "3                                          0.0   \n",
       "4                                          0.0   \n",
       "\n",
       "   DevType_Category_Ingeniería de Datos y Ciencia de Datos  \\\n",
       "0                                                0.0         \n",
       "1                                                0.0         \n",
       "2                                                0.0         \n",
       "3                                                0.0         \n",
       "4                                                0.0         \n",
       "\n",
       "   DevType_Category_Investigación y Educación  \\\n",
       "0                                         0.0   \n",
       "1                                         0.0   \n",
       "2                                         0.0   \n",
       "3                                         0.0   \n",
       "4                                         0.0   \n",
       "\n",
       "   DevType_Category_Roles de Soporte y Otros  Android-based  Linux-based  \\\n",
       "0                                        0.0              0            1   \n",
       "1                                        0.0              0            0   \n",
       "2                                        0.0              0            0   \n",
       "3                                        0.0              0            0   \n",
       "4                                        0.0              0            0   \n",
       "\n",
       "   MacOS  Otros  Windows-based  Industry_Category_Industria y Energía  \\\n",
       "0      0      0              0                                    0.0   \n",
       "1      1      0              0                                    0.0   \n",
       "2      0      0              1                                    0.0   \n",
       "3      0      1              0                                    0.0   \n",
       "4      0      1              0                                    0.0   \n",
       "\n",
       "   Industry_Category_Otros Servicios  Industry_Category_Salud y Educación  \\\n",
       "0                                0.0                                  0.0   \n",
       "1                                0.0                                  0.0   \n",
       "2                                0.0                                  0.0   \n",
       "3                                0.0                                  0.0   \n",
       "4                                0.0                                  0.0   \n",
       "\n",
       "   Industry_Category_Servicios Financieros  \\\n",
       "0                                      0.0   \n",
       "1                                      0.0   \n",
       "2                                      0.0   \n",
       "3                                      0.0   \n",
       "4                                      0.0   \n",
       "\n",
       "   Industry_Category_Tecnología y Servicios Digitales  \n",
       "0                                                1.0   \n",
       "1                                                1.0   \n",
       "2                                                1.0   \n",
       "3                                                0.0   \n",
       "4                                                0.0   "
      ]
     },
     "execution_count": 245,
     "metadata": {},
     "output_type": "execute_result"
    }
   ],
   "source": [
    "df.head()"
   ]
  },
  {
   "cell_type": "code",
   "execution_count": 246,
   "metadata": {},
   "outputs": [
    {
     "name": "stdout",
     "output_type": "stream",
     "text": [
      "<class 'pandas.core.frame.DataFrame'>\n",
      "RangeIndex: 1150 entries, 0 to 1149\n",
      "Data columns (total 46 columns):\n",
      " #   Column                                                   Non-Null Count  Dtype  \n",
      "---  ------                                                   --------------  -----  \n",
      " 0   MainBranch                                               1150 non-null   int64  \n",
      " 1   CodingActivities                                         1150 non-null   float64\n",
      " 2   EdLevel                                                  1150 non-null   int64  \n",
      " 3   LearnCode                                                1150 non-null   int64  \n",
      " 4   YearsCode                                                1150 non-null   int32  \n",
      " 5   YearsCodePro                                             1150 non-null   int32  \n",
      " 6   OrgSize                                                  1150 non-null   int64  \n",
      " 7   PurchaseInfluence                                        1150 non-null   int64  \n",
      " 8   CompTotal                                                1150 non-null   float64\n",
      " 9   AISelect                                                 1150 non-null   int64  \n",
      " 10  AISent                                                   1150 non-null   int64  \n",
      " 11  Frequency_1                                              1150 non-null   int64  \n",
      " 12  Frequency_2                                              1150 non-null   int64  \n",
      " 13  Frequency_3                                              1150 non-null   int64  \n",
      " 14  TimeSearching                                            1150 non-null   int64  \n",
      " 15  TimeAnswering                                            1150 non-null   int64  \n",
      " 16  Age_18-24 years old                                      1150 non-null   float64\n",
      " 17  Age_25-34 years old                                      1150 non-null   float64\n",
      " 18  Age_35-44 years old                                      1150 non-null   float64\n",
      " 19  Age_45-54 years old                                      1150 non-null   float64\n",
      " 20  Age_55-64 years old                                      1150 non-null   float64\n",
      " 21  Age_65 years or older                                    1150 non-null   float64\n",
      " 22  Age_Under 18 years old                                   1150 non-null   float64\n",
      " 23  employment_map                                           1150 non-null   float64\n",
      " 24  RemoteWork_Hybrid (some remote, some in-person)          1150 non-null   float64\n",
      " 25  RemoteWork_In-person                                     1150 non-null   float64\n",
      " 26  RemoteWork_Remote                                        1150 non-null   float64\n",
      " 27  LearnCodeOnline_Category_Technical_Reference             1150 non-null   float64\n",
      " 28  LearnCodeOnline_Category_Visual_Interactive              1150 non-null   float64\n",
      " 29  DevType_Category_Desarrollo de Software                  1150 non-null   float64\n",
      " 30  DevType_Category_Gestión y Liderazgo                     1150 non-null   float64\n",
      " 31  DevType_Category_Hardware y Blockchain                   1150 non-null   float64\n",
      " 32  DevType_Category_Infraestructura y Sistemas              1150 non-null   float64\n",
      " 33  DevType_Category_Ingeniería de Datos y Ciencia de Datos  1150 non-null   float64\n",
      " 34  DevType_Category_Investigación y Educación               1150 non-null   float64\n",
      " 35  DevType_Category_Roles de Soporte y Otros                1150 non-null   float64\n",
      " 36  Android-based                                            1150 non-null   int32  \n",
      " 37  Linux-based                                              1150 non-null   int32  \n",
      " 38  MacOS                                                    1150 non-null   int32  \n",
      " 39  Otros                                                    1150 non-null   int32  \n",
      " 40  Windows-based                                            1150 non-null   int32  \n",
      " 41  Industry_Category_Industria y Energía                    1150 non-null   float64\n",
      " 42  Industry_Category_Otros Servicios                        1150 non-null   float64\n",
      " 43  Industry_Category_Salud y Educación                      1150 non-null   float64\n",
      " 44  Industry_Category_Servicios Financieros                  1150 non-null   float64\n",
      " 45  Industry_Category_Tecnología y Servicios Digitales       1150 non-null   float64\n",
      "dtypes: float64(27), int32(7), int64(12)\n",
      "memory usage: 382.0 KB\n"
     ]
    }
   ],
   "source": [
    "df.info()"
   ]
  },
  {
   "cell_type": "code",
   "execution_count": 247,
   "metadata": {},
   "outputs": [],
   "source": [
    "# Exporto este df final, para hacer concat con el de 2024 y trabajar con uno solo en el modelo. \n",
    "# Guardar el DataFrame en un archivo\n",
    "with open('df2023.pickle', 'wb') as archivo:\n",
    "    pickle.dump(df, archivo)"
   ]
  },
  {
   "cell_type": "code",
   "execution_count": null,
   "metadata": {},
   "outputs": [],
   "source": []
  }
 ],
 "metadata": {
  "kernelspec": {
   "display_name": "proyecto_ml",
   "language": "python",
   "name": "python3"
  },
  "language_info": {
   "codemirror_mode": {
    "name": "ipython",
    "version": 3
   },
   "file_extension": ".py",
   "mimetype": "text/x-python",
   "name": "python",
   "nbconvert_exporter": "python",
   "pygments_lexer": "ipython3",
   "version": "3.10.15"
  }
 },
 "nbformat": 4,
 "nbformat_minor": 2
}
