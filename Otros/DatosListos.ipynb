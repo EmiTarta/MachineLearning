{
 "cells": [
  {
   "cell_type": "code",
   "execution_count": 479,
   "metadata": {},
   "outputs": [],
   "source": [
    "import pandas as pd\n",
    "import numpy as np\n",
    "import sklearn\n",
    "import matplotlib.pyplot as plt\n",
    "import seaborn as sns\n",
    "import pickle\n",
    "import os"
   ]
  },
  {
   "cell_type": "code",
   "execution_count": 480,
   "metadata": {},
   "outputs": [],
   "source": [
    "# Cargar el DataFrame desde el archivo\n",
    "with open('../Pickles/df_final.pickle', 'rb') as archivo:\n",
    "    df = pickle.load(archivo)"
   ]
  },
  {
   "cell_type": "code",
   "execution_count": 481,
   "metadata": {},
   "outputs": [],
   "source": [
    "# Establecer la opción para mostrar todas las columnas\n",
    "pd.set_option('display.max_columns', None)"
   ]
  },
  {
   "cell_type": "markdown",
   "metadata": {},
   "source": [
    "Antes de empezr a trabajar, reemplazo los Nan por 0. \n",
    "\n",
    "Los Nan surgen del concat de los dos df. "
   ]
  },
  {
   "cell_type": "code",
   "execution_count": 482,
   "metadata": {},
   "outputs": [],
   "source": [
    "# Reemplazar todos los NaN con 0\n",
    "df.fillna(0, inplace=True)"
   ]
  },
  {
   "cell_type": "markdown",
   "metadata": {},
   "source": [
    "Divido x e y para hacer train_test_split"
   ]
  },
  {
   "cell_type": "code",
   "execution_count": 483,
   "metadata": {},
   "outputs": [],
   "source": [
    "y = df['CompTotal']"
   ]
  },
  {
   "cell_type": "code",
   "execution_count": 484,
   "metadata": {},
   "outputs": [],
   "source": [
    "df = df.drop(columns=['CompTotal'], axis=1).copy()"
   ]
  },
  {
   "cell_type": "markdown",
   "metadata": {},
   "source": [
    "# Siguintes pasos:\n",
    "1. Exploración y Análisis de Datos (EDA - Exploratory Data Analysis)\n",
    "\n",
    "a) Estadística Descriptiva:"
   ]
  },
  {
   "cell_type": "code",
   "execution_count": 485,
   "metadata": {},
   "outputs": [
    {
     "data": {
      "text/html": [
       "<div>\n",
       "<style scoped>\n",
       "    .dataframe tbody tr th:only-of-type {\n",
       "        vertical-align: middle;\n",
       "    }\n",
       "\n",
       "    .dataframe tbody tr th {\n",
       "        vertical-align: top;\n",
       "    }\n",
       "\n",
       "    .dataframe thead th {\n",
       "        text-align: right;\n",
       "    }\n",
       "</style>\n",
       "<table border=\"1\" class=\"dataframe\">\n",
       "  <thead>\n",
       "    <tr style=\"text-align: right;\">\n",
       "      <th></th>\n",
       "      <th>MainBranch</th>\n",
       "      <th>CodingActivities</th>\n",
       "      <th>EdLevel</th>\n",
       "      <th>LearnCode</th>\n",
       "      <th>YearsCode</th>\n",
       "      <th>YearsCodePro</th>\n",
       "      <th>OrgSize</th>\n",
       "      <th>PurchaseInfluence</th>\n",
       "      <th>AISelect</th>\n",
       "      <th>AISent</th>\n",
       "      <th>Frequency_1</th>\n",
       "      <th>Frequency_2</th>\n",
       "      <th>Frequency_3</th>\n",
       "      <th>TimeSearching</th>\n",
       "      <th>TimeAnswering</th>\n",
       "      <th>Age_18-24 years old</th>\n",
       "      <th>Age_25-34 years old</th>\n",
       "      <th>Age_35-44 years old</th>\n",
       "      <th>Age_45-54 years old</th>\n",
       "      <th>Age_55-64 years old</th>\n",
       "      <th>Age_65 years or older</th>\n",
       "      <th>Age_Under 18 years old</th>\n",
       "      <th>employment_map</th>\n",
       "      <th>RemoteWork_Hybrid (some remote, some in-person)</th>\n",
       "      <th>RemoteWork_In-person</th>\n",
       "      <th>RemoteWork_Remote</th>\n",
       "      <th>LearnCodeOnline_Category_Technical_Reference</th>\n",
       "      <th>LearnCodeOnline_Category_Visual_Interactive</th>\n",
       "      <th>DevType_Category_Desarrollo de Software</th>\n",
       "      <th>DevType_Category_Gestión y Liderazgo</th>\n",
       "      <th>DevType_Category_Hardware y Blockchain</th>\n",
       "      <th>DevType_Category_Infraestructura y Sistemas</th>\n",
       "      <th>DevType_Category_Ingeniería de Datos y Ciencia de Datos</th>\n",
       "      <th>DevType_Category_Investigación y Educación</th>\n",
       "      <th>DevType_Category_Roles de Soporte y Otros</th>\n",
       "      <th>Android-based</th>\n",
       "      <th>Linux-based</th>\n",
       "      <th>MacOS</th>\n",
       "      <th>Otros</th>\n",
       "      <th>Windows-based</th>\n",
       "      <th>Industry_Category_Industria y Energía</th>\n",
       "      <th>Industry_Category_Otros Servicios</th>\n",
       "      <th>Industry_Category_Salud y Educación</th>\n",
       "      <th>Industry_Category_Servicios Financieros</th>\n",
       "      <th>Industry_Category_Tecnología y Servicios Digitales</th>\n",
       "      <th>AIAcc</th>\n",
       "      <th>AIComplex</th>\n",
       "      <th>AIThreat</th>\n",
       "      <th>Age_Prefer not to say</th>\n",
       "    </tr>\n",
       "  </thead>\n",
       "  <tbody>\n",
       "    <tr>\n",
       "      <th>count</th>\n",
       "      <td>1934.000000</td>\n",
       "      <td>1934.000000</td>\n",
       "      <td>1934.000000</td>\n",
       "      <td>1934.000000</td>\n",
       "      <td>1934.000000</td>\n",
       "      <td>1934.000000</td>\n",
       "      <td>1934.000000</td>\n",
       "      <td>1934.000000</td>\n",
       "      <td>1934.000000</td>\n",
       "      <td>1934.000000</td>\n",
       "      <td>1934.000000</td>\n",
       "      <td>1934.000000</td>\n",
       "      <td>1934.000000</td>\n",
       "      <td>1934.000000</td>\n",
       "      <td>1934.000000</td>\n",
       "      <td>1934.000000</td>\n",
       "      <td>1934.000000</td>\n",
       "      <td>1934.000000</td>\n",
       "      <td>1934.000000</td>\n",
       "      <td>1934.000000</td>\n",
       "      <td>1934.000000</td>\n",
       "      <td>1934.000000</td>\n",
       "      <td>1934.000000</td>\n",
       "      <td>1934.000000</td>\n",
       "      <td>1934.000000</td>\n",
       "      <td>1934.000000</td>\n",
       "      <td>1934.000000</td>\n",
       "      <td>1934.000000</td>\n",
       "      <td>1934.000000</td>\n",
       "      <td>1934.000000</td>\n",
       "      <td>1934.000000</td>\n",
       "      <td>1934.000000</td>\n",
       "      <td>1934.000000</td>\n",
       "      <td>1934.000000</td>\n",
       "      <td>1934.000000</td>\n",
       "      <td>1934.000000</td>\n",
       "      <td>1934.000000</td>\n",
       "      <td>1934.000000</td>\n",
       "      <td>1934.000000</td>\n",
       "      <td>1934.000000</td>\n",
       "      <td>1934.000000</td>\n",
       "      <td>1934.000000</td>\n",
       "      <td>1934.000000</td>\n",
       "      <td>1934.000000</td>\n",
       "      <td>1934.000000</td>\n",
       "      <td>1934.000000</td>\n",
       "      <td>1934.00000</td>\n",
       "      <td>1934.000000</td>\n",
       "      <td>1934.000000</td>\n",
       "    </tr>\n",
       "    <tr>\n",
       "      <th>mean</th>\n",
       "      <td>4.920889</td>\n",
       "      <td>0.431231</td>\n",
       "      <td>3.925026</td>\n",
       "      <td>7.416236</td>\n",
       "      <td>15.534126</td>\n",
       "      <td>10.841262</td>\n",
       "      <td>3.039297</td>\n",
       "      <td>0.719235</td>\n",
       "      <td>1.298345</td>\n",
       "      <td>3.016029</td>\n",
       "      <td>0.245605</td>\n",
       "      <td>0.685626</td>\n",
       "      <td>0.277146</td>\n",
       "      <td>0.946225</td>\n",
       "      <td>0.647363</td>\n",
       "      <td>0.091520</td>\n",
       "      <td>0.405377</td>\n",
       "      <td>0.350569</td>\n",
       "      <td>0.124612</td>\n",
       "      <td>0.023785</td>\n",
       "      <td>0.002585</td>\n",
       "      <td>0.001034</td>\n",
       "      <td>1.061789</td>\n",
       "      <td>0.342813</td>\n",
       "      <td>0.100827</td>\n",
       "      <td>0.555326</td>\n",
       "      <td>0.001034</td>\n",
       "      <td>0.227508</td>\n",
       "      <td>0.734230</td>\n",
       "      <td>0.051189</td>\n",
       "      <td>0.007239</td>\n",
       "      <td>0.056360</td>\n",
       "      <td>0.047053</td>\n",
       "      <td>0.051706</td>\n",
       "      <td>0.030507</td>\n",
       "      <td>0.086350</td>\n",
       "      <td>0.416236</td>\n",
       "      <td>0.379007</td>\n",
       "      <td>0.095657</td>\n",
       "      <td>0.435367</td>\n",
       "      <td>0.053257</td>\n",
       "      <td>0.099793</td>\n",
       "      <td>0.052740</td>\n",
       "      <td>0.047053</td>\n",
       "      <td>0.312823</td>\n",
       "      <td>0.435884</td>\n",
       "      <td>0.33092</td>\n",
       "      <td>0.222854</td>\n",
       "      <td>0.000517</td>\n",
       "    </tr>\n",
       "    <tr>\n",
       "      <th>std</th>\n",
       "      <td>0.269981</td>\n",
       "      <td>1.965606</td>\n",
       "      <td>1.517978</td>\n",
       "      <td>3.605188</td>\n",
       "      <td>9.346391</td>\n",
       "      <td>8.102814</td>\n",
       "      <td>2.440287</td>\n",
       "      <td>0.746970</td>\n",
       "      <td>0.844585</td>\n",
       "      <td>1.939662</td>\n",
       "      <td>1.050297</td>\n",
       "      <td>1.491285</td>\n",
       "      <td>1.159644</td>\n",
       "      <td>1.590584</td>\n",
       "      <td>1.446673</td>\n",
       "      <td>0.288422</td>\n",
       "      <td>0.491092</td>\n",
       "      <td>0.477272</td>\n",
       "      <td>0.330364</td>\n",
       "      <td>0.152418</td>\n",
       "      <td>0.050793</td>\n",
       "      <td>0.032150</td>\n",
       "      <td>0.256691</td>\n",
       "      <td>0.474772</td>\n",
       "      <td>0.301178</td>\n",
       "      <td>0.497058</td>\n",
       "      <td>0.032150</td>\n",
       "      <td>0.419331</td>\n",
       "      <td>0.441857</td>\n",
       "      <td>0.220441</td>\n",
       "      <td>0.084795</td>\n",
       "      <td>0.230675</td>\n",
       "      <td>0.211806</td>\n",
       "      <td>0.221491</td>\n",
       "      <td>0.172021</td>\n",
       "      <td>0.280952</td>\n",
       "      <td>0.493061</td>\n",
       "      <td>0.485265</td>\n",
       "      <td>0.294196</td>\n",
       "      <td>0.495933</td>\n",
       "      <td>0.224605</td>\n",
       "      <td>0.299802</td>\n",
       "      <td>0.223573</td>\n",
       "      <td>0.211806</td>\n",
       "      <td>0.463763</td>\n",
       "      <td>1.180447</td>\n",
       "      <td>1.05518</td>\n",
       "      <td>0.496730</td>\n",
       "      <td>0.022739</td>\n",
       "    </tr>\n",
       "    <tr>\n",
       "      <th>min</th>\n",
       "      <td>4.000000</td>\n",
       "      <td>-1.000000</td>\n",
       "      <td>-1.000000</td>\n",
       "      <td>0.000000</td>\n",
       "      <td>0.000000</td>\n",
       "      <td>0.000000</td>\n",
       "      <td>-1.000000</td>\n",
       "      <td>-1.000000</td>\n",
       "      <td>-1.000000</td>\n",
       "      <td>0.000000</td>\n",
       "      <td>-1.000000</td>\n",
       "      <td>-1.000000</td>\n",
       "      <td>-1.000000</td>\n",
       "      <td>-1.000000</td>\n",
       "      <td>-1.000000</td>\n",
       "      <td>0.000000</td>\n",
       "      <td>0.000000</td>\n",
       "      <td>0.000000</td>\n",
       "      <td>0.000000</td>\n",
       "      <td>0.000000</td>\n",
       "      <td>0.000000</td>\n",
       "      <td>0.000000</td>\n",
       "      <td>-1.000000</td>\n",
       "      <td>0.000000</td>\n",
       "      <td>0.000000</td>\n",
       "      <td>0.000000</td>\n",
       "      <td>0.000000</td>\n",
       "      <td>0.000000</td>\n",
       "      <td>0.000000</td>\n",
       "      <td>0.000000</td>\n",
       "      <td>0.000000</td>\n",
       "      <td>0.000000</td>\n",
       "      <td>0.000000</td>\n",
       "      <td>0.000000</td>\n",
       "      <td>0.000000</td>\n",
       "      <td>0.000000</td>\n",
       "      <td>0.000000</td>\n",
       "      <td>0.000000</td>\n",
       "      <td>0.000000</td>\n",
       "      <td>0.000000</td>\n",
       "      <td>0.000000</td>\n",
       "      <td>0.000000</td>\n",
       "      <td>0.000000</td>\n",
       "      <td>0.000000</td>\n",
       "      <td>0.000000</td>\n",
       "      <td>-1.000000</td>\n",
       "      <td>-1.00000</td>\n",
       "      <td>0.000000</td>\n",
       "      <td>0.000000</td>\n",
       "    </tr>\n",
       "    <tr>\n",
       "      <th>25%</th>\n",
       "      <td>5.000000</td>\n",
       "      <td>-1.000000</td>\n",
       "      <td>3.000000</td>\n",
       "      <td>5.000000</td>\n",
       "      <td>8.000000</td>\n",
       "      <td>4.000000</td>\n",
       "      <td>1.000000</td>\n",
       "      <td>0.000000</td>\n",
       "      <td>1.000000</td>\n",
       "      <td>0.000000</td>\n",
       "      <td>-1.000000</td>\n",
       "      <td>-1.000000</td>\n",
       "      <td>-1.000000</td>\n",
       "      <td>-1.000000</td>\n",
       "      <td>-1.000000</td>\n",
       "      <td>0.000000</td>\n",
       "      <td>0.000000</td>\n",
       "      <td>0.000000</td>\n",
       "      <td>0.000000</td>\n",
       "      <td>0.000000</td>\n",
       "      <td>0.000000</td>\n",
       "      <td>0.000000</td>\n",
       "      <td>1.000000</td>\n",
       "      <td>0.000000</td>\n",
       "      <td>0.000000</td>\n",
       "      <td>0.000000</td>\n",
       "      <td>0.000000</td>\n",
       "      <td>0.000000</td>\n",
       "      <td>0.000000</td>\n",
       "      <td>0.000000</td>\n",
       "      <td>0.000000</td>\n",
       "      <td>0.000000</td>\n",
       "      <td>0.000000</td>\n",
       "      <td>0.000000</td>\n",
       "      <td>0.000000</td>\n",
       "      <td>0.000000</td>\n",
       "      <td>0.000000</td>\n",
       "      <td>0.000000</td>\n",
       "      <td>0.000000</td>\n",
       "      <td>0.000000</td>\n",
       "      <td>0.000000</td>\n",
       "      <td>0.000000</td>\n",
       "      <td>0.000000</td>\n",
       "      <td>0.000000</td>\n",
       "      <td>0.000000</td>\n",
       "      <td>0.000000</td>\n",
       "      <td>0.00000</td>\n",
       "      <td>0.000000</td>\n",
       "      <td>0.000000</td>\n",
       "    </tr>\n",
       "    <tr>\n",
       "      <th>50%</th>\n",
       "      <td>5.000000</td>\n",
       "      <td>-1.000000</td>\n",
       "      <td>4.000000</td>\n",
       "      <td>7.000000</td>\n",
       "      <td>14.000000</td>\n",
       "      <td>9.000000</td>\n",
       "      <td>3.000000</td>\n",
       "      <td>1.000000</td>\n",
       "      <td>2.000000</td>\n",
       "      <td>4.000000</td>\n",
       "      <td>0.000000</td>\n",
       "      <td>1.000000</td>\n",
       "      <td>0.000000</td>\n",
       "      <td>1.000000</td>\n",
       "      <td>1.000000</td>\n",
       "      <td>0.000000</td>\n",
       "      <td>0.000000</td>\n",
       "      <td>0.000000</td>\n",
       "      <td>0.000000</td>\n",
       "      <td>0.000000</td>\n",
       "      <td>0.000000</td>\n",
       "      <td>0.000000</td>\n",
       "      <td>1.000000</td>\n",
       "      <td>0.000000</td>\n",
       "      <td>0.000000</td>\n",
       "      <td>1.000000</td>\n",
       "      <td>0.000000</td>\n",
       "      <td>0.000000</td>\n",
       "      <td>1.000000</td>\n",
       "      <td>0.000000</td>\n",
       "      <td>0.000000</td>\n",
       "      <td>0.000000</td>\n",
       "      <td>0.000000</td>\n",
       "      <td>0.000000</td>\n",
       "      <td>0.000000</td>\n",
       "      <td>0.000000</td>\n",
       "      <td>0.000000</td>\n",
       "      <td>0.000000</td>\n",
       "      <td>0.000000</td>\n",
       "      <td>0.000000</td>\n",
       "      <td>0.000000</td>\n",
       "      <td>0.000000</td>\n",
       "      <td>0.000000</td>\n",
       "      <td>0.000000</td>\n",
       "      <td>0.000000</td>\n",
       "      <td>0.000000</td>\n",
       "      <td>0.00000</td>\n",
       "      <td>0.000000</td>\n",
       "      <td>0.000000</td>\n",
       "    </tr>\n",
       "    <tr>\n",
       "      <th>75%</th>\n",
       "      <td>5.000000</td>\n",
       "      <td>2.000000</td>\n",
       "      <td>5.000000</td>\n",
       "      <td>10.000000</td>\n",
       "      <td>20.000000</td>\n",
       "      <td>15.000000</td>\n",
       "      <td>4.000000</td>\n",
       "      <td>1.000000</td>\n",
       "      <td>2.000000</td>\n",
       "      <td>4.000000</td>\n",
       "      <td>1.000000</td>\n",
       "      <td>2.000000</td>\n",
       "      <td>1.000000</td>\n",
       "      <td>2.000000</td>\n",
       "      <td>2.000000</td>\n",
       "      <td>0.000000</td>\n",
       "      <td>1.000000</td>\n",
       "      <td>1.000000</td>\n",
       "      <td>0.000000</td>\n",
       "      <td>0.000000</td>\n",
       "      <td>0.000000</td>\n",
       "      <td>0.000000</td>\n",
       "      <td>1.000000</td>\n",
       "      <td>1.000000</td>\n",
       "      <td>0.000000</td>\n",
       "      <td>1.000000</td>\n",
       "      <td>0.000000</td>\n",
       "      <td>0.000000</td>\n",
       "      <td>1.000000</td>\n",
       "      <td>0.000000</td>\n",
       "      <td>0.000000</td>\n",
       "      <td>0.000000</td>\n",
       "      <td>0.000000</td>\n",
       "      <td>0.000000</td>\n",
       "      <td>0.000000</td>\n",
       "      <td>0.000000</td>\n",
       "      <td>1.000000</td>\n",
       "      <td>1.000000</td>\n",
       "      <td>0.000000</td>\n",
       "      <td>1.000000</td>\n",
       "      <td>0.000000</td>\n",
       "      <td>0.000000</td>\n",
       "      <td>0.000000</td>\n",
       "      <td>0.000000</td>\n",
       "      <td>1.000000</td>\n",
       "      <td>1.000000</td>\n",
       "      <td>0.00000</td>\n",
       "      <td>0.000000</td>\n",
       "      <td>0.000000</td>\n",
       "    </tr>\n",
       "    <tr>\n",
       "      <th>max</th>\n",
       "      <td>5.000000</td>\n",
       "      <td>6.000000</td>\n",
       "      <td>6.000000</td>\n",
       "      <td>19.000000</td>\n",
       "      <td>50.000000</td>\n",
       "      <td>49.000000</td>\n",
       "      <td>8.000000</td>\n",
       "      <td>2.000000</td>\n",
       "      <td>2.000000</td>\n",
       "      <td>5.000000</td>\n",
       "      <td>4.000000</td>\n",
       "      <td>4.000000</td>\n",
       "      <td>4.000000</td>\n",
       "      <td>4.000000</td>\n",
       "      <td>4.000000</td>\n",
       "      <td>1.000000</td>\n",
       "      <td>1.000000</td>\n",
       "      <td>1.000000</td>\n",
       "      <td>1.000000</td>\n",
       "      <td>1.000000</td>\n",
       "      <td>1.000000</td>\n",
       "      <td>1.000000</td>\n",
       "      <td>2.500000</td>\n",
       "      <td>1.000000</td>\n",
       "      <td>1.000000</td>\n",
       "      <td>1.000000</td>\n",
       "      <td>1.000000</td>\n",
       "      <td>1.000000</td>\n",
       "      <td>1.000000</td>\n",
       "      <td>1.000000</td>\n",
       "      <td>1.000000</td>\n",
       "      <td>1.000000</td>\n",
       "      <td>1.000000</td>\n",
       "      <td>1.000000</td>\n",
       "      <td>1.000000</td>\n",
       "      <td>1.000000</td>\n",
       "      <td>1.000000</td>\n",
       "      <td>1.000000</td>\n",
       "      <td>1.000000</td>\n",
       "      <td>1.000000</td>\n",
       "      <td>1.000000</td>\n",
       "      <td>1.000000</td>\n",
       "      <td>1.000000</td>\n",
       "      <td>1.000000</td>\n",
       "      <td>1.000000</td>\n",
       "      <td>4.000000</td>\n",
       "      <td>4.00000</td>\n",
       "      <td>2.000000</td>\n",
       "      <td>1.000000</td>\n",
       "    </tr>\n",
       "  </tbody>\n",
       "</table>\n",
       "</div>"
      ],
      "text/plain": [
       "        MainBranch  CodingActivities      EdLevel    LearnCode    YearsCode  \\\n",
       "count  1934.000000       1934.000000  1934.000000  1934.000000  1934.000000   \n",
       "mean      4.920889          0.431231     3.925026     7.416236    15.534126   \n",
       "std       0.269981          1.965606     1.517978     3.605188     9.346391   \n",
       "min       4.000000         -1.000000    -1.000000     0.000000     0.000000   \n",
       "25%       5.000000         -1.000000     3.000000     5.000000     8.000000   \n",
       "50%       5.000000         -1.000000     4.000000     7.000000    14.000000   \n",
       "75%       5.000000          2.000000     5.000000    10.000000    20.000000   \n",
       "max       5.000000          6.000000     6.000000    19.000000    50.000000   \n",
       "\n",
       "       YearsCodePro      OrgSize  PurchaseInfluence     AISelect       AISent  \\\n",
       "count   1934.000000  1934.000000        1934.000000  1934.000000  1934.000000   \n",
       "mean      10.841262     3.039297           0.719235     1.298345     3.016029   \n",
       "std        8.102814     2.440287           0.746970     0.844585     1.939662   \n",
       "min        0.000000    -1.000000          -1.000000    -1.000000     0.000000   \n",
       "25%        4.000000     1.000000           0.000000     1.000000     0.000000   \n",
       "50%        9.000000     3.000000           1.000000     2.000000     4.000000   \n",
       "75%       15.000000     4.000000           1.000000     2.000000     4.000000   \n",
       "max       49.000000     8.000000           2.000000     2.000000     5.000000   \n",
       "\n",
       "       Frequency_1  Frequency_2  Frequency_3  TimeSearching  TimeAnswering  \\\n",
       "count  1934.000000  1934.000000  1934.000000    1934.000000    1934.000000   \n",
       "mean      0.245605     0.685626     0.277146       0.946225       0.647363   \n",
       "std       1.050297     1.491285     1.159644       1.590584       1.446673   \n",
       "min      -1.000000    -1.000000    -1.000000      -1.000000      -1.000000   \n",
       "25%      -1.000000    -1.000000    -1.000000      -1.000000      -1.000000   \n",
       "50%       0.000000     1.000000     0.000000       1.000000       1.000000   \n",
       "75%       1.000000     2.000000     1.000000       2.000000       2.000000   \n",
       "max       4.000000     4.000000     4.000000       4.000000       4.000000   \n",
       "\n",
       "       Age_18-24 years old  Age_25-34 years old  Age_35-44 years old  \\\n",
       "count          1934.000000          1934.000000          1934.000000   \n",
       "mean              0.091520             0.405377             0.350569   \n",
       "std               0.288422             0.491092             0.477272   \n",
       "min               0.000000             0.000000             0.000000   \n",
       "25%               0.000000             0.000000             0.000000   \n",
       "50%               0.000000             0.000000             0.000000   \n",
       "75%               0.000000             1.000000             1.000000   \n",
       "max               1.000000             1.000000             1.000000   \n",
       "\n",
       "       Age_45-54 years old  Age_55-64 years old  Age_65 years or older  \\\n",
       "count          1934.000000          1934.000000            1934.000000   \n",
       "mean              0.124612             0.023785               0.002585   \n",
       "std               0.330364             0.152418               0.050793   \n",
       "min               0.000000             0.000000               0.000000   \n",
       "25%               0.000000             0.000000               0.000000   \n",
       "50%               0.000000             0.000000               0.000000   \n",
       "75%               0.000000             0.000000               0.000000   \n",
       "max               1.000000             1.000000               1.000000   \n",
       "\n",
       "       Age_Under 18 years old  employment_map  \\\n",
       "count             1934.000000     1934.000000   \n",
       "mean                 0.001034        1.061789   \n",
       "std                  0.032150        0.256691   \n",
       "min                  0.000000       -1.000000   \n",
       "25%                  0.000000        1.000000   \n",
       "50%                  0.000000        1.000000   \n",
       "75%                  0.000000        1.000000   \n",
       "max                  1.000000        2.500000   \n",
       "\n",
       "       RemoteWork_Hybrid (some remote, some in-person)  RemoteWork_In-person  \\\n",
       "count                                      1934.000000           1934.000000   \n",
       "mean                                          0.342813              0.100827   \n",
       "std                                           0.474772              0.301178   \n",
       "min                                           0.000000              0.000000   \n",
       "25%                                           0.000000              0.000000   \n",
       "50%                                           0.000000              0.000000   \n",
       "75%                                           1.000000              0.000000   \n",
       "max                                           1.000000              1.000000   \n",
       "\n",
       "       RemoteWork_Remote  LearnCodeOnline_Category_Technical_Reference  \\\n",
       "count        1934.000000                                   1934.000000   \n",
       "mean            0.555326                                      0.001034   \n",
       "std             0.497058                                      0.032150   \n",
       "min             0.000000                                      0.000000   \n",
       "25%             0.000000                                      0.000000   \n",
       "50%             1.000000                                      0.000000   \n",
       "75%             1.000000                                      0.000000   \n",
       "max             1.000000                                      1.000000   \n",
       "\n",
       "       LearnCodeOnline_Category_Visual_Interactive  \\\n",
       "count                                  1934.000000   \n",
       "mean                                      0.227508   \n",
       "std                                       0.419331   \n",
       "min                                       0.000000   \n",
       "25%                                       0.000000   \n",
       "50%                                       0.000000   \n",
       "75%                                       0.000000   \n",
       "max                                       1.000000   \n",
       "\n",
       "       DevType_Category_Desarrollo de Software  \\\n",
       "count                              1934.000000   \n",
       "mean                                  0.734230   \n",
       "std                                   0.441857   \n",
       "min                                   0.000000   \n",
       "25%                                   0.000000   \n",
       "50%                                   1.000000   \n",
       "75%                                   1.000000   \n",
       "max                                   1.000000   \n",
       "\n",
       "       DevType_Category_Gestión y Liderazgo  \\\n",
       "count                           1934.000000   \n",
       "mean                               0.051189   \n",
       "std                                0.220441   \n",
       "min                                0.000000   \n",
       "25%                                0.000000   \n",
       "50%                                0.000000   \n",
       "75%                                0.000000   \n",
       "max                                1.000000   \n",
       "\n",
       "       DevType_Category_Hardware y Blockchain  \\\n",
       "count                             1934.000000   \n",
       "mean                                 0.007239   \n",
       "std                                  0.084795   \n",
       "min                                  0.000000   \n",
       "25%                                  0.000000   \n",
       "50%                                  0.000000   \n",
       "75%                                  0.000000   \n",
       "max                                  1.000000   \n",
       "\n",
       "       DevType_Category_Infraestructura y Sistemas  \\\n",
       "count                                  1934.000000   \n",
       "mean                                      0.056360   \n",
       "std                                       0.230675   \n",
       "min                                       0.000000   \n",
       "25%                                       0.000000   \n",
       "50%                                       0.000000   \n",
       "75%                                       0.000000   \n",
       "max                                       1.000000   \n",
       "\n",
       "       DevType_Category_Ingeniería de Datos y Ciencia de Datos  \\\n",
       "count                                        1934.000000         \n",
       "mean                                            0.047053         \n",
       "std                                             0.211806         \n",
       "min                                             0.000000         \n",
       "25%                                             0.000000         \n",
       "50%                                             0.000000         \n",
       "75%                                             0.000000         \n",
       "max                                             1.000000         \n",
       "\n",
       "       DevType_Category_Investigación y Educación  \\\n",
       "count                                 1934.000000   \n",
       "mean                                     0.051706   \n",
       "std                                      0.221491   \n",
       "min                                      0.000000   \n",
       "25%                                      0.000000   \n",
       "50%                                      0.000000   \n",
       "75%                                      0.000000   \n",
       "max                                      1.000000   \n",
       "\n",
       "       DevType_Category_Roles de Soporte y Otros  Android-based  Linux-based  \\\n",
       "count                                1934.000000    1934.000000  1934.000000   \n",
       "mean                                    0.030507       0.086350     0.416236   \n",
       "std                                     0.172021       0.280952     0.493061   \n",
       "min                                     0.000000       0.000000     0.000000   \n",
       "25%                                     0.000000       0.000000     0.000000   \n",
       "50%                                     0.000000       0.000000     0.000000   \n",
       "75%                                     0.000000       0.000000     1.000000   \n",
       "max                                     1.000000       1.000000     1.000000   \n",
       "\n",
       "             MacOS        Otros  Windows-based  \\\n",
       "count  1934.000000  1934.000000    1934.000000   \n",
       "mean      0.379007     0.095657       0.435367   \n",
       "std       0.485265     0.294196       0.495933   \n",
       "min       0.000000     0.000000       0.000000   \n",
       "25%       0.000000     0.000000       0.000000   \n",
       "50%       0.000000     0.000000       0.000000   \n",
       "75%       1.000000     0.000000       1.000000   \n",
       "max       1.000000     1.000000       1.000000   \n",
       "\n",
       "       Industry_Category_Industria y Energía  \\\n",
       "count                            1934.000000   \n",
       "mean                                0.053257   \n",
       "std                                 0.224605   \n",
       "min                                 0.000000   \n",
       "25%                                 0.000000   \n",
       "50%                                 0.000000   \n",
       "75%                                 0.000000   \n",
       "max                                 1.000000   \n",
       "\n",
       "       Industry_Category_Otros Servicios  Industry_Category_Salud y Educación  \\\n",
       "count                        1934.000000                          1934.000000   \n",
       "mean                            0.099793                             0.052740   \n",
       "std                             0.299802                             0.223573   \n",
       "min                             0.000000                             0.000000   \n",
       "25%                             0.000000                             0.000000   \n",
       "50%                             0.000000                             0.000000   \n",
       "75%                             0.000000                             0.000000   \n",
       "max                             1.000000                             1.000000   \n",
       "\n",
       "       Industry_Category_Servicios Financieros  \\\n",
       "count                              1934.000000   \n",
       "mean                                  0.047053   \n",
       "std                                   0.211806   \n",
       "min                                   0.000000   \n",
       "25%                                   0.000000   \n",
       "50%                                   0.000000   \n",
       "75%                                   0.000000   \n",
       "max                                   1.000000   \n",
       "\n",
       "       Industry_Category_Tecnología y Servicios Digitales        AIAcc  \\\n",
       "count                                        1934.000000   1934.000000   \n",
       "mean                                            0.312823      0.435884   \n",
       "std                                             0.463763      1.180447   \n",
       "min                                             0.000000     -1.000000   \n",
       "25%                                             0.000000      0.000000   \n",
       "50%                                             0.000000      0.000000   \n",
       "75%                                             1.000000      1.000000   \n",
       "max                                             1.000000      4.000000   \n",
       "\n",
       "        AIComplex     AIThreat  Age_Prefer not to say  \n",
       "count  1934.00000  1934.000000            1934.000000  \n",
       "mean      0.33092     0.222854               0.000517  \n",
       "std       1.05518     0.496730               0.022739  \n",
       "min      -1.00000     0.000000               0.000000  \n",
       "25%       0.00000     0.000000               0.000000  \n",
       "50%       0.00000     0.000000               0.000000  \n",
       "75%       0.00000     0.000000               0.000000  \n",
       "max       4.00000     2.000000               1.000000  "
      ]
     },
     "execution_count": 485,
     "metadata": {},
     "output_type": "execute_result"
    }
   ],
   "source": [
    "df.describe()"
   ]
  },
  {
   "cell_type": "markdown",
   "metadata": {},
   "source": [
    "<!-- b) Visualización de Datos:\n",
    "\n",
    "Histogramas: df['columna'].hist() para visualizar la distribución de cada columna.\n",
    "Diagramas de caja (Boxplots): df.boxplot(column='columna') para visualizar la distribución y detectar outliers.\n",
    "Gráficos de dispersión (Scatter plots): df.plot.scatter(x='columna1', y='columna2') para visualizar la relación entre dos variables.\n",
    "\n",
    "2. Análisis de Correlación: elegir de qué columnas, ya que son demasiadas para hacer un heatmap de todas \n",
    "\n",
    "Matriz de Correlación: Calcula la correlación entre todas las variables numéricas. Esto te ayuda a entender las relaciones lineales entre ellas.\n",
    "\n",
    "df.corr(): Calcula la matriz de correlación.\n",
    "Mapa de Calor (Heatmap): Visualiza la matriz de correlación para una interpretación más fácil. -->"
   ]
  },
  {
   "cell_type": "markdown",
   "metadata": {},
   "source": [
    "Divido en train y test y escalo"
   ]
  },
  {
   "cell_type": "code",
   "execution_count": 486,
   "metadata": {},
   "outputs": [],
   "source": [
    "from sklearn.model_selection import train_test_split \n",
    "X_train, X_test, y_train, y_test = train_test_split(df,\n",
    "                                                    y,\n",
    "                                                    test_size=0.2,\n",
    "                                                    random_state=42)"
   ]
  },
  {
   "cell_type": "code",
   "execution_count": 487,
   "metadata": {},
   "outputs": [],
   "source": [
    "from sklearn.preprocessing import StandardScaler\n",
    "scaler = StandardScaler()\n",
    "scaler.fit(X_train)\n",
    "X_train = scaler.transform(X_train)\n",
    "X_test = scaler.transform(X_test)"
   ]
  },
  {
   "cell_type": "markdown",
   "metadata": {},
   "source": [
    "Posibles modelos para mi problema de **regresión**:\n",
    "\n",
    "- Regresión Lineal\n",
    "- Ridge Regression\n",
    "- Lasso Regression\n",
    "- Elastic Net\n",
    "- Support Vector Regression (SVR)\n",
    "- Árboles de Decisión (Decision Trees)\n",
    "- Random Forest\n",
    "- Gradient Boosting (XGBoost, LightGBM, CatBoost)"
   ]
  },
  {
   "cell_type": "markdown",
   "metadata": {},
   "source": [
    "Tiro un primer baseline con Lineal regression"
   ]
  },
  {
   "cell_type": "code",
   "execution_count": 488,
   "metadata": {},
   "outputs": [],
   "source": [
    "# from sklearn.linear_model import LinearRegression\n",
    "# linear_reg = LinearRegression()\n",
    "# linear_reg.fit(X_train, y_train)"
   ]
  },
  {
   "cell_type": "code",
   "execution_count": 489,
   "metadata": {},
   "outputs": [],
   "source": [
    "# y_pred = linear_reg.predict(X_test)"
   ]
  },
  {
   "cell_type": "code",
   "execution_count": 490,
   "metadata": {},
   "outputs": [],
   "source": [
    "from sklearn.metrics import mean_squared_error, mean_absolute_error, r2_score\n",
    "\n",
    "# mse = mean_squared_error(y_test, y_pred)\n",
    "# rmse = mean_squared_error(y_test, y_pred)  \n",
    "# mae = mean_absolute_error(y_test, y_pred)\n",
    "# r2 = r2_score(y_test, y_pred)\n",
    "\n",
    "# print(f\"MSE: {mse:.2f}\")\n",
    "# print(f\"RMSE: {rmse:.2f}\")\n",
    "# print(f\"MAE: {mae:.2f}\")\n",
    "# print(f\"R²: {r2:.2f}\")"
   ]
  },
  {
   "cell_type": "markdown",
   "metadata": {},
   "source": [
    "Estas métricas indican que el modelo de Regresión lineal no es un buen modelo para este dataset. Probablemente los datos no tengan relaciones lineales, por lo que probaré con RandomForestRegressor para utilizar éste como baseline. "
   ]
  },
  {
   "cell_type": "code",
   "execution_count": 491,
   "metadata": {},
   "outputs": [],
   "source": [
    "from sklearn.ensemble import RandomForestRegressor"
   ]
  },
  {
   "cell_type": "code",
   "execution_count": 492,
   "metadata": {},
   "outputs": [],
   "source": [
    "# # Crear un modelo de Random Forest\n",
    "# rf_model = RandomForestRegressor(random_state=42)\n",
    "\n",
    "# # Entrenar el modelo\n",
    "# rf_model.fit(X_train, y_train)\n",
    "\n",
    "# # Hacer predicciones sobre el conjunto de prueba\n",
    "# y_pred = rf_model.predict(X_test)"
   ]
  },
  {
   "cell_type": "code",
   "execution_count": 493,
   "metadata": {},
   "outputs": [],
   "source": [
    "# # Calcular las métricas de evaluación\n",
    "# mse = mean_squared_error(y_test, y_pred)\n",
    "# rmse = mean_squared_error(y_test, y_pred)\n",
    "# mae = mean_absolute_error(y_test, y_pred)\n",
    "# r2 = r2_score(y_test, y_pred)\n",
    "\n",
    "# print(f\"MSE: {mse:.2f}\")\n",
    "# print(f\"RMSE: {rmse:.2f}\")\n",
    "# print(f\"MAE: {mae:.2f}\")\n",
    "# print(f\"R²: {r2:.2f}\")"
   ]
  },
  {
   "cell_type": "markdown",
   "metadata": {},
   "source": [
    "Ya tengo mi primer baseline, con unas métricas bastante malas, pero mejores que las que obtenía con un LinearRegressor. \n",
    "\n",
    "Seguré ajustando Hiperparámetros: con GridSearchCV optimizaré\n",
    "\n",
    "- n_estimators (número de árboles)\n",
    "- max_depth (profundidad máxima de los árboles)\n",
    "- min_samples_split (número mínimo de muestras para dividir un nodo)\n",
    "- min_samples_leaf (número mínimo de muestras en una hoja)\n",
    "- max_features (número de características a considerar en cada división)"
   ]
  },
  {
   "cell_type": "code",
   "execution_count": 494,
   "metadata": {},
   "outputs": [],
   "source": [
    "from sklearn.model_selection import GridSearchCV\n",
    "\n",
    "# param_grid = {\n",
    "#     'n_estimators': [100, 200, 300],\n",
    "#     'max_depth': [None, 10, 20, 30],\n",
    "#     'min_samples_split': [2, 5, 10],\n",
    "#     'min_samples_leaf': [1, 2, 4]\n",
    "# }\n",
    "\n",
    "# grid_search = GridSearchCV(estimator=rf_model, param_grid=param_grid, cv=5, scoring='neg_mean_squared_error', n_jobs=-1)\n",
    "# grid_search.fit(X_train, y_train)                                                      \n",
    "\n",
    "# print(\"Mejores hiperparámetros:\", grid_search.best_params_)\n",
    "# best_rf_model = grid_search.best_estimator_\n",
    "\n",
    "# # Evaluar el mejor modelo\n",
    "# y_pred = best_rf_model.predict(X_test)"
   ]
  },
  {
   "cell_type": "code",
   "execution_count": 495,
   "metadata": {},
   "outputs": [],
   "source": [
    "# # Calcular las métricas de evaluación\n",
    "# mse = mean_squared_error(y_test, y_pred)\n",
    "# rmse = mean_squared_error(y_test, y_pred)\n",
    "# mae = mean_absolute_error(y_test, y_pred)\n",
    "# r2 = r2_score(y_test, y_pred)\n",
    "\n",
    "# print(f\"MSE: {mse:.2f}\")\n",
    "# print(f\"RMSE: {rmse:.2f}\")\n",
    "# print(f\"MAE: {mae:.2f}\")\n",
    "# print(f\"R²: {r2:.2f}\")"
   ]
  },
  {
   "cell_type": "markdown",
   "metadata": {},
   "source": [
    "Las métricas mejoran, pero sigue quedando mucho margen de mejora para el modelo. Probaré con varios modelos de Boosting: \n",
    "- Gradient Boosting (XGBoost, LightGBM, CatBoost)"
   ]
  },
  {
   "cell_type": "code",
   "execution_count": 496,
   "metadata": {},
   "outputs": [],
   "source": [
    "from sklearn.ensemble import GradientBoostingRegressor\n",
    "# # Crear un modelo de Random Forest\n",
    "# gbr_model = GradientBoostingRegressor(random_state=42)\n",
    "\n",
    "# # Entrenar el modelo\n",
    "# gbr_model.fit(X_train, y_train)\n",
    "\n",
    "# # Hacer predicciones sobre el conjunto de prueba\n",
    "# y_pred = gbr_model.predict(X_test)"
   ]
  },
  {
   "cell_type": "code",
   "execution_count": 497,
   "metadata": {},
   "outputs": [],
   "source": [
    "# # Calcular las métricas de evaluación\n",
    "# mse = mean_squared_error(y_test, y_pred)\n",
    "# rmse = mean_squared_error(y_test, y_pred)\n",
    "# mae = mean_absolute_error(y_test, y_pred)\n",
    "# r2 = r2_score(y_test, y_pred)\n",
    "\n",
    "# print(f\"MSE: {mse:.2f}\")\n",
    "# print(f\"RMSE: {rmse:.2f}\")\n",
    "# print(f\"MAE: {mae:.2f}\")\n",
    "# print(f\"R²: {r2:.2f}\")"
   ]
  },
  {
   "cell_type": "markdown",
   "metadata": {},
   "source": [
    "Pruebo con XGBoost Regressor"
   ]
  },
  {
   "cell_type": "code",
   "execution_count": 498,
   "metadata": {},
   "outputs": [],
   "source": [
    "# !pip install xgboost"
   ]
  },
  {
   "cell_type": "code",
   "execution_count": 499,
   "metadata": {},
   "outputs": [],
   "source": [
    "import xgboost as xgb\n",
    "# # Crear un modelo de XGBoost Regressor\n",
    "# xgb_model = xgb.XGBRegressor(objective='reg:squarederror', random_state=42)  # objective es importante para problemas de regresión\n",
    "\n",
    "# # Entrenar el modelo\n",
    "# xgb_model.fit(X_train, y_train)\n",
    "\n",
    "# # Hacer predicciones sobre el conjunto de prueba\n",
    "# y_pred = xgb_model.predict(X_test)\n",
    "\n",
    "# # Calcular las métricas de evaluación\n",
    "# mse = mean_squared_error(y_test, y_pred)\n",
    "# rmse = mean_squared_error(y_test, y_pred)\n",
    "# mae = mean_absolute_error(y_test, y_pred)\n",
    "# r2 = r2_score(y_test, y_pred)\n",
    "\n",
    "# print(f\"MSE: {mse:.2f}\")\n",
    "# print(f\"RMSE: {rmse:.2f}\")\n",
    "# print(f\"MAE: {mae:.2f}\")\n",
    "# print(f\"R²: {r2:.2f}\")"
   ]
  },
  {
   "cell_type": "markdown",
   "metadata": {},
   "source": [
    "Sigue mejorando el r2, pero aun no lo óptimo:"
   ]
  },
  {
   "cell_type": "code",
   "execution_count": 500,
   "metadata": {},
   "outputs": [],
   "source": [
    "# param_grid = {\n",
    "#     'max_depth': [3, 4, 5, 6],\n",
    "#     'learning_rate': [0.01, 0.05, 0.1],\n",
    "#     'n_estimators': [100, 200, 300],\n",
    "#     'colsample_bytree': [0.7, 0.8, 0.9],\n",
    "#     'subsample': [0.7, 0.8, 0.9],\n",
    "# }\n",
    "\n",
    "# grid_search = GridSearchCV(estimator=xgb_model, param_grid=param_grid, cv=5, scoring='neg_mean_squared_error', n_jobs=-1)\n",
    "# grid_search.fit(X_train, y_train)\n",
    "\n",
    "# print(\"Mejores hiperparámetros:\", grid_search.best_params_)\n",
    "# best_xgb_model = grid_search.best_estimator_\n",
    "\n",
    "# # Evaluar el mejor modelo\n",
    "# y_pred = best_xgb_model.predict(X_test)                   "
   ]
  },
  {
   "cell_type": "code",
   "execution_count": 501,
   "metadata": {},
   "outputs": [],
   "source": [
    "# # Calcular las métricas de evaluación\n",
    "# mse = mean_squared_error(y_test, y_pred)\n",
    "# rmse = mean_squared_error(y_test, y_pred)\n",
    "# mae = mean_absolute_error(y_test, y_pred)\n",
    "# r2 = r2_score(y_test, y_pred)\n",
    "\n",
    "# print(f\"MSE: {mse:.2f}\")\n",
    "# print(f\"RMSE: {rmse:.2f}\")\n",
    "# print(f\"MAE: {mae:.2f}\")\n",
    "# print(f\"R²: {r2:.2f}\")"
   ]
  },
  {
   "cell_type": "code",
   "execution_count": 502,
   "metadata": {},
   "outputs": [],
   "source": [
    "# best_xgb_model.feature_importances_"
   ]
  },
  {
   "cell_type": "markdown",
   "metadata": {},
   "source": [
    "### Modelo de Machine Learning: Selección y Ajuste\n",
    "\n",
    "Tras un análisis exploratorio inicial, se procedió a entrenar y evaluar diversos modelos de machine learning para la predicción de salarios. Se probaron inicialmente modelos de regresión lineal y polinomial, y posteriormente modelos más complejos como Random Forest y XGBoost. Si bien los modelos más avanzados, como Random Forest y XGBoost, mostraron una mejora en las métricas de evaluación con respecto a los modelos lineales, el rendimiento general no alcanzó los niveles deseados, evidenciado por un R² que, si bien positivo, se mantuvo por debajo de valores que indicaran un ajuste óptimo.\n",
    "\n",
    "Un análisis detallado de las métricas y la distribución de los salarios sugirió que la dispersión de los datos podría estar dificultando la capacidad de los modelos para capturar patrones y relaciones subyacentes. La distribución de salarios presenta una asimetría positiva, con una concentración significativa de valores en el rango inferior y una cola extendida hacia valores más altos, que se corresponde a una minoría de casos. El análisis exploratorio de la variable objetivo ('target'), que representa el salario anual, reveló una dispersión considerable de los datos:"
   ]
  },
  {
   "cell_type": "code",
   "execution_count": 503,
   "metadata": {},
   "outputs": [
    {
     "data": {
      "text/plain": [
       "count      1934.000000\n",
       "mean      56435.776112\n",
       "std       38530.368156\n",
       "min        7500.000000\n",
       "25%       33402.500000\n",
       "50%       48000.000000\n",
       "75%       67000.000000\n",
       "max      400000.000000\n",
       "Name: CompTotal, dtype: float64"
      ]
     },
     "execution_count": 503,
     "metadata": {},
     "output_type": "execute_result"
    }
   ],
   "source": [
    "y.describe() "
   ]
  },
  {
   "cell_type": "markdown",
   "metadata": {},
   "source": [
    "El gráfico de la distribución de la variable objetivo muestra también una clara asimetría, con una concentración de valores en el rango inferior y una cola extendida hacia valores más altos."
   ]
  },
  {
   "cell_type": "code",
   "execution_count": 504,
   "metadata": {},
   "outputs": [
    {
     "data": {
      "image/png": "[encoded data removed]",
      "text/plain": [
       "<Figure size 800x600 with 1 Axes>"
      ]
     },
     "metadata": {},
     "output_type": "display_data"
    }
   ],
   "source": [
    "# Visualización\n",
    "plt.figure(figsize=(8, 6))\n",
    "sns.kdeplot(y, label='df1', color='blue')\n",
    "plt.title('Comparación de las Distribuciones de target')\n",
    "plt.xlabel('target')\n",
    "plt.ylabel('Densidad')\n",
    "plt.legend()\n",
    "plt.show()"
   ]
  },
  {
   "cell_type": "markdown",
   "metadata": {},
   "source": [
    "Esta configuración plantea un desafío para los modelos de *machine learning*, que pueden tener dificultades para generalizar a partir de datos tan heterogéneos.\n",
    "\n",
    "#### Estrategia de Modelado con Dos Grupos\n",
    "\n",
    "En vista de la dispersión observada y del análisis de la distribución de los datos, se decidió implementar una estrategia de modelado diferenciada, que consiste en la creación de dos modelos distintos. El primero se enfoca en el subconjunto de datos que corresponde a salarios que se consideran dentro de un rango \"normal\" o más frecuente, mientras que el segundo modelo se entrena con los datos correspondientes a salarios significativamente más altos, que podrían considerarse atípicos en comparación con el grueso de la distribución. La hipótesis subyacente es que los factores que determinan los salarios en estos dos rangos pueden ser diferentes y, por lo tanto, requieren modelos distintos para su correcta predicción.\n",
    "\n",
    "**Metodología para la División en Grupos**\n",
    "\n",
    "Para segmentar el conjunto de datos en dos grupos, se evaluaron varios métodos:\n",
    "\n",
    "- *Umbral Fijo*: Establecer un límite arbitrario, como por ejemplo, 100,000 unidades monetarias. Este método es directo, pero carece de fundamentación estadística y depende de una elección discrecional.\n",
    "- *Percentiles*: Dividir los datos basándose en percentiles, ajustando el punto de corte (por ejemplo, percentil 90, 85, etc.) para optimizar la distribución resultante. Este enfoque es adaptable, pero la elección del percentil sigue siendo, en cierta medida, arbitraria.\n",
    "- *Desviación Estándar*: Clasificar como \"salarios altos\" aquellos que se sitúan a 2 o 3 desviaciones estándar por encima de la media. Este método se basa en la dispersión de los datos, pero asume una distribución aproximadamente normal, lo cual no se cumple estrictamente en este - caso.\n",
    "- *Clustering*: Aplicar un algoritmo de clustering para identificar agrupaciones naturales en los datos, permitiendo que el propio algoritmo determine los límites entre los grupos basándose en la similitud de los salarios.\n",
    "Implementación del Clustering para la Segmentación\n",
    "\n",
    "Se optó por implementar la técnica de clustering mediante el algoritmo K-Means para segmentar los datos. Para ello, se seleccionó la columna de salarios del DataFrame y se escalaron los datos utilizando StandardScaler para asegurar que la magnitud de los salarios no influyera de manera desproporcionada en el proceso de clustering."
   ]
  },
  {
   "cell_type": "code",
   "execution_count": 505,
   "metadata": {},
   "outputs": [],
   "source": [
    "from sklearn.cluster import KMeans"
   ]
  },
  {
   "cell_type": "markdown",
   "metadata": {},
   "source": [
    "Tengo que cargar los datos nuevamente, porque antes estaban escalados "
   ]
  },
  {
   "cell_type": "code",
   "execution_count": 506,
   "metadata": {},
   "outputs": [],
   "source": [
    "# Cargar el DataFrame desde el archivo\n",
    "with open('../Pickles/df_final.pickle', 'rb') as archivo:\n",
    "    df = pickle.load(archivo)"
   ]
  },
  {
   "cell_type": "code",
   "execution_count": 507,
   "metadata": {},
   "outputs": [],
   "source": [
    "# Reemplazar todos los NaN con 0\n",
    "df.fillna(0, inplace=True)"
   ]
  },
  {
   "cell_type": "markdown",
   "metadata": {},
   "source": [
    "## Segmentación de Datos mediante Clustering\n",
    "\n",
    "El objetivo de esta segmentación es mejorar la capacidad predictiva de los modelos de machine learning al permitirles aprender patrones específicos de cada grupo.\n",
    "\n",
    "Metodología de Clustering\n",
    "\n",
    "Se empleó el algoritmo K-Means para la segmentación de los datos, utilizando la variable CompTotal (salario anual total) como base para la agrupación. Se realizaron pruebas iniciales con dos clústeres, con la intención de separar los datos en grupos de salarios \"normales\" y \"altos\". Sin embargo, el análisis de la distribución resultante reveló que un clúster capturaba la gran mayoría de los datos, mientras que el otro agrupaba una cantidad reducida de observaciones con salarios significativamente más elevados.\n",
    "\n",
    "Para refinar la segmentación, se incrementó el número de clústeres a cuatro en el algoritmo K-Means. La visualización de los cuatro clústeres resultantes, mediante el histograma que muestro a continuación, mostró una separación más clara y detallada de los datos en función del salario."
   ]
  },
  {
   "cell_type": "code",
   "execution_count": 508,
   "metadata": {},
   "outputs": [],
   "source": [
    "y = df[['CompTotal']].copy()  # 'y' ahora contiene la variable objetivo\n",
    "\n",
    "# Escalar los datos (en este caso, solo la columna de salarios)\n",
    "scaler = StandardScaler()\n",
    "y_scaled = scaler.fit_transform(y) # 'y_scaled' contiene los salarios escalados\n",
    "\n",
    "# Aplicar K-Means con 2 clústeres\n",
    "kmeans = KMeans(n_clusters=4, random_state=42, n_init='auto')\n",
    "kmeans.fit(y_scaled)\n",
    "\n",
    "# Obtener las etiquetas de los clústeres\n",
    "labels = kmeans.labels_\n",
    "\n",
    "# Agregar las etiquetas al DataFrame original\n",
    "df['cluster'] = labels\n",
    "\n",
    "# Separar los grupos\n",
    "df_cluster_0 = df[df['cluster'] == 0]\n",
    "df_cluster_1 = df[df['cluster'] == 1]\n",
    "df_cluster_2 = df[df['cluster'] == 2]\n",
    "df_cluster_3 = df[df['cluster'] == 3]"
   ]
  },
  {
   "cell_type": "markdown",
   "metadata": {},
   "source": [
    "Histograma de la distribución de salarios para los cuatro clústeres generados por K-Means."
   ]
  },
  {
   "cell_type": "code",
   "execution_count": 509,
   "metadata": {},
   "outputs": [
    {
     "data": {
      "image/png": "[encoded data removed]",
      "text/plain": [
       "<Figure size 1000x500 with 1 Axes>"
      ]
     },
     "metadata": {},
     "output_type": "display_data"
    }
   ],
   "source": [
    "# Histograma de los dos grupos\n",
    "plt.figure(figsize=(10, 5))\n",
    "plt.hist(df_cluster_0['CompTotal'], bins=20, alpha=0.7, label='Clúster 0')\n",
    "plt.hist(df_cluster_1['CompTotal'], bins=20, alpha=0.7, label='Clúster 1')\n",
    "plt.hist(df_cluster_2['CompTotal'], bins=20, alpha=0.7, label='Clúster 2')\n",
    "plt.hist(df_cluster_3['CompTotal'], bins=20, alpha=0.7, label='Clúster 3')\n",
    "plt.xlabel(\"Salario\")\n",
    "plt.ylabel(\"Frecuencia\")\n",
    "plt.title(\"Distribución de Salarios en los Cuatro Clústeres\")\n",
    "plt.legend()\n",
    "plt.show()"
   ]
  },
  {
   "cell_type": "markdown",
   "metadata": {},
   "source": [
    "### Análisis de los Clústeres Resultantes\n",
    "\n",
    "El clúster 0 concentra la mayor parte de las observaciones (1791) y presenta una distribución de salarios sesgada a la derecha, con valores que van desde aproximadamente 0 hasta 60,000. Los clústeres 1, 2 y 3, en cambio, agrupan una cantidad menor de observaciones, con rangos de salarios progresivamente más altos. El clúster 1 contiene salarios intermedios (aproximadamente entre 60,000 y 100,000), el clúster 2 agrupa salarios más altos (entre 125,000 y 200,000), y el clúster 3 representa los salarios más elevados del conjunto de datos (por encima de 350,000).\n",
    "\n",
    "### Agrupación de Clústeres\n",
    "\n",
    "Con el fin de mantener la estrategia inicial de modelar dos grupos diferenciados (salarios \"normales\" y \"altos\") y, al mismo tiempo, obtener un grupo de \"salarios altos\" con un tamaño de muestra más adecuado para el entrenamiento de modelos, se decidió agrupar los clústeres 1, 2 y 3 en un solo clúster. Esta agrupación se justifica por las siguientes razones: 1. Simplicidad: Facilita el análisis y la comparación de modelos al mantener la dicotomía inicial entre salarios \"normales\" y \"altos\".\n",
    "2. Tamaño de Muestra: El grupo resultante de la unión de los clústeres 1, 2 y 3 tiene un tamaño de muestra combinado que, si bien es menor que el del clúster 0, es más adecuado para el entrenamiento de modelos que los clústeres individuales por separado.\n",
    "3. Diferenciación Clara: A pesar de la agrupación, la diferencia entre el clúster 0 y el nuevo clúster \"alto\" (1+2+3) sigue siendo significativa en términos de rango salarial."
   ]
  },
  {
   "cell_type": "code",
   "execution_count": 510,
   "metadata": {},
   "outputs": [
    {
     "data": {
      "image/png": "[encoded data removed]",
      "text/plain": [
       "<Figure size 1000x600 with 1 Axes>"
      ]
     },
     "metadata": {},
     "output_type": "display_data"
    }
   ],
   "source": [
    "# Visualizar los clústeres\n",
    "plt.figure(figsize=(10, 6))\n",
    "plt.scatter(df['CompTotal'], [0] * len(df), c=df['cluster'], cmap='viridis', s=50)\n",
    "plt.xlabel(\"Salario\")\n",
    "plt.title(\"Clustering de Salarios con K-Means (4 Clústeres)\")\n",
    "plt.yticks([])  # Ocultar el eje y\n",
    "plt.show()"
   ]
  },
  {
   "cell_type": "code",
   "execution_count": 511,
   "metadata": {},
   "outputs": [],
   "source": [
    "# --- Agrupar clústeres 1, 2 y 3 ---\n",
    "df['cluster_grouped'] = df['cluster'].map({0: 0, 1: 1, 2: 1, 3: 1})\n",
    "\n",
    "# Separar los grupos\n",
    "df_cluster_0 = df[df['cluster_grouped'] == 0]\n",
    "df_cluster_1 = df[df['cluster_grouped'] == 1]"
   ]
  },
  {
   "cell_type": "markdown",
   "metadata": {},
   "source": [
    "#### Análisis del Clúster 0 (Salarios \"Normales\")\n",
    "\n",
    "El clúster 0, que representa el grupo de salarios \"normales\", contiene 1366 observaciones. La Figura a continuación muestra la distribución de los salarios en este clúster, y la Tabla que le sigue presenta las estadísticas descriptivas correspondientes."
   ]
  },
  {
   "cell_type": "code",
   "execution_count": 512,
   "metadata": {},
   "outputs": [],
   "source": [
    "from sklearn.preprocessing import PolynomialFeatures\n",
    "# # --- Clúster 0 ---\n",
    "# # Separar la variable objetivo (y) de las variables predictoras (X)\n",
    "# y_c0 = df_cluster_0['CompTotal']\n",
    "# X_c0 = df_cluster_0.drop(['CompTotal', 'cluster', 'cluster_grouped'], axis=1)  # Eliminar también las columnas de clustering"
   ]
  },
  {
   "cell_type": "code",
   "execution_count": 513,
   "metadata": {},
   "outputs": [],
   "source": [
    "# # Visualización\n",
    "# plt.figure(figsize=(8, 6))\n",
    "# sns.kdeplot(y_c0, label='Cluster0', color='blue')\n",
    "# plt.title('Comparación de las Distribuciones de target')\n",
    "# plt.xlabel('target')\n",
    "# plt.ylabel('Densidad')\n",
    "# plt.legend()\n",
    "# plt.show()"
   ]
  },
  {
   "cell_type": "markdown",
   "metadata": {},
   "source": [
    "Como se puede apreciar, la distribución de los salarios en el clúster 0 es unimodal y presenta una asimetría positiva, aunque mucho menos pronunciada que la distribución original del conjunto de datos completo. La media y la mediana son muy similares (39,109 y 39,000, respectivamente), lo que indica una distribución relativamente simétrica. El rango de salarios en este grupo (de 7,500 a 61,200) se considera adecuado para representar el segmento de salarios \"normales\" o más frecuentes dentro de la industria tecnológica, de acuerdo con el contexto del estudio."
   ]
  },
  {
   "cell_type": "code",
   "execution_count": 514,
   "metadata": {},
   "outputs": [],
   "source": [
    "# y_c0.describe()"
   ]
  },
  {
   "cell_type": "code",
   "execution_count": 515,
   "metadata": {},
   "outputs": [],
   "source": [
    "# # Dividir en entrenamiento y prueba\n",
    "# X_train_c0, X_test_c0, y_train_c0, y_test_c0 = train_test_split(\n",
    "#     X_c0, y_c0, test_size=0.2, random_state=42\n",
    "# )\n",
    "\n",
    "# # Transformación logarítmica de la variable objetivo\n",
    "# y_train_c0_log = np.log1p(y_train_c0)\n",
    "\n",
    "# # Visualizacion con transformacion logaritmica\n",
    "# # Visualización\n",
    "# plt.figure(figsize=(8, 6))\n",
    "# sns.kdeplot(y_train_c0_log, label='Cluster0', color='blue')\n",
    "# plt.title('Comparación de las Distribuciones de target')\n",
    "# plt.xlabel('target')\n",
    "# plt.ylabel('Densidad')\n",
    "# plt.legend()\n",
    "# plt.show()"
   ]
  },
  {
   "cell_type": "code",
   "execution_count": 516,
   "metadata": {},
   "outputs": [],
   "source": [
    "# # Creacion de variables polinomicas\n",
    "# poly = PolynomialFeatures(degree=2, include_bias=False)\n",
    "# X_train_c0_poly = poly.fit_transform(X_train_c0)\n",
    "# X_test_c0_poly = poly.transform(X_test_c0)\n",
    "\n",
    "# # Escalar las variables predictoras\n",
    "# scaler_c0 = StandardScaler()\n",
    "# X_train_c0_scaled = scaler_c0.fit_transform(X_train_c0_poly)\n",
    "# X_test_c0_scaled = scaler_c0.transform(X_test_c0_poly)"
   ]
  },
  {
   "cell_type": "code",
   "execution_count": 517,
   "metadata": {},
   "outputs": [],
   "source": [
    "# print((X_train_c0).shape)\n",
    "# print((X_test_c0).shape)\n",
    "# print((y_train_c0).shape)\n",
    "# print((y_test_c0).shape)"
   ]
  },
  {
   "cell_type": "markdown",
   "metadata": {},
   "source": [
    "#### Análisis del Clúster 1 (Salarios \"Altos\")"
   ]
  },
  {
   "cell_type": "code",
   "execution_count": 518,
   "metadata": {},
   "outputs": [],
   "source": [
    "# # --- Clúster 1+2+3 ---\n",
    "# # Separar la variable objetivo (y) de las variables predictoras (X)\n",
    "# y_c1 = df_cluster_1['CompTotal']\n",
    "# X_c1 = df_cluster_1.drop(['CompTotal', 'cluster', 'cluster_grouped'], axis=1)\n",
    "\n",
    "# y_c1.describe()"
   ]
  },
  {
   "cell_type": "markdown",
   "metadata": {},
   "source": [
    "El clúster 1, que representa el segmento de salarios 'altos', se compone de 568 observaciones. La distribución de los salarios en este grupo, como se observa en la Figura que sigue y se resume en la Tabla de arriba, es asimétrica positiva, con una media de 98,105 y una desviación estándar de 47,070. La presencia de valores atípicamente altos, como lo indica el salario máximo de 400,000, es una característica distintiva de este grupo."
   ]
  },
  {
   "cell_type": "code",
   "execution_count": 519,
   "metadata": {},
   "outputs": [],
   "source": [
    "# # Visualización\n",
    "# plt.figure(figsize=(8, 6))\n",
    "# sns.kdeplot(y_c1, label='Cluster0', color='blue')\n",
    "# plt.title('Comparación de las Distribuciones de target')\n",
    "# plt.xlabel('target')\n",
    "# plt.ylabel('Densidad')\n",
    "# plt.legend()\n",
    "# plt.show()"
   ]
  },
  {
   "cell_type": "code",
   "execution_count": 520,
   "metadata": {},
   "outputs": [],
   "source": [
    "# # Dividir en entrenamiento y prueba\n",
    "# X_train_c1, X_test_c1, y_train_c1, y_test_c1 = train_test_split(\n",
    "#     X_c1, y_c1, test_size=0.2, random_state=42\n",
    "# )\n",
    "\n",
    "# # Transformación logarítmica de la variable objetivo\n",
    "# y_train_c1_log = np.log1p(y_train_c1)"
   ]
  },
  {
   "cell_type": "code",
   "execution_count": 521,
   "metadata": {},
   "outputs": [],
   "source": [
    "# # Visualizacion con transformacion logaritmica\n",
    "# # Visualización\n",
    "# plt.figure(figsize=(8, 6))\n",
    "# sns.kdeplot(y_train_c1_log, label='Cluster0', color='blue')\n",
    "# plt.title('Comparación de las Distribuciones de target')\n",
    "# plt.xlabel('target')\n",
    "# plt.ylabel('Densidad')\n",
    "# plt.legend()\n",
    "# plt.show()"
   ]
  },
  {
   "cell_type": "code",
   "execution_count": 522,
   "metadata": {},
   "outputs": [],
   "source": [
    "# # Creacion de variables polinomicas\n",
    "# poly = PolynomialFeatures(degree=2, include_bias=False)\n",
    "# X_train_c1_poly = poly.fit_transform(X_train_c1)\n",
    "# X_test_c1_poly = poly.transform(X_test_c1)\n",
    "\n",
    "# # Escalar las variables predictoras\n",
    "# scaler_c1 = StandardScaler()\n",
    "# X_train_c1_scaled = scaler_c1.fit_transform(X_train_c1_poly)\n",
    "# X_test_c1_scaled = scaler_c1.transform(X_test_c1_poly)"
   ]
  },
  {
   "cell_type": "code",
   "execution_count": 523,
   "metadata": {},
   "outputs": [],
   "source": [
    "# print((X_train_c1).shape)\n",
    "# print((X_test_c1).shape)\n",
    "# print((y_train_c1).shape)\n",
    "# print((y_test_c1).shape)"
   ]
  },
  {
   "cell_type": "markdown",
   "metadata": {},
   "source": [
    "A raíz de la división realizada entre Cluster 0 y Cluster 1, podemos decir que si bien 1366 muestras son suficientes para entrenar un modelo de Machine Learning, 568 muestras para el clúster 1 son relativamente pocas, y esto podría plantear algunos desafíos:\n",
    "- Mayor Riesgo de Sobreajuste: Con un conjunto de datos pequeño, es más fácil que el modelo se ajuste demasiado a los datos de entrenamiento y no generalice bien a nuevos datos.\n",
    "- Dificultad para Capturar la Variabilidad: Un conjunto de datos pequeño puede no representar adecuadamente la variabilidad real de los salarios altos.\n",
    "- Evaluación Menos Fiable: La evaluación del modelo en un conjunto de prueba pequeño puede ser menos fiable, ya que las métricas de rendimiento pueden variar mucho dependiendo de la división específica de los datos. \n",
    "\n",
    "Comenzaré a trabajar con un algoritmo para el Cluster0, y atenderé estos desafíos luego. "
   ]
  },
  {
   "cell_type": "markdown",
   "metadata": {},
   "source": [
    "### Modelos con Cluster 0"
   ]
  },
  {
   "cell_type": "markdown",
   "metadata": {},
   "source": [
    "Probé con GridSearch pero tardó más de 20min sin poder enternar. Pruebo primero con un RandomForest con parámetros normales y luego ajusto."
   ]
  },
  {
   "cell_type": "markdown",
   "metadata": {},
   "source": [
    "Variables:\n",
    "- X_train_c0_scaled (escaado y polynomio de X_train_c0)\n",
    "- X_test_c0_scaled (escaado y polynomio de X_test_c0)\n",
    "- y_train_c0_log (np.log1p de y_train_c0)\n",
    "- y_test_c0"
   ]
  },
  {
   "cell_type": "code",
   "execution_count": 524,
   "metadata": {},
   "outputs": [],
   "source": [
    "# # Crear un modelo de Random Forest\n",
    "# rf_model_c0 = RandomForestRegressor(random_state=42)\n",
    "\n",
    "# # Entrenar el modelo\n",
    "# rf_model_c0.fit(X_train_c0_scaled, y_train_c0_log)\n",
    "\n",
    "# y_pred_c0_log = rf_model_c0.predict(X_test_c0_scaled)  # Predicciones en escala logarítmica\n",
    "# y_pred_c0 = np.expm1(y_pred_c0_log)  # Transformación inversa para obtener predicciones en escala original"
   ]
  },
  {
   "cell_type": "code",
   "execution_count": 525,
   "metadata": {},
   "outputs": [],
   "source": [
    "# # Calcular las métricas de evaluación\n",
    "# mse = mean_squared_error(y_test_c0, y_pred_c0)\n",
    "# rmse = mean_squared_error(y_test_c0, y_pred_c0)\n",
    "# mae = mean_absolute_error(y_test_c0, y_pred_c0)\n",
    "# r2 = r2_score(y_test_c0, y_pred_c0)\n",
    "\n",
    "# print(f\"MSE: {mse:.2f}\")\n",
    "# print(f\"RMSE: {rmse:.2f}\")\n",
    "# print(f\"MAE: {mae:.2f}\")\n",
    "# print(f\"R²: {r2:.2f}\")"
   ]
  },
  {
   "cell_type": "markdown",
   "metadata": {},
   "source": [
    "Pruebo con un GridSearch con pocos parametros"
   ]
  },
  {
   "cell_type": "code",
   "execution_count": 526,
   "metadata": {},
   "outputs": [],
   "source": [
    "# param_grid = {\n",
    "#     'n_estimators': [100, 200],\n",
    "#     'max_depth': [None, 10, 20],\n",
    "#     'min_samples_leaf': [1, 2, 4]\n",
    "# }\n",
    "\n",
    "# grid_search = GridSearchCV(estimator=rf_model_c0, param_grid=param_grid, cv=3, scoring='neg_mean_squared_error', n_jobs=-1)\n",
    "# grid_search.fit(X_train_c0_scaled, y_train_c0_log)\n",
    "\n",
    "# print(\"Mejores hiperparámetros:\", grid_search.best_params_)\n",
    "# best_rf_model = grid_search.best_estimator_\n",
    "\n",
    "# y_pred_c0_log = best_rf_model.predict(X_test_c0_scaled)  # Predicciones en escala logarítmica\n",
    "# y_pred_c0 = np.expm1(y_pred_c0_log) # Transformación inversa para obtener predicciones en escala original"
   ]
  },
  {
   "cell_type": "code",
   "execution_count": 527,
   "metadata": {},
   "outputs": [],
   "source": [
    "# # Calcular las métricas de evaluación\n",
    "# mse = mean_squared_error(y_test_c0, y_pred_c0)\n",
    "# rmse = mean_squared_error(y_test_c0, y_pred_c0)\n",
    "# mae = mean_absolute_error(y_test_c0, y_pred_c0)\n",
    "# r2 = r2_score(y_test_c0, y_pred_c0)\n",
    "\n",
    "# print(f\"MSE: {mse:.2f}\")\n",
    "# print(f\"RMSE: {rmse:.2f}\")\n",
    "# print(f\"MAE: {mae:.2f}\")\n",
    "# print(f\"R²: {r2:.2f}\")"
   ]
  },
  {
   "cell_type": "markdown",
   "metadata": {},
   "source": [
    "Mejora, pero no exageradamente. Pruebo ahora con xgboost Regressor"
   ]
  },
  {
   "cell_type": "code",
   "execution_count": 528,
   "metadata": {},
   "outputs": [],
   "source": [
    "# # Crear un modelo de XGBoost Regressor\n",
    "# xgb_model = xgb.XGBRegressor(objective='reg:squarederror', random_state=42)  # objective es importante para problemas de regresión\n",
    "\n",
    "# param_grid = {\n",
    "#     'max_depth': [3, 4, 5, 6],\n",
    "#     'learning_rate': [0.01, 0.1],\n",
    "#     'n_estimators': [100, 200],\n",
    "#     'colsample_bytree': [0.7, 0.8],\n",
    "#     'subsample': [0.7, 0.8],\n",
    "# }\n",
    "\n",
    "# grid_search = GridSearchCV(estimator=xgb_model, param_grid=param_grid, cv=5, scoring='neg_mean_squared_error', n_jobs=-1)\n",
    "# grid_search.fit(X_train_c0_scaled, y_train_c0_log)\n",
    "\n",
    "# print(\"Mejores hiperparámetros:\", grid_search.best_params_)\n",
    "# best_xgb_model = grid_search.best_estimator_\n",
    "\n",
    "# y_pred_c0_log = best_xgb_model.predict(X_test_c0_scaled)  \n",
    "# y_pred_c0 = np.expm1(y_pred_c0_log) "
   ]
  },
  {
   "cell_type": "code",
   "execution_count": 529,
   "metadata": {},
   "outputs": [],
   "source": [
    "# # Calcular las métricas de evaluación\n",
    "# mse = mean_squared_error(y_test_c0, y_pred_c0)\n",
    "# rmse = mean_squared_error(y_test_c0, y_pred_c0)\n",
    "# mae = mean_absolute_error(y_test_c0, y_pred_c0)\n",
    "# r2 = r2_score(y_test_c0, y_pred_c0)\n",
    "\n",
    "# print(f\"MSE: {mse:.2f}\")\n",
    "# print(f\"RMSE: {rmse:.2f}\")\n",
    "# print(f\"MAE: {mae:.2f}\")\n",
    "# print(f\"R²: {r2:.2f}\")"
   ]
  },
  {
   "cell_type": "markdown",
   "metadata": {},
   "source": [
    "Sigo probando con este modelo, que es el que mejores resultados me ha dado hasta ahora. Pruebo un nuevo GridSearch, modificando los hiperparametros:"
   ]
  },
  {
   "cell_type": "code",
   "execution_count": 530,
   "metadata": {},
   "outputs": [],
   "source": [
    "# param_grid_2 = {\n",
    "#     'max_depth': [2, 3, 4],  # Valores alrededor del mejor valor actual (3)\n",
    "#     'learning_rate': [0.1, 0.15, 0.2],  # Mantener 0.1 y probar valores ligeramente mayores\n",
    "#     'n_estimators': [80, 100, 120],  # Valores alrededor del mejor valor actual (100)\n",
    "#     'colsample_bytree': [0.8, 0.85, 0.9],  # Valores alrededor del mejor valor actual (0.8)\n",
    "#     'subsample': [0.6, 0.65, 0.7, 0.75],  # Valores alrededor del mejor valor actual (0.7)\n",
    "#     'gamma': [0, 0.1, 0.2],  # Probar con valores de gamma para regularizar\n",
    "#     'min_child_weight': [1, 2, 3]  # Probar con min_child_weight para regularizar\n",
    "# }"
   ]
  },
  {
   "cell_type": "code",
   "execution_count": 531,
   "metadata": {},
   "outputs": [],
   "source": [
    "# grid_search = GridSearchCV(estimator=xgb_model, param_grid=param_grid_2, cv=5, scoring='neg_mean_squared_error', n_jobs=-1)\n",
    "# grid_search.fit(X_train_c0_scaled, y_train_c0_log)\n",
    "\n",
    "# print(\"Mejores hiperparámetros:\", grid_search.best_params_)\n",
    "# best_xgb_model = grid_search.best_estimator_\n",
    "\n",
    "# y_pred_c0_log = best_xgb_model.predict(X_test_c0_scaled)  \n",
    "# y_pred_c0 = np.expm1(y_pred_c0_log) "
   ]
  },
  {
   "cell_type": "code",
   "execution_count": 532,
   "metadata": {},
   "outputs": [],
   "source": [
    "# # Calcular las métricas de evaluación\n",
    "# mse = mean_squared_error(y_test_c0, y_pred_c0)\n",
    "# rmse = mean_squared_error(y_test_c0, y_pred_c0)\n",
    "# mae = mean_absolute_error(y_test_c0, y_pred_c0)\n",
    "# r2 = r2_score(y_test_c0, y_pred_c0)\n",
    "\n",
    "# print(f\"MSE: {mse:.2f}\")\n",
    "# print(f\"RMSE: {rmse:.2f}\")\n",
    "# print(f\"MAE: {mae:.2f}\")\n",
    "# print(f\"R²: {r2:.2f}\")"
   ]
  },
  {
   "cell_type": "markdown",
   "metadata": {},
   "source": [
    "Con estos nuevos parametros me da peores metricas, me quedo con los anteriores. "
   ]
  },
  {
   "cell_type": "markdown",
   "metadata": {},
   "source": [
    "Pruebo ahora con Lightgbm"
   ]
  },
  {
   "cell_type": "code",
   "execution_count": 533,
   "metadata": {},
   "outputs": [
    {
     "name": "stdout",
     "output_type": "stream",
     "text": [
      "Requirement already satisfied: lightgbm in c:\\users\\emita\\.conda\\envs\\proyecto_ml\\lib\\site-packages (4.5.0)\n",
      "Requirement already satisfied: numpy>=1.17.0 in c:\\users\\emita\\.conda\\envs\\proyecto_ml\\lib\\site-packages (from lightgbm) (1.26.4)\n",
      "Requirement already satisfied: scipy in c:\\users\\emita\\.conda\\envs\\proyecto_ml\\lib\\site-packages (from lightgbm) (1.14.1)\n"
     ]
    }
   ],
   "source": [
    "!pip install lightgbm"
   ]
  },
  {
   "cell_type": "markdown",
   "metadata": {},
   "source": [
    "# Mejor \n",
    "# modelo \n",
    "# hasta \n",
    "# ahora"
   ]
  },
  {
   "cell_type": "code",
   "execution_count": 534,
   "metadata": {},
   "outputs": [],
   "source": [
    "import lightgbm as lgb"
   ]
  },
  {
   "cell_type": "code",
   "execution_count": 535,
   "metadata": {},
   "outputs": [],
   "source": [
    "# # Crear un modelo de XGBoost Regressor\n",
    "# # Crear el modelo LightGBM\n",
    "# lgb_model = lgb.LGBMRegressor(random_state=42, objective='regression')\n",
    "# param_grid = {\n",
    "#     'learning_rate': [0.01, 0.05, 0.1],\n",
    "#     'n_estimators': [50, 100, 200],\n",
    "#     'max_depth': [3, 4, 5],  # -1 significa sin límite\n",
    "#     'num_leaves': [15, 31, 63],  # Número de hojas en un árbol (2^max_depth)\n",
    "#     'colsample_bytree': [0.7, 0.8],\n",
    "#     'subsample': [0.7, 0.8],\n",
    "#     'min_child_samples': [1, 5]\n",
    "# }\n",
    "\n",
    "# grid_search = GridSearchCV(estimator=lgb_model, param_grid=param_grid, cv=3, scoring='neg_mean_squared_error', n_jobs=-1, verbose=2)\n",
    "# grid_search.fit(X_train_c0_scaled, y_train_c0_log)\n",
    "\n",
    "# print(\"Mejores hiperparámetros:\", grid_search.best_params_)\n",
    "# best_lgb_model = grid_search.best_estimator_\n",
    "\n",
    "# y_pred_c0_log = best_lgb_model.predict(X_test_c0_scaled)  \n",
    "# y_pred_c0 = np.expm1(y_pred_c0_log)"
   ]
  },
  {
   "cell_type": "code",
   "execution_count": 536,
   "metadata": {},
   "outputs": [],
   "source": [
    "# # Calcular las métricas de evaluación\n",
    "# mse = mean_squared_error(y_test_c0, y_pred_c0)\n",
    "# rmse = mean_squared_error(y_test_c0, y_pred_c0)\n",
    "# mae = mean_absolute_error(y_test_c0, y_pred_c0)\n",
    "# r2 = r2_score(y_test_c0, y_pred_c0)\n",
    "\n",
    "# print(f\"MSE: {mse:.2f}\")\n",
    "# print(f\"RMSE: {rmse:.2f}\")\n",
    "# print(f\"MAE: {mae:.2f}\")\n",
    "# print(f\"R²: {r2:.2f}\")"
   ]
  },
  {
   "cell_type": "markdown",
   "metadata": {},
   "source": [
    "Pruebo con otros hiperparametros"
   ]
  },
  {
   "cell_type": "code",
   "execution_count": 537,
   "metadata": {},
   "outputs": [],
   "source": [
    "# # Crear un modelo de XGBoost Regressor\n",
    "# # Crear el modelo LightGBM\n",
    "# lgb_model = lgb.LGBMRegressor(random_state=42, objective='regression')\n",
    "# param_grid = {\n",
    "#     'learning_rate': [0.04, 0.05, 0.06],\n",
    "#     'n_estimators': [90, 100, 110],\n",
    "#     'max_depth': [5, 7, -1],  # -1 significa sin límite\n",
    "#     'num_leaves': [5, 10, 15],  # Número de hojas en un árbol (2^max_depth)\n",
    "#     'colsample_bytree': [0.5, 0.6, 0.7, 0.8],\n",
    "#     'subsample': [0.5, 0.6, 0.7],\n",
    "#     'min_child_samples': [1]\n",
    "# }\n",
    "\n",
    "# grid_search = GridSearchCV(estimator=lgb_model, param_grid=param_grid, cv=3, scoring='neg_mean_squared_error', n_jobs=-1, verbose=2)\n",
    "# grid_search.fit(X_train_c0_scaled, y_train_c0_log)\n",
    "\n",
    "# print(\"Mejores hiperparámetros:\", grid_search.best_params_)\n",
    "# best_lgb_model = grid_search.best_estimator_\n",
    "\n",
    "# y_pred_c0_log = best_lgb_model.predict(X_test_c0_scaled)  \n",
    "# y_pred_c0 = np.expm1(y_pred_c0_log)"
   ]
  },
  {
   "cell_type": "code",
   "execution_count": 538,
   "metadata": {},
   "outputs": [],
   "source": [
    "# # Calcular las métricas de evaluación\n",
    "# mse = mean_squared_error(y_test_c0, y_pred_c0)\n",
    "# rmse = mean_squared_error(y_test_c0, y_pred_c0)\n",
    "# mae = mean_absolute_error(y_test_c0, y_pred_c0)\n",
    "# r2 = r2_score(y_test_c0, y_pred_c0)\n",
    "\n",
    "# print(f\"MSE: {mse:.2f}\")\n",
    "# print(f\"RMSE: {rmse:.2f}\")\n",
    "# print(f\"MAE: {mae:.2f}\")\n",
    "# print(f\"R²: {r2:.2f}\")"
   ]
  },
  {
   "cell_type": "code",
   "execution_count": 539,
   "metadata": {},
   "outputs": [],
   "source": [
    "from sklearn.model_selection import RandomizedSearchCV\n",
    "\n",
    "# # Crear el modelo LightGBM\n",
    "# lgb_model = lgb.LGBMRegressor(random_state=42, objective='regression')\n",
    "\n",
    "# # Definir un espacio de búsqueda más amplio\n",
    "# param_distributions = {\n",
    "#     'learning_rate': [0.005, 0.01, 0.05, 0.1, 0.15, 0.2],\n",
    "#     'n_estimators': [50, 70, 100, 120],\n",
    "#     'max_depth': [2, 3, 4, 5, -1],\n",
    "#     'num_leaves': [15, 31, 63, 127, 255],\n",
    "#     'colsample_bytree': [0.6, 0.7, 0.8],\n",
    "#     'subsample': [0.5, 0.6, 0.7, 0.8, 0.9, 1.0],\n",
    "#     'min_child_samples': [1, 2, 5, 10, 15, 20],\n",
    "#     'reg_alpha': [0, 0.01, 0.1, 0.5, 1, 2],\n",
    "#     'reg_lambda': [0, 0.01, 0.1, 0.5, 1, 2]\n",
    "# }\n",
    "\n",
    "# # Crear el objeto RandomizedSearchCV\n",
    "# random_search = RandomizedSearchCV(estimator=lgb_model,\n",
    "#                                    param_distributions=param_distributions,\n",
    "#                                    n_iter=200,  # Aumentar el número de iteraciones\n",
    "#                                    scoring='neg_mean_squared_error',\n",
    "#                                    cv=5,\n",
    "#                                    n_jobs=-1,\n",
    "#                                    verbose=2,\n",
    "#                                    random_state=42)\n",
    "\n",
    "# # Ajustar RandomizedSearchCV a los datos de entrenamiento\n",
    "# random_search.fit(X_train_c0_scaled, y_train_c0_log)\n",
    "\n",
    "# # Mejores hiperparámetros\n",
    "# print(\"Mejores hiperparámetros:\", random_search.best_params_)\n",
    "\n",
    "# # Mejor modelo\n",
    "# best_lgb_model = random_search.best_estimator_\n",
    "\n",
    "# y_pred_c0_log = best_lgb_model.predict(X_test_c0_scaled)  \n",
    "# y_pred_c0 = np.expm1(y_pred_c0_log) \n",
    "\n",
    "# # Calcular las métricas de evaluación\n",
    "# mse = mean_squared_error(y_test_c0, y_pred_c0)\n",
    "# rmse = mean_squared_error(y_test_c0, y_pred_c0)\n",
    "# mae = mean_absolute_error(y_test_c0, y_pred_c0)\n",
    "# r2 = r2_score(y_test_c0, y_pred_c0)\n",
    "\n",
    "# print(f\"MSE: {mse:.2f}\")\n",
    "# print(f\"RMSE: {rmse:.2f}\")\n",
    "# print(f\"MAE: {mae:.2f}\")\n",
    "# print(f\"R²: {r2:.2f}\")"
   ]
  },
  {
   "cell_type": "markdown",
   "metadata": {},
   "source": [
    "Sigo sin llegar a unas buenas metricas. Voy a empezar a analizar colinealidades e ir descartando columnas"
   ]
  },
  {
   "cell_type": "markdown",
   "metadata": {},
   "source": [
    "Comienzo dividiendo manualmente las columnas en 3 grupos, para que se pueda hacer un heatmap. La division de grupos es discrecional, en el primer grupo las features que hacen referencia a la persona, su edad, años de experiencia, etc. El segundo grupo lo conforman las features que hacen referencia a las tecnologías utilizadas y el tercero al sector donde trabaja.\n",
    "\n",
    "Luego de haecr un heatmap para cada uno, no se advierten colinealidades fuertes."
   ]
  },
  {
   "cell_type": "code",
   "execution_count": 540,
   "metadata": {},
   "outputs": [],
   "source": [
    "cols_1 = ['MainBranch', 'Age_18-24 years old', 'Age_25-34 years old',\n",
    "       'Age_35-44 years old', 'Age_45-54 years old', 'Age_55-64 years old',\n",
    "       'Age_65 years or older', 'Age_Under 18 years old', 'CodingActivities', 'EdLevel', 'LearnCode', 'YearsCode',\n",
    "       'YearsCodePro', 'LearnCodeOnline_Category_Technical_Reference',\n",
    "       'LearnCodeOnline_Category_Visual_Interactive']\n",
    "cols_2 = ['AISelect',\n",
    "       'AISent','OrgSize', 'PurchaseInfluence', 'Frequency_1', 'Frequency_2', 'Frequency_3', 'TimeSearching','TimeAnswering', 'employment_map',\n",
    "       'RemoteWork_Hybrid (some remote, some in-person)',\n",
    "       'RemoteWork_In-person', 'RemoteWork_Remote', 'Android-based',\n",
    "       'Linux-based', 'MacOS', 'Otros', 'Windows-based','AIAcc',\n",
    "       'AIComplex', 'AIThreat']\n",
    "\n",
    "cols_3 = ['DevType_Category_Desarrollo de Software',\n",
    "       'DevType_Category_Gestión y Liderazgo',\n",
    "       'DevType_Category_Hardware y Blockchain',\n",
    "       'DevType_Category_Infraestructura y Sistemas',\n",
    "       'DevType_Category_Ingeniería de Datos y Ciencia de Datos',\n",
    "       'DevType_Category_Investigación y Educación',\n",
    "       'DevType_Category_Roles de Soporte y Otros', 'Industry_Category_Industria y Energía',\n",
    "       'Industry_Category_Otros Servicios',\n",
    "       'Industry_Category_Salud y Educación',\n",
    "       'Industry_Category_Servicios Financieros',\n",
    "       'Industry_Category_Tecnología y Servicios Digitales']"
   ]
  },
  {
   "cell_type": "code",
   "execution_count": 541,
   "metadata": {},
   "outputs": [],
   "source": [
    "# Calcular y graficar matriz de correlación\n",
    "def plot_correlation(df, columns):\n",
    "    \"\"\"Calcula y grafica la matriz de correlación para un grupo de columnas.\"\"\"\n",
    "    corr_matrix = df[columns].corr()\n",
    "    plt.figure(figsize=(10, 8))\n",
    "    sns.heatmap(corr_matrix, annot=True, cbar=True)\n",
    "    plt.title(\"Matriz de correlación\")\n",
    "    plt.show()"
   ]
  },
  {
   "cell_type": "code",
   "execution_count": 542,
   "metadata": {},
   "outputs": [],
   "source": [
    "# plot_correlation(df_cluster_0, cols_1)"
   ]
  },
  {
   "cell_type": "code",
   "execution_count": 543,
   "metadata": {},
   "outputs": [],
   "source": [
    "# plot_correlation(df_cluster_0, cols_2)"
   ]
  },
  {
   "cell_type": "code",
   "execution_count": 544,
   "metadata": {},
   "outputs": [],
   "source": [
    "# plot_correlation(df_cluster_0, cols_3)"
   ]
  },
  {
   "cell_type": "markdown",
   "metadata": {},
   "source": [
    "Pruebo con una función para analizar las colinealidades de todas las columnas entre sí, aunque sin visualización. "
   ]
  },
  {
   "cell_type": "code",
   "execution_count": 545,
   "metadata": {},
   "outputs": [
    {
     "data": {
      "text/html": [
       "<div>\n",
       "<style scoped>\n",
       "    .dataframe tbody tr th:only-of-type {\n",
       "        vertical-align: middle;\n",
       "    }\n",
       "\n",
       "    .dataframe tbody tr th {\n",
       "        vertical-align: top;\n",
       "    }\n",
       "\n",
       "    .dataframe thead th {\n",
       "        text-align: right;\n",
       "    }\n",
       "</style>\n",
       "<table border=\"1\" class=\"dataframe\">\n",
       "  <thead>\n",
       "    <tr style=\"text-align: right;\">\n",
       "      <th></th>\n",
       "      <th>level_0</th>\n",
       "      <th>level_1</th>\n",
       "      <th>0</th>\n",
       "    </tr>\n",
       "  </thead>\n",
       "  <tbody>\n",
       "    <tr>\n",
       "      <th>0</th>\n",
       "      <td>YearsCodePro</td>\n",
       "      <td>YearsCode</td>\n",
       "      <td>0.913259</td>\n",
       "    </tr>\n",
       "    <tr>\n",
       "      <th>1</th>\n",
       "      <td>AIComplex</td>\n",
       "      <td>AIAcc</td>\n",
       "      <td>0.873621</td>\n",
       "    </tr>\n",
       "    <tr>\n",
       "      <th>2</th>\n",
       "      <td>AISent</td>\n",
       "      <td>AISelect</td>\n",
       "      <td>0.844418</td>\n",
       "    </tr>\n",
       "    <tr>\n",
       "      <th>3</th>\n",
       "      <td>Frequency_2</td>\n",
       "      <td>Frequency_1</td>\n",
       "      <td>0.780972</td>\n",
       "    </tr>\n",
       "    <tr>\n",
       "      <th>4</th>\n",
       "      <td>RemoteWork_Remote</td>\n",
       "      <td>RemoteWork_Hybrid (some remote, some in-person)</td>\n",
       "      <td>0.762458</td>\n",
       "    </tr>\n",
       "    <tr>\n",
       "      <th>5</th>\n",
       "      <td>TimeAnswering</td>\n",
       "      <td>TimeSearching</td>\n",
       "      <td>0.756532</td>\n",
       "    </tr>\n",
       "    <tr>\n",
       "      <th>6</th>\n",
       "      <td>Frequency_3</td>\n",
       "      <td>Frequency_1</td>\n",
       "      <td>0.733768</td>\n",
       "    </tr>\n",
       "    <tr>\n",
       "      <th>7</th>\n",
       "      <td>TimeSearching</td>\n",
       "      <td>Frequency_1</td>\n",
       "      <td>0.708323</td>\n",
       "    </tr>\n",
       "  </tbody>\n",
       "</table>\n",
       "</div>"
      ],
      "text/plain": [
       "             level_0                                          level_1  \\\n",
       "0       YearsCodePro                                        YearsCode   \n",
       "1          AIComplex                                            AIAcc   \n",
       "2             AISent                                         AISelect   \n",
       "3        Frequency_2                                      Frequency_1   \n",
       "4  RemoteWork_Remote  RemoteWork_Hybrid (some remote, some in-person)   \n",
       "5      TimeAnswering                                    TimeSearching   \n",
       "6        Frequency_3                                      Frequency_1   \n",
       "7      TimeSearching                                      Frequency_1   \n",
       "\n",
       "          0  \n",
       "0  0.913259  \n",
       "1  0.873621  \n",
       "2  0.844418  \n",
       "3  0.780972  \n",
       "4  0.762458  \n",
       "5  0.756532  \n",
       "6  0.733768  \n",
       "7  0.708323  "
      ]
     },
     "execution_count": 545,
     "metadata": {},
     "output_type": "execute_result"
    }
   ],
   "source": [
    "def get_top_correlations(df, threshold=0.5):\n",
    "  \"\"\"\n",
    "  Calcula la matriz de correlación y devuelve los pares de variables con correlación\n",
    "  absoluta mayor o igual a un umbral.\n",
    "\n",
    "  Args:\n",
    "      df: DataFrame de pandas.\n",
    "      threshold: Umbral de correlación absoluta (por defecto, 0.5).\n",
    "\n",
    "  Returns:\n",
    "      Un DataFrame con los pares de variables y su correlación.\n",
    "  \"\"\"\n",
    "\n",
    "  # Calcular la matriz de correlación\n",
    "  corr_matrix = df.corr().abs()  # Calcula la correlación absoluta\n",
    "\n",
    "  # Seleccionar el triángulo superior de la matriz de correlación\n",
    "  upper_triangle = corr_matrix.where(np.triu(np.ones(corr_matrix.shape), k=1).astype(bool))\n",
    "\n",
    "  # Encontrar los pares de variables con correlación mayor o igual al umbral\n",
    "  top_corr_pairs = upper_triangle.unstack().sort_values(ascending=False)\n",
    "  top_corr_pairs = top_corr_pairs[top_corr_pairs >= threshold]\n",
    "\n",
    "  return top_corr_pairs.reset_index()\n",
    "\n",
    "# Supongamos que 'df' es tu DataFrame\n",
    "# Eliminar la columna 'target'\n",
    "df_cluster_0 = df_cluster_0.drop('CompTotal', axis=1)\n",
    "# Calcular las correlaciones\n",
    "top_correlations = get_top_correlations(df_cluster_0, threshold=0.7)  # Puedes ajustar el umbral según tus necesidades\n",
    "\n",
    "# Imprimir los resultados\n",
    "top_correlations"
   ]
  },
  {
   "cell_type": "code",
   "execution_count": 546,
   "metadata": {},
   "outputs": [
    {
     "data": {
      "text/html": [
       "<div>\n",
       "<style scoped>\n",
       "    .dataframe tbody tr th:only-of-type {\n",
       "        vertical-align: middle;\n",
       "    }\n",
       "\n",
       "    .dataframe tbody tr th {\n",
       "        vertical-align: top;\n",
       "    }\n",
       "\n",
       "    .dataframe thead th {\n",
       "        text-align: right;\n",
       "    }\n",
       "</style>\n",
       "<table border=\"1\" class=\"dataframe\">\n",
       "  <thead>\n",
       "    <tr style=\"text-align: right;\">\n",
       "      <th></th>\n",
       "      <th>level_0</th>\n",
       "      <th>level_1</th>\n",
       "      <th>0</th>\n",
       "    </tr>\n",
       "  </thead>\n",
       "  <tbody>\n",
       "    <tr>\n",
       "      <th>0</th>\n",
       "      <td>YearsCodePro</td>\n",
       "      <td>YearsCode</td>\n",
       "      <td>0.913259</td>\n",
       "    </tr>\n",
       "    <tr>\n",
       "      <th>1</th>\n",
       "      <td>AIComplex</td>\n",
       "      <td>AIAcc</td>\n",
       "      <td>0.873621</td>\n",
       "    </tr>\n",
       "    <tr>\n",
       "      <th>2</th>\n",
       "      <td>AISent</td>\n",
       "      <td>AISelect</td>\n",
       "      <td>0.844418</td>\n",
       "    </tr>\n",
       "    <tr>\n",
       "      <th>3</th>\n",
       "      <td>Frequency_2</td>\n",
       "      <td>Frequency_1</td>\n",
       "      <td>0.780972</td>\n",
       "    </tr>\n",
       "    <tr>\n",
       "      <th>4</th>\n",
       "      <td>RemoteWork_Remote</td>\n",
       "      <td>RemoteWork_Hybrid (some remote, some in-person)</td>\n",
       "      <td>0.762458</td>\n",
       "    </tr>\n",
       "    <tr>\n",
       "      <th>5</th>\n",
       "      <td>TimeAnswering</td>\n",
       "      <td>TimeSearching</td>\n",
       "      <td>0.756532</td>\n",
       "    </tr>\n",
       "    <tr>\n",
       "      <th>6</th>\n",
       "      <td>Frequency_3</td>\n",
       "      <td>Frequency_1</td>\n",
       "      <td>0.733768</td>\n",
       "    </tr>\n",
       "    <tr>\n",
       "      <th>7</th>\n",
       "      <td>TimeSearching</td>\n",
       "      <td>Frequency_1</td>\n",
       "      <td>0.708323</td>\n",
       "    </tr>\n",
       "  </tbody>\n",
       "</table>\n",
       "</div>"
      ],
      "text/plain": [
       "             level_0                                          level_1  \\\n",
       "0       YearsCodePro                                        YearsCode   \n",
       "1          AIComplex                                            AIAcc   \n",
       "2             AISent                                         AISelect   \n",
       "3        Frequency_2                                      Frequency_1   \n",
       "4  RemoteWork_Remote  RemoteWork_Hybrid (some remote, some in-person)   \n",
       "5      TimeAnswering                                    TimeSearching   \n",
       "6        Frequency_3                                      Frequency_1   \n",
       "7      TimeSearching                                      Frequency_1   \n",
       "\n",
       "          0  \n",
       "0  0.913259  \n",
       "1  0.873621  \n",
       "2  0.844418  \n",
       "3  0.780972  \n",
       "4  0.762458  \n",
       "5  0.756532  \n",
       "6  0.733768  \n",
       "7  0.708323  "
      ]
     },
     "execution_count": 546,
     "metadata": {},
     "output_type": "execute_result"
    }
   ],
   "source": [
    "top_correlations"
   ]
  },
  {
   "cell_type": "markdown",
   "metadata": {},
   "source": [
    "A raiz de estos resultados, veo conveniente eliminar la columna \"YearsCodePro\" ya que, sin bien es importante porque refleja la cantidad de años que tiene la persona escribiendo código de forma profesional, esa información está ya contenida en YearsCode, que contiene la cantidad de años en total. \n",
    "\n",
    "Respecto de las columnas AIComplex y AIAcc, decido eliminar AIComplex, ya que no está en la encuesta 2023, tan sólo en la 2024, mientras que AIAcc está en ambas. "
   ]
  },
  {
   "cell_type": "markdown",
   "metadata": {},
   "source": [
    "Para ello, debo hacerlo todo desde el principio:"
   ]
  },
  {
   "cell_type": "code",
   "execution_count": 547,
   "metadata": {},
   "outputs": [],
   "source": [
    "# --- Agrupar clústeres 1, 2 y 3 ---\n",
    "df['cluster_grouped'] = df['cluster'].map({0: 0, 1: 1, 2: 1, 3: 1})\n",
    "\n",
    "# Separar los grupos\n",
    "df_cluster_0 = df[df['cluster_grouped'] == 0]\n",
    "df_cluster_1 = df[df['cluster_grouped'] == 1]"
   ]
  },
  {
   "cell_type": "code",
   "execution_count": 548,
   "metadata": {},
   "outputs": [],
   "source": [
    "y_c0 = df_cluster_0['CompTotal']\n",
    "X_c0 = df_cluster_0.drop(['CompTotal', 'cluster', 'cluster_grouped', 'YearsCodePro'], axis=1)"
   ]
  },
  {
   "cell_type": "code",
   "execution_count": 549,
   "metadata": {},
   "outputs": [],
   "source": [
    "# # Dividir en entrenamiento y prueba\n",
    "# X_train_c0, X_test_c0, y_train_c0, y_test_c0 = train_test_split(\n",
    "#     X_c0, y_c0, test_size=0.2, random_state=42\n",
    "# )\n",
    "\n",
    "# # Transformación logarítmica de la variable objetivo\n",
    "# y_train_c0_log = np.log1p(y_train_c0)\n",
    "\n",
    "# # Creacion de variables polinomicas\n",
    "# poly = PolynomialFeatures(degree=2, include_bias=False)\n",
    "# X_train_c0_poly = poly.fit_transform(X_train_c0)\n",
    "# X_test_c0_poly = poly.transform(X_test_c0)\n",
    "\n",
    "# # Escalar las variables predictoras\n",
    "# scaler_c0 = StandardScaler()\n",
    "# X_train_c0_scaled = scaler_c0.fit_transform(X_train_c0_poly)\n",
    "# X_test_c0_scaled = scaler_c0.transform(X_test_c0_poly)"
   ]
  },
  {
   "cell_type": "code",
   "execution_count": 550,
   "metadata": {},
   "outputs": [],
   "source": [
    "# print((X_train_c0).shape)\n",
    "# print((X_test_c0).shape)\n",
    "# print((y_train_c0).shape)\n",
    "# print((y_test_c0).shape)"
   ]
  },
  {
   "cell_type": "code",
   "execution_count": null,
   "metadata": {},
   "outputs": [],
   "source": [
    "# # Crear el modelo LightGBM\n",
    "# lgb_model = lgb.LGBMRegressor(random_state=42, objective='regression')\n",
    "# param_grid = {\n",
    "#     'learning_rate': [0.01, 0.05, 0.1],\n",
    "#     'n_estimators': [50, 100, 200],\n",
    "#     'max_depth': [3, 4, 5],  # -1 significa sin límite\n",
    "#     'num_leaves': [15, 31, 63],  # Número de hojas en un árbol (2^max_depth)\n",
    "#     'colsample_bytree': [0.7, 0.8],\n",
    "#     'subsample': [0.7, 0.8],\n",
    "#     'min_child_samples': [1, 5]\n",
    "# }\n",
    "\n",
    "# grid_search = GridSearchCV(estimator=lgb_model, param_grid=param_grid, cv=3, scoring='neg_mean_squared_error', n_jobs=-1, verbose=2)\n",
    "# grid_search.fit(X_train_c0_scaled, y_train_c0_log)\n",
    "\n",
    "# print(\"Mejores hiperparámetros:\", grid_search.best_params_)\n",
    "# best_lgb_model = grid_search.best_estimator_\n",
    "\n",
    "# y_pred_c0_log = best_lgb_model.predict(X_test_c0_scaled)  \n",
    "# y_pred_c0 = np.expm1(y_pred_c0_log)"
   ]
  },
  {
   "cell_type": "code",
   "execution_count": 552,
   "metadata": {},
   "outputs": [],
   "source": [
    "# # Calcular las métricas de evaluación\n",
    "# mse = mean_squared_error(y_test_c0, y_pred_c0)\n",
    "# rmse = mean_squared_error(y_test_c0, y_pred_c0)\n",
    "# mae = mean_absolute_error(y_test_c0, y_pred_c0)\n",
    "# r2 = r2_score(y_test_c0, y_pred_c0)\n",
    "\n",
    "# print(f\"MSE: {mse:.2f}\")\n",
    "# print(f\"RMSE: {rmse:.2f}\")\n",
    "# print(f\"MAE: {mae:.2f}\")\n",
    "# print(f\"R²: {r2:.2f}\")"
   ]
  },
  {
   "cell_type": "code",
   "execution_count": 553,
   "metadata": {},
   "outputs": [],
   "source": [
    "# --- Agrupar clústeres 1, 2 y 3 ---\n",
    "df['cluster_grouped'] = df['cluster'].map({0: 0, 1: 1, 2: 1, 3: 1})\n",
    "\n",
    "# Separar los grupos\n",
    "df_cluster_0 = df[df['cluster_grouped'] == 0]\n",
    "df_cluster_1 = df[df['cluster_grouped'] == 1]"
   ]
  },
  {
   "cell_type": "code",
   "execution_count": 554,
   "metadata": {},
   "outputs": [],
   "source": [
    "y_c0 = df_cluster_0['CompTotal']\n",
    "X_c0 = df_cluster_0.drop(['CompTotal', 'cluster', 'cluster_grouped', 'YearsCodePro', 'AIComplex'], axis=1)"
   ]
  },
  {
   "cell_type": "code",
   "execution_count": 555,
   "metadata": {},
   "outputs": [],
   "source": [
    "# # Dividir en entrenamiento y prueba\n",
    "# X_train_c0, X_test_c0, y_train_c0, y_test_c0 = train_test_split(\n",
    "#     X_c0, y_c0, test_size=0.2, random_state=42\n",
    "# )\n",
    "\n",
    "# # Transformación logarítmica de la variable objetivo\n",
    "# y_train_c0_log = np.log1p(y_train_c0)\n",
    "\n",
    "# # Creacion de variables polinomicas\n",
    "# poly = PolynomialFeatures(degree=2, include_bias=False)\n",
    "# X_train_c0_poly = poly.fit_transform(X_train_c0)\n",
    "# X_test_c0_poly = poly.transform(X_test_c0)\n",
    "\n",
    "# # Escalar las variables predictoras\n",
    "# scaler_c0 = StandardScaler()\n",
    "# X_train_c0_scaled = scaler_c0.fit_transform(X_train_c0_poly)\n",
    "# X_test_c0_scaled = scaler_c0.transform(X_test_c0_poly)"
   ]
  },
  {
   "cell_type": "code",
   "execution_count": 556,
   "metadata": {},
   "outputs": [],
   "source": [
    "# # Crear un modelo de XGBoost Regressor\n",
    "# # Crear el modelo LightGBM\n",
    "# lgb_model = lgb.LGBMRegressor(random_state=42, objective='regression')\n",
    "# param_grid = {\n",
    "#     'learning_rate': [0.01, 0.05, 0.1],\n",
    "#     'n_estimators': [50, 100, 200],\n",
    "#     'max_depth': [3, 4, 5],  # -1 significa sin límite\n",
    "#     'num_leaves': [15, 31, 63],  # Número de hojas en un árbol (2^max_depth)\n",
    "#     'colsample_bytree': [0.7, 0.8],\n",
    "#     'subsample': [0.7, 0.8],\n",
    "#     'min_child_samples': [1, 5]\n",
    "# }\n",
    "\n",
    "# grid_search = GridSearchCV(estimator=lgb_model, param_grid=param_grid, cv=3, scoring='neg_mean_squared_error', n_jobs=-1, verbose=2)\n",
    "# grid_search.fit(X_train_c0_scaled, y_train_c0_log)\n",
    "\n",
    "# print(\"Mejores hiperparámetros:\", grid_search.best_params_)\n",
    "# best_lgb_model = grid_search.best_estimator_\n",
    "\n",
    "# y_pred_c0_log = best_lgb_model.predict(X_test_c0_scaled)  \n",
    "# y_pred_c0 = np.expm1(y_pred_c0_log)"
   ]
  },
  {
   "cell_type": "code",
   "execution_count": 557,
   "metadata": {},
   "outputs": [],
   "source": [
    "# # Calcular las métricas de evaluación\n",
    "# mse = mean_squared_error(y_test_c0, y_pred_c0)\n",
    "# rmse = mean_squared_error(y_test_c0, y_pred_c0)\n",
    "# mae = mean_absolute_error(y_test_c0, y_pred_c0)\n",
    "# r2 = r2_score(y_test_c0, y_pred_c0)\n",
    "\n",
    "# print(f\"MSE: {mse:.2f}\")\n",
    "# print(f\"RMSE: {rmse:.2f}\")\n",
    "# print(f\"MAE: {mae:.2f}\")\n",
    "# print(f\"R²: {r2:.2f}\")"
   ]
  },
  {
   "cell_type": "markdown",
   "metadata": {},
   "source": [
    "Estas acciones no han funcionado. Sigo probando cosas."
   ]
  },
  {
   "cell_type": "code",
   "execution_count": 558,
   "metadata": {},
   "outputs": [],
   "source": [
    "y_c0 = df_cluster_0['CompTotal']\n",
    "X_c0 = df_cluster_0.drop(['CompTotal', 'cluster', 'cluster_grouped'], axis=1)\n",
    "\n",
    "# Dividir en entrenamiento y prueba\n",
    "X_train_c0, X_test_c0, y_train_c0, y_test_c0 = train_test_split(\n",
    "    X_c0, y_c0, test_size=0.2, random_state=42\n",
    ")\n",
    "\n",
    "# Transformación logarítmica de la variable objetivo\n",
    "y_train_c0_log = np.log1p(y_train_c0)\n",
    "\n",
    "# Creacion de variables polinomicas\n",
    "poly = PolynomialFeatures(degree=2, include_bias=False)\n",
    "X_train_c0_poly = poly.fit_transform(X_train_c0)\n",
    "X_test_c0_poly = poly.transform(X_test_c0)\n",
    "\n",
    "# Escalar las variables predictoras\n",
    "scaler_c0 = StandardScaler()\n",
    "X_train_c0_scaled = scaler_c0.fit_transform(X_train_c0_poly)\n",
    "X_test_c0_scaled = scaler_c0.transform(X_test_c0_poly)"
   ]
  },
  {
   "cell_type": "code",
   "execution_count": null,
   "metadata": {},
   "outputs": [
    {
     "name": "stdout",
     "output_type": "stream",
     "text": [
      "Fitting 3 folds for each of 1 candidates, totalling 3 fits\n",
      "[LightGBM] [Info] Auto-choosing col-wise multi-threading, the overhead of testing was 0.013640 seconds.\n",
      "You can set `force_col_wise=true` to remove the overhead.\n",
      "[LightGBM] [Info] Total Bins 10281\n",
      "[LightGBM] [Info] Number of data points in the train set: 1092, number of used features: 1085\n",
      "[LightGBM] [Info] Start training from score 10.510883\n",
      "[LightGBM] [Warning] No further splits with positive gain, best gain: -inf\n",
      "Mejores hiperparámetros: {'colsample_bytree': 0.7, 'learning_rate': 0.05, 'max_depth': 5, 'min_child_samples': 1, 'n_estimators': 100, 'num_leaves': 15, 'subsample': 0.7}\n",
      "MSE: 107163770.68\n",
      "RMSE: 107163770.68\n",
      "MAE: 8225.66\n",
      "R²: 0.33\n"
     ]
    }
   ],
   "source": [
    "# Entrenamiento directo del modelo con los mejores hiperparámetros\n",
    "import lightgbm as lgb\n",
    "\n",
    "# Configuración del modelo con los hiperparámetros encontrados\n",
    "best_params = {\n",
    "    'colsample_bytree': 0.7,\n",
    "    'learning_rate': 0.05,\n",
    "    'max_depth': 5,\n",
    "    'min_child_samples': 1,\n",
    "    'n_estimators': 100,\n",
    "    'num_leaves': 15,\n",
    "    'subsample': 0.7,\n",
    "    'random_state': 42,\n",
    "    'objective': 'regression'\n",
    "}\n",
    "\n",
    "# Crear el modelo con los parámetros seleccionados\n",
    "lgb_model = lgb.LGBMRegressor(**best_params)\n",
    "\n",
    "# Ajustar el modelo a los datos de entrenamiento\n",
    "lgb_model.fit(X_train_c0_scaled, y_train_c0_log)\n",
    "\n",
    "y_pred_c0_log = lgb_model.predict(X_test_c0_scaled)  \n",
    "y_pred_c0 = np.expm1(y_pred_c0_log)\n",
    "\n",
    "# Calcular las métricas de evaluación\n",
    "mse = mean_squared_error(y_test_c0, y_pred_c0)\n",
    "rmse = mean_squared_error(y_test_c0, y_pred_c0)\n",
    "mae = mean_absolute_error(y_test_c0, y_pred_c0)\n",
    "r2 = r2_score(y_test_c0, y_pred_c0)\n",
    "\n",
    "print(f\"MSE: {mse:.2f}\")\n",
    "print(f\"RMSE: {rmse:.2f}\")\n",
    "print(f\"MAE: {mae:.2f}\")\n",
    "print(f\"R²: {r2:.2f}\")"
   ]
  },
  {
   "cell_type": "code",
   "execution_count": 561,
   "metadata": {},
   "outputs": [
    {
     "data": {
      "text/plain": [
       "1274"
      ]
     },
     "execution_count": 561,
     "metadata": {},
     "output_type": "execute_result"
    }
   ],
   "source": [
    "importances = best_lgb_model.feature_importances_"
   ]
  }
 ],
 "metadata": {
  "kernelspec": {
   "display_name": "proyecto_ml",
   "language": "python",
   "name": "python3"
  },
  "language_info": {
   "codemirror_mode": {
    "name": "ipython",
    "version": 3
   },
   "file_extension": ".py",
   "mimetype": "text/x-python",
   "name": "python",
   "nbconvert_exporter": "python",
   "pygments_lexer": "ipython3",
   "version": "3.10.15"
  }
 },
 "nbformat": 4,
 "nbformat_minor": 2
}
